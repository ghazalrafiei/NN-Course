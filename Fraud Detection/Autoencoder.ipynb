{
  "nbformat": 4,
  "nbformat_minor": 0,
  "metadata": {
    "accelerator": "GPU",
    "colab": {
      "name": "Pr3.ipynb",
      "provenance": [],
      "collapsed_sections": []
    },
    "kernelspec": {
      "display_name": "Python 3",
      "language": "python",
      "name": "python3"
    },
    "widgets": {
      "application/vnd.jupyter.widget-state+json": {
        "50d84edf76d4483597180d2f2ac3b48f": {
          "model_module": "@jupyter-widgets/controls",
          "model_name": "HBoxModel",
          "state": {
            "_view_name": "HBoxView",
            "_dom_classes": [],
            "_model_name": "HBoxModel",
            "_view_module": "@jupyter-widgets/controls",
            "_model_module_version": "1.5.0",
            "_view_count": null,
            "_view_module_version": "1.5.0",
            "box_style": "",
            "layout": "IPY_MODEL_fd7e256167bc4990b26bff74dbcb8b6d",
            "_model_module": "@jupyter-widgets/controls",
            "children": [
              "IPY_MODEL_f27012682535461c9d09d705f2c9648a",
              "IPY_MODEL_edb9a150b2344d6da8356b6b231c8f87"
            ]
          }
        },
        "fd7e256167bc4990b26bff74dbcb8b6d": {
          "model_module": "@jupyter-widgets/base",
          "model_name": "LayoutModel",
          "state": {
            "_view_name": "LayoutView",
            "grid_template_rows": null,
            "right": null,
            "justify_content": null,
            "_view_module": "@jupyter-widgets/base",
            "overflow": null,
            "_model_module_version": "1.2.0",
            "_view_count": null,
            "flex_flow": null,
            "width": null,
            "min_width": null,
            "border": null,
            "align_items": null,
            "bottom": null,
            "_model_module": "@jupyter-widgets/base",
            "top": null,
            "grid_column": null,
            "overflow_y": null,
            "overflow_x": null,
            "grid_auto_flow": null,
            "grid_area": null,
            "grid_template_columns": null,
            "flex": null,
            "_model_name": "LayoutModel",
            "justify_items": null,
            "grid_row": null,
            "max_height": null,
            "align_content": null,
            "visibility": null,
            "align_self": null,
            "height": null,
            "min_height": null,
            "padding": null,
            "grid_auto_rows": null,
            "grid_gap": null,
            "max_width": null,
            "order": null,
            "_view_module_version": "1.2.0",
            "grid_template_areas": null,
            "object_position": null,
            "object_fit": null,
            "grid_auto_columns": null,
            "margin": null,
            "display": null,
            "left": null
          }
        },
        "f27012682535461c9d09d705f2c9648a": {
          "model_module": "@jupyter-widgets/controls",
          "model_name": "FloatProgressModel",
          "state": {
            "_view_name": "ProgressView",
            "style": "IPY_MODEL_64ea0596981347a09e942fe16b74a3dd",
            "_dom_classes": [],
            "description": " 99%",
            "_model_name": "FloatProgressModel",
            "bar_style": "danger",
            "max": 120,
            "_view_module": "@jupyter-widgets/controls",
            "_model_module_version": "1.5.0",
            "value": 119,
            "_view_count": null,
            "_view_module_version": "1.5.0",
            "orientation": "horizontal",
            "min": 0,
            "description_tooltip": null,
            "_model_module": "@jupyter-widgets/controls",
            "layout": "IPY_MODEL_9e022bf00b634824b133695aa3a6e0f7"
          }
        },
        "edb9a150b2344d6da8356b6b231c8f87": {
          "model_module": "@jupyter-widgets/controls",
          "model_name": "HTMLModel",
          "state": {
            "_view_name": "HTMLView",
            "style": "IPY_MODEL_f7020850a4de4709a6c90149eaf3a925",
            "_dom_classes": [],
            "description": "",
            "_model_name": "HTMLModel",
            "placeholder": "​",
            "_view_module": "@jupyter-widgets/controls",
            "_model_module_version": "1.5.0",
            "value": " 119/120 [1:26:29&lt;00:43, 43.04s/it]",
            "_view_count": null,
            "_view_module_version": "1.5.0",
            "description_tooltip": null,
            "_model_module": "@jupyter-widgets/controls",
            "layout": "IPY_MODEL_781865ce63064c619a4bed9165312018"
          }
        },
        "64ea0596981347a09e942fe16b74a3dd": {
          "model_module": "@jupyter-widgets/controls",
          "model_name": "ProgressStyleModel",
          "state": {
            "_view_name": "StyleView",
            "_model_name": "ProgressStyleModel",
            "description_width": "initial",
            "_view_module": "@jupyter-widgets/base",
            "_model_module_version": "1.5.0",
            "_view_count": null,
            "_view_module_version": "1.2.0",
            "bar_color": null,
            "_model_module": "@jupyter-widgets/controls"
          }
        },
        "9e022bf00b634824b133695aa3a6e0f7": {
          "model_module": "@jupyter-widgets/base",
          "model_name": "LayoutModel",
          "state": {
            "_view_name": "LayoutView",
            "grid_template_rows": null,
            "right": null,
            "justify_content": null,
            "_view_module": "@jupyter-widgets/base",
            "overflow": null,
            "_model_module_version": "1.2.0",
            "_view_count": null,
            "flex_flow": null,
            "width": null,
            "min_width": null,
            "border": null,
            "align_items": null,
            "bottom": null,
            "_model_module": "@jupyter-widgets/base",
            "top": null,
            "grid_column": null,
            "overflow_y": null,
            "overflow_x": null,
            "grid_auto_flow": null,
            "grid_area": null,
            "grid_template_columns": null,
            "flex": null,
            "_model_name": "LayoutModel",
            "justify_items": null,
            "grid_row": null,
            "max_height": null,
            "align_content": null,
            "visibility": null,
            "align_self": null,
            "height": null,
            "min_height": null,
            "padding": null,
            "grid_auto_rows": null,
            "grid_gap": null,
            "max_width": null,
            "order": null,
            "_view_module_version": "1.2.0",
            "grid_template_areas": null,
            "object_position": null,
            "object_fit": null,
            "grid_auto_columns": null,
            "margin": null,
            "display": null,
            "left": null
          }
        },
        "f7020850a4de4709a6c90149eaf3a925": {
          "model_module": "@jupyter-widgets/controls",
          "model_name": "DescriptionStyleModel",
          "state": {
            "_view_name": "StyleView",
            "_model_name": "DescriptionStyleModel",
            "description_width": "",
            "_view_module": "@jupyter-widgets/base",
            "_model_module_version": "1.5.0",
            "_view_count": null,
            "_view_module_version": "1.2.0",
            "_model_module": "@jupyter-widgets/controls"
          }
        },
        "781865ce63064c619a4bed9165312018": {
          "model_module": "@jupyter-widgets/base",
          "model_name": "LayoutModel",
          "state": {
            "_view_name": "LayoutView",
            "grid_template_rows": null,
            "right": null,
            "justify_content": null,
            "_view_module": "@jupyter-widgets/base",
            "overflow": null,
            "_model_module_version": "1.2.0",
            "_view_count": null,
            "flex_flow": null,
            "width": null,
            "min_width": null,
            "border": null,
            "align_items": null,
            "bottom": null,
            "_model_module": "@jupyter-widgets/base",
            "top": null,
            "grid_column": null,
            "overflow_y": null,
            "overflow_x": null,
            "grid_auto_flow": null,
            "grid_area": null,
            "grid_template_columns": null,
            "flex": null,
            "_model_name": "LayoutModel",
            "justify_items": null,
            "grid_row": null,
            "max_height": null,
            "align_content": null,
            "visibility": null,
            "align_self": null,
            "height": null,
            "min_height": null,
            "padding": null,
            "grid_auto_rows": null,
            "grid_gap": null,
            "max_width": null,
            "order": null,
            "_view_module_version": "1.2.0",
            "grid_template_areas": null,
            "object_position": null,
            "object_fit": null,
            "grid_auto_columns": null,
            "margin": null,
            "display": null,
            "left": null
          }
        }
      }
    }
  },
  "cells": [
    {
      "cell_type": "markdown",
      "metadata": {
        "id": "u0dCW4zeZGNN"
      },
      "source": [
        "Visualizations are available at: https://colab.research.google.com/drive/1ejOmCYRBFf1YUxyKefgo2U5qQxTevMsw?usp=sharing"
      ]
    },
    {
      "cell_type": "code",
      "metadata": {
        "id": "lra26gK_-iXV"
      },
      "source": [
        "import pandas as pd\n",
        "import sys\n",
        "import torch\n",
        "import numpy as np"
      ],
      "execution_count": 1,
      "outputs": []
    },
    {
      "cell_type": "code",
      "metadata": {
        "id": "FWEJYTn4-nD9"
      },
      "source": [
        "# !unzip '/content/drive/MyDrive/Proj3.zip' -d '/content/drive/MyDrive/Colab Notebooks/Proj3'"
      ],
      "execution_count": 2,
      "outputs": []
    },
    {
      "cell_type": "code",
      "metadata": {
        "colab": {
          "base_uri": "https://localhost:8080/"
        },
        "id": "N8g72Ah3zzFS",
        "outputId": "b88d45f2-3b7c-43a1-e6b2-8d2652e92c15"
      },
      "source": [
        "from google.colab import drive\n",
        "drive.mount('/content/drive')"
      ],
      "execution_count": 3,
      "outputs": [
        {
          "output_type": "stream",
          "text": [
            "Drive already mounted at /content/drive; to attempt to forcibly remount, call drive.mount(\"/content/drive\", force_remount=True).\n"
          ],
          "name": "stdout"
        }
      ]
    },
    {
      "cell_type": "code",
      "metadata": {
        "id": "byf0SVcpAUfQ"
      },
      "source": [
        "df = pd.read_csv('/content/drive/MyDrive/Colab Notebooks/Proj3/Proj3/train_transaction.csv')"
      ],
      "execution_count": 4,
      "outputs": []
    },
    {
      "cell_type": "code",
      "metadata": {
        "colab": {
          "base_uri": "https://localhost:8080/"
        },
        "id": "7gpKPrhwAiMW",
        "outputId": "08e932b1-d2e1-47b4-a055-e30a331541e0"
      },
      "source": [
        "df.shape"
      ],
      "execution_count": 5,
      "outputs": [
        {
          "output_type": "execute_result",
          "data": {
            "text/plain": [
              "(590540, 394)"
            ]
          },
          "metadata": {
            "tags": []
          },
          "execution_count": 5
        }
      ]
    },
    {
      "cell_type": "code",
      "metadata": {
        "id": "1L_1tzdhfRi5"
      },
      "source": [
        "df_id = pd.read_csv('/content/drive/MyDrive/Colab Notebooks/Proj3/Proj3/train_identity.csv')[['TransactionID','DeviceType']]"
      ],
      "execution_count": 6,
      "outputs": []
    },
    {
      "cell_type": "markdown",
      "metadata": {
        "id": "8KRjugCiUHIi"
      },
      "source": [
        "It will be explained why I didn't keep other columns."
      ]
    },
    {
      "cell_type": "markdown",
      "metadata": {
        "id": "ASUlupsAY90i"
      },
      "source": [
        "<h2>Preprocessing:<h2>"
      ]
    },
    {
      "cell_type": "code",
      "metadata": {
        "colab": {
          "base_uri": "https://localhost:8080/"
        },
        "id": "uLyIMtVIfRi7",
        "outputId": "eba16de3-f229-4813-84ec-638837f35741"
      },
      "source": [
        "df_id.shape"
      ],
      "execution_count": 7,
      "outputs": [
        {
          "output_type": "execute_result",
          "data": {
            "text/plain": [
              "(144233, 2)"
            ]
          },
          "metadata": {
            "tags": []
          },
          "execution_count": 7
        }
      ]
    },
    {
      "cell_type": "code",
      "metadata": {
        "colab": {
          "base_uri": "https://localhost:8080/"
        },
        "id": "NMEPxKBt5WhF",
        "outputId": "6eced071-efd5-4dd9-ac53-71e7d380eb91"
      },
      "source": [
        "df_id.columns"
      ],
      "execution_count": 8,
      "outputs": [
        {
          "output_type": "execute_result",
          "data": {
            "text/plain": [
              "Index(['TransactionID', 'DeviceType'], dtype='object')"
            ]
          },
          "metadata": {
            "tags": []
          },
          "execution_count": 8
        }
      ]
    },
    {
      "cell_type": "code",
      "metadata": {
        "colab": {
          "base_uri": "https://localhost:8080/"
        },
        "id": "q8NIPcF0A2Cl",
        "outputId": "3592c459-ec63-4be2-c233-66765a2ced34"
      },
      "source": [
        "sys.getsizeof(df) /1024 / 1024 / 1024"
      ],
      "execution_count": 9,
      "outputs": [
        {
          "output_type": "execute_result",
          "data": {
            "text/plain": [
              "2.051466239616275"
            ]
          },
          "metadata": {
            "tags": []
          },
          "execution_count": 9
        }
      ]
    },
    {
      "cell_type": "code",
      "metadata": {
        "colab": {
          "base_uri": "https://localhost:8080/"
        },
        "id": "zPNteuVCA4R7",
        "outputId": "02afde96-f6b9-4dd6-bbf4-7a642088abde"
      },
      "source": [
        "df.info"
      ],
      "execution_count": 10,
      "outputs": [
        {
          "output_type": "execute_result",
          "data": {
            "text/plain": [
              "<bound method DataFrame.info of         TransactionID  isFraud  TransactionDT  ...  V337 V338  V339\n",
              "0             2987000        0          86400  ...   NaN  NaN   NaN\n",
              "1             2987001        0          86401  ...   NaN  NaN   NaN\n",
              "2             2987002        0          86469  ...   NaN  NaN   NaN\n",
              "3             2987003        0          86499  ...   NaN  NaN   NaN\n",
              "4             2987004        0          86506  ...   0.0  0.0   0.0\n",
              "...               ...      ...            ...  ...   ...  ...   ...\n",
              "590535        3577535        0       15811047  ...   NaN  NaN   NaN\n",
              "590536        3577536        0       15811049  ...   NaN  NaN   NaN\n",
              "590537        3577537        0       15811079  ...   NaN  NaN   NaN\n",
              "590538        3577538        0       15811088  ...   NaN  NaN   NaN\n",
              "590539        3577539        0       15811131  ...   NaN  NaN   NaN\n",
              "\n",
              "[590540 rows x 394 columns]>"
            ]
          },
          "metadata": {
            "tags": []
          },
          "execution_count": 10
        }
      ]
    },
    {
      "cell_type": "code",
      "metadata": {
        "colab": {
          "base_uri": "https://localhost:8080/"
        },
        "id": "AaiJKHLJA9nc",
        "outputId": "4581814f-321d-4cf5-97f0-910fbbd3854c"
      },
      "source": [
        "df.isna().sum()"
      ],
      "execution_count": 11,
      "outputs": [
        {
          "output_type": "execute_result",
          "data": {
            "text/plain": [
              "TransactionID          0\n",
              "isFraud                0\n",
              "TransactionDT          0\n",
              "TransactionAmt         0\n",
              "ProductCD              0\n",
              "                   ...  \n",
              "V335              508189\n",
              "V336              508189\n",
              "V337              508189\n",
              "V338              508189\n",
              "V339              508189\n",
              "Length: 394, dtype: int64"
            ]
          },
          "metadata": {
            "tags": []
          },
          "execution_count": 11
        }
      ]
    },
    {
      "cell_type": "code",
      "metadata": {
        "colab": {
          "base_uri": "https://localhost:8080/"
        },
        "id": "CkkXytdLfRi-",
        "outputId": "7687bf90-b442-4ee7-f79c-694865abba94"
      },
      "source": [
        "df_id.isna().sum()"
      ],
      "execution_count": 12,
      "outputs": [
        {
          "output_type": "execute_result",
          "data": {
            "text/plain": [
              "TransactionID       0\n",
              "DeviceType       3423\n",
              "dtype: int64"
            ]
          },
          "metadata": {
            "tags": []
          },
          "execution_count": 12
        }
      ]
    },
    {
      "cell_type": "code",
      "metadata": {
        "colab": {
          "base_uri": "https://localhost:8080/",
          "height": 191
        },
        "id": "Llk_Py8oE_Kp",
        "outputId": "c57d8bab-d6d7-4e0e-dc88-0081c675749b"
      },
      "source": [
        "df.head(3)"
      ],
      "execution_count": 13,
      "outputs": [
        {
          "output_type": "execute_result",
          "data": {
            "text/html": [
              "<div>\n",
              "<style scoped>\n",
              "    .dataframe tbody tr th:only-of-type {\n",
              "        vertical-align: middle;\n",
              "    }\n",
              "\n",
              "    .dataframe tbody tr th {\n",
              "        vertical-align: top;\n",
              "    }\n",
              "\n",
              "    .dataframe thead th {\n",
              "        text-align: right;\n",
              "    }\n",
              "</style>\n",
              "<table border=\"1\" class=\"dataframe\">\n",
              "  <thead>\n",
              "    <tr style=\"text-align: right;\">\n",
              "      <th></th>\n",
              "      <th>TransactionID</th>\n",
              "      <th>isFraud</th>\n",
              "      <th>TransactionDT</th>\n",
              "      <th>TransactionAmt</th>\n",
              "      <th>ProductCD</th>\n",
              "      <th>card1</th>\n",
              "      <th>card2</th>\n",
              "      <th>card3</th>\n",
              "      <th>card4</th>\n",
              "      <th>card5</th>\n",
              "      <th>card6</th>\n",
              "      <th>addr1</th>\n",
              "      <th>addr2</th>\n",
              "      <th>dist1</th>\n",
              "      <th>dist2</th>\n",
              "      <th>P_emaildomain</th>\n",
              "      <th>R_emaildomain</th>\n",
              "      <th>C1</th>\n",
              "      <th>C2</th>\n",
              "      <th>C3</th>\n",
              "      <th>C4</th>\n",
              "      <th>C5</th>\n",
              "      <th>C6</th>\n",
              "      <th>C7</th>\n",
              "      <th>C8</th>\n",
              "      <th>C9</th>\n",
              "      <th>C10</th>\n",
              "      <th>C11</th>\n",
              "      <th>C12</th>\n",
              "      <th>C13</th>\n",
              "      <th>C14</th>\n",
              "      <th>D1</th>\n",
              "      <th>D2</th>\n",
              "      <th>D3</th>\n",
              "      <th>D4</th>\n",
              "      <th>D5</th>\n",
              "      <th>D6</th>\n",
              "      <th>D7</th>\n",
              "      <th>D8</th>\n",
              "      <th>D9</th>\n",
              "      <th>...</th>\n",
              "      <th>V300</th>\n",
              "      <th>V301</th>\n",
              "      <th>V302</th>\n",
              "      <th>V303</th>\n",
              "      <th>V304</th>\n",
              "      <th>V305</th>\n",
              "      <th>V306</th>\n",
              "      <th>V307</th>\n",
              "      <th>V308</th>\n",
              "      <th>V309</th>\n",
              "      <th>V310</th>\n",
              "      <th>V311</th>\n",
              "      <th>V312</th>\n",
              "      <th>V313</th>\n",
              "      <th>V314</th>\n",
              "      <th>V315</th>\n",
              "      <th>V316</th>\n",
              "      <th>V317</th>\n",
              "      <th>V318</th>\n",
              "      <th>V319</th>\n",
              "      <th>V320</th>\n",
              "      <th>V321</th>\n",
              "      <th>V322</th>\n",
              "      <th>V323</th>\n",
              "      <th>V324</th>\n",
              "      <th>V325</th>\n",
              "      <th>V326</th>\n",
              "      <th>V327</th>\n",
              "      <th>V328</th>\n",
              "      <th>V329</th>\n",
              "      <th>V330</th>\n",
              "      <th>V331</th>\n",
              "      <th>V332</th>\n",
              "      <th>V333</th>\n",
              "      <th>V334</th>\n",
              "      <th>V335</th>\n",
              "      <th>V336</th>\n",
              "      <th>V337</th>\n",
              "      <th>V338</th>\n",
              "      <th>V339</th>\n",
              "    </tr>\n",
              "  </thead>\n",
              "  <tbody>\n",
              "    <tr>\n",
              "      <th>0</th>\n",
              "      <td>2987000</td>\n",
              "      <td>0</td>\n",
              "      <td>86400</td>\n",
              "      <td>68.5</td>\n",
              "      <td>W</td>\n",
              "      <td>13926</td>\n",
              "      <td>NaN</td>\n",
              "      <td>150.0</td>\n",
              "      <td>discover</td>\n",
              "      <td>142.0</td>\n",
              "      <td>credit</td>\n",
              "      <td>315.0</td>\n",
              "      <td>87.0</td>\n",
              "      <td>19.0</td>\n",
              "      <td>NaN</td>\n",
              "      <td>NaN</td>\n",
              "      <td>NaN</td>\n",
              "      <td>1.0</td>\n",
              "      <td>1.0</td>\n",
              "      <td>0.0</td>\n",
              "      <td>0.0</td>\n",
              "      <td>0.0</td>\n",
              "      <td>1.0</td>\n",
              "      <td>0.0</td>\n",
              "      <td>0.0</td>\n",
              "      <td>1.0</td>\n",
              "      <td>0.0</td>\n",
              "      <td>2.0</td>\n",
              "      <td>0.0</td>\n",
              "      <td>1.0</td>\n",
              "      <td>1.0</td>\n",
              "      <td>14.0</td>\n",
              "      <td>NaN</td>\n",
              "      <td>13.0</td>\n",
              "      <td>NaN</td>\n",
              "      <td>NaN</td>\n",
              "      <td>NaN</td>\n",
              "      <td>NaN</td>\n",
              "      <td>NaN</td>\n",
              "      <td>NaN</td>\n",
              "      <td>...</td>\n",
              "      <td>0.0</td>\n",
              "      <td>0.0</td>\n",
              "      <td>0.0</td>\n",
              "      <td>0.0</td>\n",
              "      <td>0.0</td>\n",
              "      <td>1.0</td>\n",
              "      <td>0.0</td>\n",
              "      <td>117.0</td>\n",
              "      <td>0.0</td>\n",
              "      <td>0.0</td>\n",
              "      <td>0.0</td>\n",
              "      <td>0.0</td>\n",
              "      <td>0.0</td>\n",
              "      <td>0.0</td>\n",
              "      <td>0.0</td>\n",
              "      <td>0.0</td>\n",
              "      <td>0.0</td>\n",
              "      <td>117.0</td>\n",
              "      <td>0.0</td>\n",
              "      <td>0.0</td>\n",
              "      <td>0.0</td>\n",
              "      <td>0.0</td>\n",
              "      <td>NaN</td>\n",
              "      <td>NaN</td>\n",
              "      <td>NaN</td>\n",
              "      <td>NaN</td>\n",
              "      <td>NaN</td>\n",
              "      <td>NaN</td>\n",
              "      <td>NaN</td>\n",
              "      <td>NaN</td>\n",
              "      <td>NaN</td>\n",
              "      <td>NaN</td>\n",
              "      <td>NaN</td>\n",
              "      <td>NaN</td>\n",
              "      <td>NaN</td>\n",
              "      <td>NaN</td>\n",
              "      <td>NaN</td>\n",
              "      <td>NaN</td>\n",
              "      <td>NaN</td>\n",
              "      <td>NaN</td>\n",
              "    </tr>\n",
              "    <tr>\n",
              "      <th>1</th>\n",
              "      <td>2987001</td>\n",
              "      <td>0</td>\n",
              "      <td>86401</td>\n",
              "      <td>29.0</td>\n",
              "      <td>W</td>\n",
              "      <td>2755</td>\n",
              "      <td>404.0</td>\n",
              "      <td>150.0</td>\n",
              "      <td>mastercard</td>\n",
              "      <td>102.0</td>\n",
              "      <td>credit</td>\n",
              "      <td>325.0</td>\n",
              "      <td>87.0</td>\n",
              "      <td>NaN</td>\n",
              "      <td>NaN</td>\n",
              "      <td>gmail.com</td>\n",
              "      <td>NaN</td>\n",
              "      <td>1.0</td>\n",
              "      <td>1.0</td>\n",
              "      <td>0.0</td>\n",
              "      <td>0.0</td>\n",
              "      <td>0.0</td>\n",
              "      <td>1.0</td>\n",
              "      <td>0.0</td>\n",
              "      <td>0.0</td>\n",
              "      <td>0.0</td>\n",
              "      <td>0.0</td>\n",
              "      <td>1.0</td>\n",
              "      <td>0.0</td>\n",
              "      <td>1.0</td>\n",
              "      <td>1.0</td>\n",
              "      <td>0.0</td>\n",
              "      <td>NaN</td>\n",
              "      <td>NaN</td>\n",
              "      <td>0.0</td>\n",
              "      <td>NaN</td>\n",
              "      <td>NaN</td>\n",
              "      <td>NaN</td>\n",
              "      <td>NaN</td>\n",
              "      <td>NaN</td>\n",
              "      <td>...</td>\n",
              "      <td>0.0</td>\n",
              "      <td>0.0</td>\n",
              "      <td>0.0</td>\n",
              "      <td>0.0</td>\n",
              "      <td>0.0</td>\n",
              "      <td>1.0</td>\n",
              "      <td>0.0</td>\n",
              "      <td>0.0</td>\n",
              "      <td>0.0</td>\n",
              "      <td>0.0</td>\n",
              "      <td>0.0</td>\n",
              "      <td>0.0</td>\n",
              "      <td>0.0</td>\n",
              "      <td>0.0</td>\n",
              "      <td>0.0</td>\n",
              "      <td>0.0</td>\n",
              "      <td>0.0</td>\n",
              "      <td>0.0</td>\n",
              "      <td>0.0</td>\n",
              "      <td>0.0</td>\n",
              "      <td>0.0</td>\n",
              "      <td>0.0</td>\n",
              "      <td>NaN</td>\n",
              "      <td>NaN</td>\n",
              "      <td>NaN</td>\n",
              "      <td>NaN</td>\n",
              "      <td>NaN</td>\n",
              "      <td>NaN</td>\n",
              "      <td>NaN</td>\n",
              "      <td>NaN</td>\n",
              "      <td>NaN</td>\n",
              "      <td>NaN</td>\n",
              "      <td>NaN</td>\n",
              "      <td>NaN</td>\n",
              "      <td>NaN</td>\n",
              "      <td>NaN</td>\n",
              "      <td>NaN</td>\n",
              "      <td>NaN</td>\n",
              "      <td>NaN</td>\n",
              "      <td>NaN</td>\n",
              "    </tr>\n",
              "    <tr>\n",
              "      <th>2</th>\n",
              "      <td>2987002</td>\n",
              "      <td>0</td>\n",
              "      <td>86469</td>\n",
              "      <td>59.0</td>\n",
              "      <td>W</td>\n",
              "      <td>4663</td>\n",
              "      <td>490.0</td>\n",
              "      <td>150.0</td>\n",
              "      <td>visa</td>\n",
              "      <td>166.0</td>\n",
              "      <td>debit</td>\n",
              "      <td>330.0</td>\n",
              "      <td>87.0</td>\n",
              "      <td>287.0</td>\n",
              "      <td>NaN</td>\n",
              "      <td>outlook.com</td>\n",
              "      <td>NaN</td>\n",
              "      <td>1.0</td>\n",
              "      <td>1.0</td>\n",
              "      <td>0.0</td>\n",
              "      <td>0.0</td>\n",
              "      <td>0.0</td>\n",
              "      <td>1.0</td>\n",
              "      <td>0.0</td>\n",
              "      <td>0.0</td>\n",
              "      <td>1.0</td>\n",
              "      <td>0.0</td>\n",
              "      <td>1.0</td>\n",
              "      <td>0.0</td>\n",
              "      <td>1.0</td>\n",
              "      <td>1.0</td>\n",
              "      <td>0.0</td>\n",
              "      <td>NaN</td>\n",
              "      <td>NaN</td>\n",
              "      <td>0.0</td>\n",
              "      <td>NaN</td>\n",
              "      <td>NaN</td>\n",
              "      <td>NaN</td>\n",
              "      <td>NaN</td>\n",
              "      <td>NaN</td>\n",
              "      <td>...</td>\n",
              "      <td>0.0</td>\n",
              "      <td>0.0</td>\n",
              "      <td>0.0</td>\n",
              "      <td>0.0</td>\n",
              "      <td>0.0</td>\n",
              "      <td>1.0</td>\n",
              "      <td>0.0</td>\n",
              "      <td>0.0</td>\n",
              "      <td>0.0</td>\n",
              "      <td>0.0</td>\n",
              "      <td>0.0</td>\n",
              "      <td>0.0</td>\n",
              "      <td>0.0</td>\n",
              "      <td>0.0</td>\n",
              "      <td>0.0</td>\n",
              "      <td>0.0</td>\n",
              "      <td>0.0</td>\n",
              "      <td>0.0</td>\n",
              "      <td>0.0</td>\n",
              "      <td>0.0</td>\n",
              "      <td>0.0</td>\n",
              "      <td>0.0</td>\n",
              "      <td>NaN</td>\n",
              "      <td>NaN</td>\n",
              "      <td>NaN</td>\n",
              "      <td>NaN</td>\n",
              "      <td>NaN</td>\n",
              "      <td>NaN</td>\n",
              "      <td>NaN</td>\n",
              "      <td>NaN</td>\n",
              "      <td>NaN</td>\n",
              "      <td>NaN</td>\n",
              "      <td>NaN</td>\n",
              "      <td>NaN</td>\n",
              "      <td>NaN</td>\n",
              "      <td>NaN</td>\n",
              "      <td>NaN</td>\n",
              "      <td>NaN</td>\n",
              "      <td>NaN</td>\n",
              "      <td>NaN</td>\n",
              "    </tr>\n",
              "  </tbody>\n",
              "</table>\n",
              "<p>3 rows × 394 columns</p>\n",
              "</div>"
            ],
            "text/plain": [
              "   TransactionID  isFraud  TransactionDT  ...  V337 V338  V339\n",
              "0        2987000        0          86400  ...   NaN  NaN   NaN\n",
              "1        2987001        0          86401  ...   NaN  NaN   NaN\n",
              "2        2987002        0          86469  ...   NaN  NaN   NaN\n",
              "\n",
              "[3 rows x 394 columns]"
            ]
          },
          "metadata": {
            "tags": []
          },
          "execution_count": 13
        }
      ]
    },
    {
      "cell_type": "code",
      "metadata": {
        "colab": {
          "base_uri": "https://localhost:8080/",
          "height": 142
        },
        "id": "0oFjuyULM2Fj",
        "outputId": "db896a16-f9fa-4e48-bec2-7f37fd0964ba"
      },
      "source": [
        "df_id.head(3)"
      ],
      "execution_count": 14,
      "outputs": [
        {
          "output_type": "execute_result",
          "data": {
            "text/html": [
              "<div>\n",
              "<style scoped>\n",
              "    .dataframe tbody tr th:only-of-type {\n",
              "        vertical-align: middle;\n",
              "    }\n",
              "\n",
              "    .dataframe tbody tr th {\n",
              "        vertical-align: top;\n",
              "    }\n",
              "\n",
              "    .dataframe thead th {\n",
              "        text-align: right;\n",
              "    }\n",
              "</style>\n",
              "<table border=\"1\" class=\"dataframe\">\n",
              "  <thead>\n",
              "    <tr style=\"text-align: right;\">\n",
              "      <th></th>\n",
              "      <th>TransactionID</th>\n",
              "      <th>DeviceType</th>\n",
              "    </tr>\n",
              "  </thead>\n",
              "  <tbody>\n",
              "    <tr>\n",
              "      <th>0</th>\n",
              "      <td>2987004</td>\n",
              "      <td>mobile</td>\n",
              "    </tr>\n",
              "    <tr>\n",
              "      <th>1</th>\n",
              "      <td>2987008</td>\n",
              "      <td>mobile</td>\n",
              "    </tr>\n",
              "    <tr>\n",
              "      <th>2</th>\n",
              "      <td>2987010</td>\n",
              "      <td>desktop</td>\n",
              "    </tr>\n",
              "  </tbody>\n",
              "</table>\n",
              "</div>"
            ],
            "text/plain": [
              "   TransactionID DeviceType\n",
              "0        2987004     mobile\n",
              "1        2987008     mobile\n",
              "2        2987010    desktop"
            ]
          },
          "metadata": {
            "tags": []
          },
          "execution_count": 14
        }
      ]
    },
    {
      "cell_type": "code",
      "metadata": {
        "colab": {
          "base_uri": "https://localhost:8080/"
        },
        "id": "mO5kaA1CFHv1",
        "outputId": "282cb00e-3262-4f5e-aff8-dadf808239b6"
      },
      "source": [
        "len(np.intersect1d(df['TransactionID'],df_id['TransactionID']))"
      ],
      "execution_count": 15,
      "outputs": [
        {
          "output_type": "execute_result",
          "data": {
            "text/plain": [
              "144233"
            ]
          },
          "metadata": {
            "tags": []
          },
          "execution_count": 15
        }
      ]
    },
    {
      "cell_type": "code",
      "metadata": {
        "colab": {
          "base_uri": "https://localhost:8080/"
        },
        "id": "sq8qUDWWfRi_",
        "outputId": "f9e5718d-9509-4e74-b779-03a6f5b96e1e"
      },
      "source": [
        "df_id['DeviceType'].unique()"
      ],
      "execution_count": 16,
      "outputs": [
        {
          "output_type": "execute_result",
          "data": {
            "text/plain": [
              "array(['mobile', 'desktop', nan], dtype=object)"
            ]
          },
          "metadata": {
            "tags": []
          },
          "execution_count": 16
        }
      ]
    },
    {
      "cell_type": "markdown",
      "metadata": {
        "id": "0qdszdSCgiin"
      },
      "source": [
        "Outer join on both dataframes to have all rows."
      ]
    },
    {
      "cell_type": "code",
      "metadata": {
        "id": "YH_UKDjhfRjB"
      },
      "source": [
        "df = pd.merge(df,df_id,on='TransactionID',how='outer')"
      ],
      "execution_count": 17,
      "outputs": []
    },
    {
      "cell_type": "code",
      "metadata": {
        "id": "zQJULP7QfRjB"
      },
      "source": [
        "#To free memory capacity\n",
        "del df_id"
      ],
      "execution_count": 18,
      "outputs": []
    },
    {
      "cell_type": "code",
      "metadata": {
        "colab": {
          "base_uri": "https://localhost:8080/"
        },
        "id": "R4IIujuifRjB",
        "outputId": "3e4b3a61-abf5-4fab-95a3-f5f45b1d71ba"
      },
      "source": [
        "df.shape"
      ],
      "execution_count": 19,
      "outputs": [
        {
          "output_type": "execute_result",
          "data": {
            "text/plain": [
              "(590540, 395)"
            ]
          },
          "metadata": {
            "tags": []
          },
          "execution_count": 19
        }
      ]
    },
    {
      "cell_type": "markdown",
      "metadata": {
        "id": "AKDprIpNfRjC"
      },
      "source": [
        "Are not matched. So we have to join them on TransactionID"
      ]
    },
    {
      "cell_type": "code",
      "metadata": {
        "colab": {
          "base_uri": "https://localhost:8080/"
        },
        "id": "Lt7fJUm0ZS0w",
        "outputId": "758f9507-d51c-49c1-e1d3-89bd5ac889cd"
      },
      "source": [
        "df['isFraud'].value_counts()"
      ],
      "execution_count": 20,
      "outputs": [
        {
          "output_type": "execute_result",
          "data": {
            "text/plain": [
              "0    569877\n",
              "1     20663\n",
              "Name: isFraud, dtype: int64"
            ]
          },
          "metadata": {
            "tags": []
          },
          "execution_count": 20
        }
      ]
    },
    {
      "cell_type": "code",
      "metadata": {
        "id": "YvzRzMQzbVqk"
      },
      "source": [
        "target = df['isFraud']"
      ],
      "execution_count": 21,
      "outputs": []
    },
    {
      "cell_type": "markdown",
      "metadata": {
        "id": "0erT_VcqckcT"
      },
      "source": [
        "that is already normalized\n",
        "cuz it's only 0,1"
      ]
    },
    {
      "cell_type": "code",
      "metadata": {
        "id": "yJ32BplwBlLZ"
      },
      "source": [
        "df.drop(labels=['isFraud','TransactionID'],axis = 1,inplace = True)"
      ],
      "execution_count": 22,
      "outputs": []
    },
    {
      "cell_type": "code",
      "metadata": {
        "id": "prHDLmtZBLdG"
      },
      "source": [
        "#Onehot enocoding to transform categorical columns to numeric\n",
        "df = pd.get_dummies(df)"
      ],
      "execution_count": 23,
      "outputs": []
    },
    {
      "cell_type": "code",
      "metadata": {
        "colab": {
          "base_uri": "https://localhost:8080/",
          "height": 208
        },
        "id": "u4tOprxsOWp5",
        "outputId": "130782a1-8e3b-4c11-c1eb-9909090671ef"
      },
      "source": [
        "df.head(3)"
      ],
      "execution_count": 24,
      "outputs": [
        {
          "output_type": "execute_result",
          "data": {
            "text/html": [
              "<div>\n",
              "<style scoped>\n",
              "    .dataframe tbody tr th:only-of-type {\n",
              "        vertical-align: middle;\n",
              "    }\n",
              "\n",
              "    .dataframe tbody tr th {\n",
              "        vertical-align: top;\n",
              "    }\n",
              "\n",
              "    .dataframe thead th {\n",
              "        text-align: right;\n",
              "    }\n",
              "</style>\n",
              "<table border=\"1\" class=\"dataframe\">\n",
              "  <thead>\n",
              "    <tr style=\"text-align: right;\">\n",
              "      <th></th>\n",
              "      <th>TransactionDT</th>\n",
              "      <th>TransactionAmt</th>\n",
              "      <th>card1</th>\n",
              "      <th>card2</th>\n",
              "      <th>card3</th>\n",
              "      <th>card5</th>\n",
              "      <th>addr1</th>\n",
              "      <th>addr2</th>\n",
              "      <th>dist1</th>\n",
              "      <th>dist2</th>\n",
              "      <th>C1</th>\n",
              "      <th>C2</th>\n",
              "      <th>C3</th>\n",
              "      <th>C4</th>\n",
              "      <th>C5</th>\n",
              "      <th>C6</th>\n",
              "      <th>C7</th>\n",
              "      <th>C8</th>\n",
              "      <th>C9</th>\n",
              "      <th>C10</th>\n",
              "      <th>C11</th>\n",
              "      <th>C12</th>\n",
              "      <th>C13</th>\n",
              "      <th>C14</th>\n",
              "      <th>D1</th>\n",
              "      <th>D2</th>\n",
              "      <th>D3</th>\n",
              "      <th>D4</th>\n",
              "      <th>D5</th>\n",
              "      <th>D6</th>\n",
              "      <th>D7</th>\n",
              "      <th>D8</th>\n",
              "      <th>D9</th>\n",
              "      <th>D10</th>\n",
              "      <th>D11</th>\n",
              "      <th>D12</th>\n",
              "      <th>D13</th>\n",
              "      <th>D14</th>\n",
              "      <th>D15</th>\n",
              "      <th>V1</th>\n",
              "      <th>...</th>\n",
              "      <th>R_emaildomain_roadrunner.com</th>\n",
              "      <th>R_emaildomain_rocketmail.com</th>\n",
              "      <th>R_emaildomain_sbcglobal.net</th>\n",
              "      <th>R_emaildomain_sc.rr.com</th>\n",
              "      <th>R_emaildomain_scranton.edu</th>\n",
              "      <th>R_emaildomain_servicios-ta.com</th>\n",
              "      <th>R_emaildomain_suddenlink.net</th>\n",
              "      <th>R_emaildomain_twc.com</th>\n",
              "      <th>R_emaildomain_verizon.net</th>\n",
              "      <th>R_emaildomain_web.de</th>\n",
              "      <th>R_emaildomain_windstream.net</th>\n",
              "      <th>R_emaildomain_yahoo.co.jp</th>\n",
              "      <th>R_emaildomain_yahoo.co.uk</th>\n",
              "      <th>R_emaildomain_yahoo.com</th>\n",
              "      <th>R_emaildomain_yahoo.com.mx</th>\n",
              "      <th>R_emaildomain_yahoo.de</th>\n",
              "      <th>R_emaildomain_yahoo.es</th>\n",
              "      <th>R_emaildomain_yahoo.fr</th>\n",
              "      <th>R_emaildomain_ymail.com</th>\n",
              "      <th>M1_F</th>\n",
              "      <th>M1_T</th>\n",
              "      <th>M2_F</th>\n",
              "      <th>M2_T</th>\n",
              "      <th>M3_F</th>\n",
              "      <th>M3_T</th>\n",
              "      <th>M4_M0</th>\n",
              "      <th>M4_M1</th>\n",
              "      <th>M4_M2</th>\n",
              "      <th>M5_F</th>\n",
              "      <th>M5_T</th>\n",
              "      <th>M6_F</th>\n",
              "      <th>M6_T</th>\n",
              "      <th>M7_F</th>\n",
              "      <th>M7_T</th>\n",
              "      <th>M8_F</th>\n",
              "      <th>M8_T</th>\n",
              "      <th>M9_F</th>\n",
              "      <th>M9_T</th>\n",
              "      <th>DeviceType_desktop</th>\n",
              "      <th>DeviceType_mobile</th>\n",
              "    </tr>\n",
              "  </thead>\n",
              "  <tbody>\n",
              "    <tr>\n",
              "      <th>0</th>\n",
              "      <td>86400</td>\n",
              "      <td>68.5</td>\n",
              "      <td>13926</td>\n",
              "      <td>NaN</td>\n",
              "      <td>150.0</td>\n",
              "      <td>142.0</td>\n",
              "      <td>315.0</td>\n",
              "      <td>87.0</td>\n",
              "      <td>19.0</td>\n",
              "      <td>NaN</td>\n",
              "      <td>1.0</td>\n",
              "      <td>1.0</td>\n",
              "      <td>0.0</td>\n",
              "      <td>0.0</td>\n",
              "      <td>0.0</td>\n",
              "      <td>1.0</td>\n",
              "      <td>0.0</td>\n",
              "      <td>0.0</td>\n",
              "      <td>1.0</td>\n",
              "      <td>0.0</td>\n",
              "      <td>2.0</td>\n",
              "      <td>0.0</td>\n",
              "      <td>1.0</td>\n",
              "      <td>1.0</td>\n",
              "      <td>14.0</td>\n",
              "      <td>NaN</td>\n",
              "      <td>13.0</td>\n",
              "      <td>NaN</td>\n",
              "      <td>NaN</td>\n",
              "      <td>NaN</td>\n",
              "      <td>NaN</td>\n",
              "      <td>NaN</td>\n",
              "      <td>NaN</td>\n",
              "      <td>13.0</td>\n",
              "      <td>13.0</td>\n",
              "      <td>NaN</td>\n",
              "      <td>NaN</td>\n",
              "      <td>NaN</td>\n",
              "      <td>0.0</td>\n",
              "      <td>1.0</td>\n",
              "      <td>...</td>\n",
              "      <td>0</td>\n",
              "      <td>0</td>\n",
              "      <td>0</td>\n",
              "      <td>0</td>\n",
              "      <td>0</td>\n",
              "      <td>0</td>\n",
              "      <td>0</td>\n",
              "      <td>0</td>\n",
              "      <td>0</td>\n",
              "      <td>0</td>\n",
              "      <td>0</td>\n",
              "      <td>0</td>\n",
              "      <td>0</td>\n",
              "      <td>0</td>\n",
              "      <td>0</td>\n",
              "      <td>0</td>\n",
              "      <td>0</td>\n",
              "      <td>0</td>\n",
              "      <td>0</td>\n",
              "      <td>0</td>\n",
              "      <td>1</td>\n",
              "      <td>0</td>\n",
              "      <td>1</td>\n",
              "      <td>0</td>\n",
              "      <td>1</td>\n",
              "      <td>0</td>\n",
              "      <td>0</td>\n",
              "      <td>1</td>\n",
              "      <td>1</td>\n",
              "      <td>0</td>\n",
              "      <td>0</td>\n",
              "      <td>1</td>\n",
              "      <td>0</td>\n",
              "      <td>0</td>\n",
              "      <td>0</td>\n",
              "      <td>0</td>\n",
              "      <td>0</td>\n",
              "      <td>0</td>\n",
              "      <td>0</td>\n",
              "      <td>0</td>\n",
              "    </tr>\n",
              "    <tr>\n",
              "      <th>1</th>\n",
              "      <td>86401</td>\n",
              "      <td>29.0</td>\n",
              "      <td>2755</td>\n",
              "      <td>404.0</td>\n",
              "      <td>150.0</td>\n",
              "      <td>102.0</td>\n",
              "      <td>325.0</td>\n",
              "      <td>87.0</td>\n",
              "      <td>NaN</td>\n",
              "      <td>NaN</td>\n",
              "      <td>1.0</td>\n",
              "      <td>1.0</td>\n",
              "      <td>0.0</td>\n",
              "      <td>0.0</td>\n",
              "      <td>0.0</td>\n",
              "      <td>1.0</td>\n",
              "      <td>0.0</td>\n",
              "      <td>0.0</td>\n",
              "      <td>0.0</td>\n",
              "      <td>0.0</td>\n",
              "      <td>1.0</td>\n",
              "      <td>0.0</td>\n",
              "      <td>1.0</td>\n",
              "      <td>1.0</td>\n",
              "      <td>0.0</td>\n",
              "      <td>NaN</td>\n",
              "      <td>NaN</td>\n",
              "      <td>0.0</td>\n",
              "      <td>NaN</td>\n",
              "      <td>NaN</td>\n",
              "      <td>NaN</td>\n",
              "      <td>NaN</td>\n",
              "      <td>NaN</td>\n",
              "      <td>0.0</td>\n",
              "      <td>NaN</td>\n",
              "      <td>NaN</td>\n",
              "      <td>NaN</td>\n",
              "      <td>NaN</td>\n",
              "      <td>0.0</td>\n",
              "      <td>NaN</td>\n",
              "      <td>...</td>\n",
              "      <td>0</td>\n",
              "      <td>0</td>\n",
              "      <td>0</td>\n",
              "      <td>0</td>\n",
              "      <td>0</td>\n",
              "      <td>0</td>\n",
              "      <td>0</td>\n",
              "      <td>0</td>\n",
              "      <td>0</td>\n",
              "      <td>0</td>\n",
              "      <td>0</td>\n",
              "      <td>0</td>\n",
              "      <td>0</td>\n",
              "      <td>0</td>\n",
              "      <td>0</td>\n",
              "      <td>0</td>\n",
              "      <td>0</td>\n",
              "      <td>0</td>\n",
              "      <td>0</td>\n",
              "      <td>0</td>\n",
              "      <td>0</td>\n",
              "      <td>0</td>\n",
              "      <td>0</td>\n",
              "      <td>0</td>\n",
              "      <td>0</td>\n",
              "      <td>1</td>\n",
              "      <td>0</td>\n",
              "      <td>0</td>\n",
              "      <td>0</td>\n",
              "      <td>1</td>\n",
              "      <td>0</td>\n",
              "      <td>1</td>\n",
              "      <td>0</td>\n",
              "      <td>0</td>\n",
              "      <td>0</td>\n",
              "      <td>0</td>\n",
              "      <td>0</td>\n",
              "      <td>0</td>\n",
              "      <td>0</td>\n",
              "      <td>0</td>\n",
              "    </tr>\n",
              "    <tr>\n",
              "      <th>2</th>\n",
              "      <td>86469</td>\n",
              "      <td>59.0</td>\n",
              "      <td>4663</td>\n",
              "      <td>490.0</td>\n",
              "      <td>150.0</td>\n",
              "      <td>166.0</td>\n",
              "      <td>330.0</td>\n",
              "      <td>87.0</td>\n",
              "      <td>287.0</td>\n",
              "      <td>NaN</td>\n",
              "      <td>1.0</td>\n",
              "      <td>1.0</td>\n",
              "      <td>0.0</td>\n",
              "      <td>0.0</td>\n",
              "      <td>0.0</td>\n",
              "      <td>1.0</td>\n",
              "      <td>0.0</td>\n",
              "      <td>0.0</td>\n",
              "      <td>1.0</td>\n",
              "      <td>0.0</td>\n",
              "      <td>1.0</td>\n",
              "      <td>0.0</td>\n",
              "      <td>1.0</td>\n",
              "      <td>1.0</td>\n",
              "      <td>0.0</td>\n",
              "      <td>NaN</td>\n",
              "      <td>NaN</td>\n",
              "      <td>0.0</td>\n",
              "      <td>NaN</td>\n",
              "      <td>NaN</td>\n",
              "      <td>NaN</td>\n",
              "      <td>NaN</td>\n",
              "      <td>NaN</td>\n",
              "      <td>0.0</td>\n",
              "      <td>315.0</td>\n",
              "      <td>NaN</td>\n",
              "      <td>NaN</td>\n",
              "      <td>NaN</td>\n",
              "      <td>315.0</td>\n",
              "      <td>1.0</td>\n",
              "      <td>...</td>\n",
              "      <td>0</td>\n",
              "      <td>0</td>\n",
              "      <td>0</td>\n",
              "      <td>0</td>\n",
              "      <td>0</td>\n",
              "      <td>0</td>\n",
              "      <td>0</td>\n",
              "      <td>0</td>\n",
              "      <td>0</td>\n",
              "      <td>0</td>\n",
              "      <td>0</td>\n",
              "      <td>0</td>\n",
              "      <td>0</td>\n",
              "      <td>0</td>\n",
              "      <td>0</td>\n",
              "      <td>0</td>\n",
              "      <td>0</td>\n",
              "      <td>0</td>\n",
              "      <td>0</td>\n",
              "      <td>0</td>\n",
              "      <td>1</td>\n",
              "      <td>0</td>\n",
              "      <td>1</td>\n",
              "      <td>0</td>\n",
              "      <td>1</td>\n",
              "      <td>1</td>\n",
              "      <td>0</td>\n",
              "      <td>0</td>\n",
              "      <td>1</td>\n",
              "      <td>0</td>\n",
              "      <td>1</td>\n",
              "      <td>0</td>\n",
              "      <td>1</td>\n",
              "      <td>0</td>\n",
              "      <td>1</td>\n",
              "      <td>0</td>\n",
              "      <td>1</td>\n",
              "      <td>0</td>\n",
              "      <td>0</td>\n",
              "      <td>0</td>\n",
              "    </tr>\n",
              "  </tbody>\n",
              "</table>\n",
              "<p>3 rows × 531 columns</p>\n",
              "</div>"
            ],
            "text/plain": [
              "   TransactionDT  TransactionAmt  ...  DeviceType_desktop  DeviceType_mobile\n",
              "0          86400            68.5  ...                   0                  0\n",
              "1          86401            29.0  ...                   0                  0\n",
              "2          86469            59.0  ...                   0                  0\n",
              "\n",
              "[3 rows x 531 columns]"
            ]
          },
          "metadata": {
            "tags": []
          },
          "execution_count": 24
        }
      ]
    },
    {
      "cell_type": "markdown",
      "metadata": {
        "id": "R-1tZ6lOUsfx"
      },
      "source": [
        "Remove all null columns and fill other null values with the median of their belonging column."
      ]
    },
    {
      "cell_type": "code",
      "metadata": {
        "id": "0ojWG93oESoI"
      },
      "source": [
        "for c in df.columns:\n",
        "  if df[c].isnull().sum() == len(df[c]):\n",
        "    df.drop(labels = [c],axis = 1,inplace = True)\n",
        "    continue\n",
        "\n",
        "  df [c] = df[c].fillna(np.nanmedian(df[c]))\n"
      ],
      "execution_count": 25,
      "outputs": []
    },
    {
      "cell_type": "code",
      "metadata": {
        "colab": {
          "base_uri": "https://localhost:8080/",
          "height": 208
        },
        "id": "Cu1ZHnrQFo5P",
        "outputId": "18d359a3-c38d-49f9-bc46-74950c47cb81"
      },
      "source": [
        "df.head(3)"
      ],
      "execution_count": 26,
      "outputs": [
        {
          "output_type": "execute_result",
          "data": {
            "text/html": [
              "<div>\n",
              "<style scoped>\n",
              "    .dataframe tbody tr th:only-of-type {\n",
              "        vertical-align: middle;\n",
              "    }\n",
              "\n",
              "    .dataframe tbody tr th {\n",
              "        vertical-align: top;\n",
              "    }\n",
              "\n",
              "    .dataframe thead th {\n",
              "        text-align: right;\n",
              "    }\n",
              "</style>\n",
              "<table border=\"1\" class=\"dataframe\">\n",
              "  <thead>\n",
              "    <tr style=\"text-align: right;\">\n",
              "      <th></th>\n",
              "      <th>TransactionDT</th>\n",
              "      <th>TransactionAmt</th>\n",
              "      <th>card1</th>\n",
              "      <th>card2</th>\n",
              "      <th>card3</th>\n",
              "      <th>card5</th>\n",
              "      <th>addr1</th>\n",
              "      <th>addr2</th>\n",
              "      <th>dist1</th>\n",
              "      <th>dist2</th>\n",
              "      <th>C1</th>\n",
              "      <th>C2</th>\n",
              "      <th>C3</th>\n",
              "      <th>C4</th>\n",
              "      <th>C5</th>\n",
              "      <th>C6</th>\n",
              "      <th>C7</th>\n",
              "      <th>C8</th>\n",
              "      <th>C9</th>\n",
              "      <th>C10</th>\n",
              "      <th>C11</th>\n",
              "      <th>C12</th>\n",
              "      <th>C13</th>\n",
              "      <th>C14</th>\n",
              "      <th>D1</th>\n",
              "      <th>D2</th>\n",
              "      <th>D3</th>\n",
              "      <th>D4</th>\n",
              "      <th>D5</th>\n",
              "      <th>D6</th>\n",
              "      <th>D7</th>\n",
              "      <th>D8</th>\n",
              "      <th>D9</th>\n",
              "      <th>D10</th>\n",
              "      <th>D11</th>\n",
              "      <th>D12</th>\n",
              "      <th>D13</th>\n",
              "      <th>D14</th>\n",
              "      <th>D15</th>\n",
              "      <th>V1</th>\n",
              "      <th>...</th>\n",
              "      <th>R_emaildomain_roadrunner.com</th>\n",
              "      <th>R_emaildomain_rocketmail.com</th>\n",
              "      <th>R_emaildomain_sbcglobal.net</th>\n",
              "      <th>R_emaildomain_sc.rr.com</th>\n",
              "      <th>R_emaildomain_scranton.edu</th>\n",
              "      <th>R_emaildomain_servicios-ta.com</th>\n",
              "      <th>R_emaildomain_suddenlink.net</th>\n",
              "      <th>R_emaildomain_twc.com</th>\n",
              "      <th>R_emaildomain_verizon.net</th>\n",
              "      <th>R_emaildomain_web.de</th>\n",
              "      <th>R_emaildomain_windstream.net</th>\n",
              "      <th>R_emaildomain_yahoo.co.jp</th>\n",
              "      <th>R_emaildomain_yahoo.co.uk</th>\n",
              "      <th>R_emaildomain_yahoo.com</th>\n",
              "      <th>R_emaildomain_yahoo.com.mx</th>\n",
              "      <th>R_emaildomain_yahoo.de</th>\n",
              "      <th>R_emaildomain_yahoo.es</th>\n",
              "      <th>R_emaildomain_yahoo.fr</th>\n",
              "      <th>R_emaildomain_ymail.com</th>\n",
              "      <th>M1_F</th>\n",
              "      <th>M1_T</th>\n",
              "      <th>M2_F</th>\n",
              "      <th>M2_T</th>\n",
              "      <th>M3_F</th>\n",
              "      <th>M3_T</th>\n",
              "      <th>M4_M0</th>\n",
              "      <th>M4_M1</th>\n",
              "      <th>M4_M2</th>\n",
              "      <th>M5_F</th>\n",
              "      <th>M5_T</th>\n",
              "      <th>M6_F</th>\n",
              "      <th>M6_T</th>\n",
              "      <th>M7_F</th>\n",
              "      <th>M7_T</th>\n",
              "      <th>M8_F</th>\n",
              "      <th>M8_T</th>\n",
              "      <th>M9_F</th>\n",
              "      <th>M9_T</th>\n",
              "      <th>DeviceType_desktop</th>\n",
              "      <th>DeviceType_mobile</th>\n",
              "    </tr>\n",
              "  </thead>\n",
              "  <tbody>\n",
              "    <tr>\n",
              "      <th>0</th>\n",
              "      <td>86400</td>\n",
              "      <td>68.5</td>\n",
              "      <td>13926</td>\n",
              "      <td>361.0</td>\n",
              "      <td>150.0</td>\n",
              "      <td>142.0</td>\n",
              "      <td>315.0</td>\n",
              "      <td>87.0</td>\n",
              "      <td>19.0</td>\n",
              "      <td>37.0</td>\n",
              "      <td>1.0</td>\n",
              "      <td>1.0</td>\n",
              "      <td>0.0</td>\n",
              "      <td>0.0</td>\n",
              "      <td>0.0</td>\n",
              "      <td>1.0</td>\n",
              "      <td>0.0</td>\n",
              "      <td>0.0</td>\n",
              "      <td>1.0</td>\n",
              "      <td>0.0</td>\n",
              "      <td>2.0</td>\n",
              "      <td>0.0</td>\n",
              "      <td>1.0</td>\n",
              "      <td>1.0</td>\n",
              "      <td>14.0</td>\n",
              "      <td>97.0</td>\n",
              "      <td>13.0</td>\n",
              "      <td>26.0</td>\n",
              "      <td>10.0</td>\n",
              "      <td>0.0</td>\n",
              "      <td>0.0</td>\n",
              "      <td>37.875</td>\n",
              "      <td>0.666666</td>\n",
              "      <td>13.0</td>\n",
              "      <td>13.0</td>\n",
              "      <td>0.0</td>\n",
              "      <td>0.0</td>\n",
              "      <td>0.0</td>\n",
              "      <td>0.0</td>\n",
              "      <td>1.0</td>\n",
              "      <td>...</td>\n",
              "      <td>0</td>\n",
              "      <td>0</td>\n",
              "      <td>0</td>\n",
              "      <td>0</td>\n",
              "      <td>0</td>\n",
              "      <td>0</td>\n",
              "      <td>0</td>\n",
              "      <td>0</td>\n",
              "      <td>0</td>\n",
              "      <td>0</td>\n",
              "      <td>0</td>\n",
              "      <td>0</td>\n",
              "      <td>0</td>\n",
              "      <td>0</td>\n",
              "      <td>0</td>\n",
              "      <td>0</td>\n",
              "      <td>0</td>\n",
              "      <td>0</td>\n",
              "      <td>0</td>\n",
              "      <td>0</td>\n",
              "      <td>1</td>\n",
              "      <td>0</td>\n",
              "      <td>1</td>\n",
              "      <td>0</td>\n",
              "      <td>1</td>\n",
              "      <td>0</td>\n",
              "      <td>0</td>\n",
              "      <td>1</td>\n",
              "      <td>1</td>\n",
              "      <td>0</td>\n",
              "      <td>0</td>\n",
              "      <td>1</td>\n",
              "      <td>0</td>\n",
              "      <td>0</td>\n",
              "      <td>0</td>\n",
              "      <td>0</td>\n",
              "      <td>0</td>\n",
              "      <td>0</td>\n",
              "      <td>0</td>\n",
              "      <td>0</td>\n",
              "    </tr>\n",
              "    <tr>\n",
              "      <th>1</th>\n",
              "      <td>86401</td>\n",
              "      <td>29.0</td>\n",
              "      <td>2755</td>\n",
              "      <td>404.0</td>\n",
              "      <td>150.0</td>\n",
              "      <td>102.0</td>\n",
              "      <td>325.0</td>\n",
              "      <td>87.0</td>\n",
              "      <td>8.0</td>\n",
              "      <td>37.0</td>\n",
              "      <td>1.0</td>\n",
              "      <td>1.0</td>\n",
              "      <td>0.0</td>\n",
              "      <td>0.0</td>\n",
              "      <td>0.0</td>\n",
              "      <td>1.0</td>\n",
              "      <td>0.0</td>\n",
              "      <td>0.0</td>\n",
              "      <td>0.0</td>\n",
              "      <td>0.0</td>\n",
              "      <td>1.0</td>\n",
              "      <td>0.0</td>\n",
              "      <td>1.0</td>\n",
              "      <td>1.0</td>\n",
              "      <td>0.0</td>\n",
              "      <td>97.0</td>\n",
              "      <td>8.0</td>\n",
              "      <td>0.0</td>\n",
              "      <td>10.0</td>\n",
              "      <td>0.0</td>\n",
              "      <td>0.0</td>\n",
              "      <td>37.875</td>\n",
              "      <td>0.666666</td>\n",
              "      <td>0.0</td>\n",
              "      <td>43.0</td>\n",
              "      <td>0.0</td>\n",
              "      <td>0.0</td>\n",
              "      <td>0.0</td>\n",
              "      <td>0.0</td>\n",
              "      <td>1.0</td>\n",
              "      <td>...</td>\n",
              "      <td>0</td>\n",
              "      <td>0</td>\n",
              "      <td>0</td>\n",
              "      <td>0</td>\n",
              "      <td>0</td>\n",
              "      <td>0</td>\n",
              "      <td>0</td>\n",
              "      <td>0</td>\n",
              "      <td>0</td>\n",
              "      <td>0</td>\n",
              "      <td>0</td>\n",
              "      <td>0</td>\n",
              "      <td>0</td>\n",
              "      <td>0</td>\n",
              "      <td>0</td>\n",
              "      <td>0</td>\n",
              "      <td>0</td>\n",
              "      <td>0</td>\n",
              "      <td>0</td>\n",
              "      <td>0</td>\n",
              "      <td>0</td>\n",
              "      <td>0</td>\n",
              "      <td>0</td>\n",
              "      <td>0</td>\n",
              "      <td>0</td>\n",
              "      <td>1</td>\n",
              "      <td>0</td>\n",
              "      <td>0</td>\n",
              "      <td>0</td>\n",
              "      <td>1</td>\n",
              "      <td>0</td>\n",
              "      <td>1</td>\n",
              "      <td>0</td>\n",
              "      <td>0</td>\n",
              "      <td>0</td>\n",
              "      <td>0</td>\n",
              "      <td>0</td>\n",
              "      <td>0</td>\n",
              "      <td>0</td>\n",
              "      <td>0</td>\n",
              "    </tr>\n",
              "    <tr>\n",
              "      <th>2</th>\n",
              "      <td>86469</td>\n",
              "      <td>59.0</td>\n",
              "      <td>4663</td>\n",
              "      <td>490.0</td>\n",
              "      <td>150.0</td>\n",
              "      <td>166.0</td>\n",
              "      <td>330.0</td>\n",
              "      <td>87.0</td>\n",
              "      <td>287.0</td>\n",
              "      <td>37.0</td>\n",
              "      <td>1.0</td>\n",
              "      <td>1.0</td>\n",
              "      <td>0.0</td>\n",
              "      <td>0.0</td>\n",
              "      <td>0.0</td>\n",
              "      <td>1.0</td>\n",
              "      <td>0.0</td>\n",
              "      <td>0.0</td>\n",
              "      <td>1.0</td>\n",
              "      <td>0.0</td>\n",
              "      <td>1.0</td>\n",
              "      <td>0.0</td>\n",
              "      <td>1.0</td>\n",
              "      <td>1.0</td>\n",
              "      <td>0.0</td>\n",
              "      <td>97.0</td>\n",
              "      <td>8.0</td>\n",
              "      <td>0.0</td>\n",
              "      <td>10.0</td>\n",
              "      <td>0.0</td>\n",
              "      <td>0.0</td>\n",
              "      <td>37.875</td>\n",
              "      <td>0.666666</td>\n",
              "      <td>0.0</td>\n",
              "      <td>315.0</td>\n",
              "      <td>0.0</td>\n",
              "      <td>0.0</td>\n",
              "      <td>0.0</td>\n",
              "      <td>315.0</td>\n",
              "      <td>1.0</td>\n",
              "      <td>...</td>\n",
              "      <td>0</td>\n",
              "      <td>0</td>\n",
              "      <td>0</td>\n",
              "      <td>0</td>\n",
              "      <td>0</td>\n",
              "      <td>0</td>\n",
              "      <td>0</td>\n",
              "      <td>0</td>\n",
              "      <td>0</td>\n",
              "      <td>0</td>\n",
              "      <td>0</td>\n",
              "      <td>0</td>\n",
              "      <td>0</td>\n",
              "      <td>0</td>\n",
              "      <td>0</td>\n",
              "      <td>0</td>\n",
              "      <td>0</td>\n",
              "      <td>0</td>\n",
              "      <td>0</td>\n",
              "      <td>0</td>\n",
              "      <td>1</td>\n",
              "      <td>0</td>\n",
              "      <td>1</td>\n",
              "      <td>0</td>\n",
              "      <td>1</td>\n",
              "      <td>1</td>\n",
              "      <td>0</td>\n",
              "      <td>0</td>\n",
              "      <td>1</td>\n",
              "      <td>0</td>\n",
              "      <td>1</td>\n",
              "      <td>0</td>\n",
              "      <td>1</td>\n",
              "      <td>0</td>\n",
              "      <td>1</td>\n",
              "      <td>0</td>\n",
              "      <td>1</td>\n",
              "      <td>0</td>\n",
              "      <td>0</td>\n",
              "      <td>0</td>\n",
              "    </tr>\n",
              "  </tbody>\n",
              "</table>\n",
              "<p>3 rows × 531 columns</p>\n",
              "</div>"
            ],
            "text/plain": [
              "   TransactionDT  TransactionAmt  ...  DeviceType_desktop  DeviceType_mobile\n",
              "0          86400            68.5  ...                   0                  0\n",
              "1          86401            29.0  ...                   0                  0\n",
              "2          86469            59.0  ...                   0                  0\n",
              "\n",
              "[3 rows x 531 columns]"
            ]
          },
          "metadata": {
            "tags": []
          },
          "execution_count": 26
        }
      ]
    },
    {
      "cell_type": "markdown",
      "metadata": {
        "id": "TKh7POtXVVGe"
      },
      "source": [
        "<h4>Normalization:<h4>"
      ]
    },
    {
      "cell_type": "code",
      "metadata": {
        "id": "gbgIESvsZfN_"
      },
      "source": [
        "for c in df.columns:\n",
        "\n",
        "  min = df[c].min()\n",
        "  max = df[c].max()\n",
        "  df[c] = ((df[c]-min)/max).astype('float32')\n",
        "\n",
        "  #Again check whether there is null column\n",
        "  if df[c].isnull().sum() == len(df[c]):\n",
        "    df.drop(labels = [c],axis = 1,inplace = True)\n",
        "  "
      ],
      "execution_count": 27,
      "outputs": []
    },
    {
      "cell_type": "code",
      "metadata": {
        "colab": {
          "base_uri": "https://localhost:8080/"
        },
        "id": "02GQjKAlKOzm",
        "outputId": "d4574ff1-1fbc-45ad-a651-5a5bdb7ad9c9"
      },
      "source": [
        "df.shape"
      ],
      "execution_count": 28,
      "outputs": [
        {
          "output_type": "execute_result",
          "data": {
            "text/plain": [
              "(590540, 531)"
            ]
          },
          "metadata": {
            "tags": []
          },
          "execution_count": 28
        }
      ]
    },
    {
      "cell_type": "code",
      "metadata": {
        "colab": {
          "base_uri": "https://localhost:8080/",
          "height": 208
        },
        "id": "rnj-T_Dw72jn",
        "outputId": "092b82f6-e844-47fa-f019-b8ac8e40152e"
      },
      "source": [
        "df.head(3)"
      ],
      "execution_count": 29,
      "outputs": [
        {
          "output_type": "execute_result",
          "data": {
            "text/html": [
              "<div>\n",
              "<style scoped>\n",
              "    .dataframe tbody tr th:only-of-type {\n",
              "        vertical-align: middle;\n",
              "    }\n",
              "\n",
              "    .dataframe tbody tr th {\n",
              "        vertical-align: top;\n",
              "    }\n",
              "\n",
              "    .dataframe thead th {\n",
              "        text-align: right;\n",
              "    }\n",
              "</style>\n",
              "<table border=\"1\" class=\"dataframe\">\n",
              "  <thead>\n",
              "    <tr style=\"text-align: right;\">\n",
              "      <th></th>\n",
              "      <th>TransactionDT</th>\n",
              "      <th>TransactionAmt</th>\n",
              "      <th>card1</th>\n",
              "      <th>card2</th>\n",
              "      <th>card3</th>\n",
              "      <th>card5</th>\n",
              "      <th>addr1</th>\n",
              "      <th>addr2</th>\n",
              "      <th>dist1</th>\n",
              "      <th>dist2</th>\n",
              "      <th>C1</th>\n",
              "      <th>C2</th>\n",
              "      <th>C3</th>\n",
              "      <th>C4</th>\n",
              "      <th>C5</th>\n",
              "      <th>C6</th>\n",
              "      <th>C7</th>\n",
              "      <th>C8</th>\n",
              "      <th>C9</th>\n",
              "      <th>C10</th>\n",
              "      <th>C11</th>\n",
              "      <th>C12</th>\n",
              "      <th>C13</th>\n",
              "      <th>C14</th>\n",
              "      <th>D1</th>\n",
              "      <th>D2</th>\n",
              "      <th>D3</th>\n",
              "      <th>D4</th>\n",
              "      <th>D5</th>\n",
              "      <th>D6</th>\n",
              "      <th>D7</th>\n",
              "      <th>D8</th>\n",
              "      <th>D9</th>\n",
              "      <th>D10</th>\n",
              "      <th>D11</th>\n",
              "      <th>D12</th>\n",
              "      <th>D13</th>\n",
              "      <th>D14</th>\n",
              "      <th>D15</th>\n",
              "      <th>V1</th>\n",
              "      <th>...</th>\n",
              "      <th>R_emaildomain_roadrunner.com</th>\n",
              "      <th>R_emaildomain_rocketmail.com</th>\n",
              "      <th>R_emaildomain_sbcglobal.net</th>\n",
              "      <th>R_emaildomain_sc.rr.com</th>\n",
              "      <th>R_emaildomain_scranton.edu</th>\n",
              "      <th>R_emaildomain_servicios-ta.com</th>\n",
              "      <th>R_emaildomain_suddenlink.net</th>\n",
              "      <th>R_emaildomain_twc.com</th>\n",
              "      <th>R_emaildomain_verizon.net</th>\n",
              "      <th>R_emaildomain_web.de</th>\n",
              "      <th>R_emaildomain_windstream.net</th>\n",
              "      <th>R_emaildomain_yahoo.co.jp</th>\n",
              "      <th>R_emaildomain_yahoo.co.uk</th>\n",
              "      <th>R_emaildomain_yahoo.com</th>\n",
              "      <th>R_emaildomain_yahoo.com.mx</th>\n",
              "      <th>R_emaildomain_yahoo.de</th>\n",
              "      <th>R_emaildomain_yahoo.es</th>\n",
              "      <th>R_emaildomain_yahoo.fr</th>\n",
              "      <th>R_emaildomain_ymail.com</th>\n",
              "      <th>M1_F</th>\n",
              "      <th>M1_T</th>\n",
              "      <th>M2_F</th>\n",
              "      <th>M2_T</th>\n",
              "      <th>M3_F</th>\n",
              "      <th>M3_T</th>\n",
              "      <th>M4_M0</th>\n",
              "      <th>M4_M1</th>\n",
              "      <th>M4_M2</th>\n",
              "      <th>M5_F</th>\n",
              "      <th>M5_T</th>\n",
              "      <th>M6_F</th>\n",
              "      <th>M6_T</th>\n",
              "      <th>M7_F</th>\n",
              "      <th>M7_T</th>\n",
              "      <th>M8_F</th>\n",
              "      <th>M8_T</th>\n",
              "      <th>M9_F</th>\n",
              "      <th>M9_T</th>\n",
              "      <th>DeviceType_desktop</th>\n",
              "      <th>DeviceType_mobile</th>\n",
              "    </tr>\n",
              "  </thead>\n",
              "  <tbody>\n",
              "    <tr>\n",
              "      <th>0</th>\n",
              "      <td>0.000000e+00</td>\n",
              "      <td>0.002137</td>\n",
              "      <td>0.702653</td>\n",
              "      <td>0.435000</td>\n",
              "      <td>0.21645</td>\n",
              "      <td>0.177215</td>\n",
              "      <td>0.398148</td>\n",
              "      <td>0.754902</td>\n",
              "      <td>0.001847</td>\n",
              "      <td>0.003183</td>\n",
              "      <td>0.000213</td>\n",
              "      <td>0.000176</td>\n",
              "      <td>0.0</td>\n",
              "      <td>0.0</td>\n",
              "      <td>0.0</td>\n",
              "      <td>0.000444</td>\n",
              "      <td>0.0</td>\n",
              "      <td>0.0</td>\n",
              "      <td>0.004762</td>\n",
              "      <td>0.0</td>\n",
              "      <td>0.000627</td>\n",
              "      <td>0.0</td>\n",
              "      <td>0.000343</td>\n",
              "      <td>0.0007</td>\n",
              "      <td>0.021875</td>\n",
              "      <td>0.151562</td>\n",
              "      <td>0.015873</td>\n",
              "      <td>0.170311</td>\n",
              "      <td>0.01221</td>\n",
              "      <td>0.095074</td>\n",
              "      <td>0.0</td>\n",
              "      <td>0.022178</td>\n",
              "      <td>0.695652</td>\n",
              "      <td>0.01484</td>\n",
              "      <td>0.098507</td>\n",
              "      <td>0.128086</td>\n",
              "      <td>0.0</td>\n",
              "      <td>0.219818</td>\n",
              "      <td>0.094425</td>\n",
              "      <td>1.0</td>\n",
              "      <td>...</td>\n",
              "      <td>0.0</td>\n",
              "      <td>0.0</td>\n",
              "      <td>0.0</td>\n",
              "      <td>0.0</td>\n",
              "      <td>0.0</td>\n",
              "      <td>0.0</td>\n",
              "      <td>0.0</td>\n",
              "      <td>0.0</td>\n",
              "      <td>0.0</td>\n",
              "      <td>0.0</td>\n",
              "      <td>0.0</td>\n",
              "      <td>0.0</td>\n",
              "      <td>0.0</td>\n",
              "      <td>0.0</td>\n",
              "      <td>0.0</td>\n",
              "      <td>0.0</td>\n",
              "      <td>0.0</td>\n",
              "      <td>0.0</td>\n",
              "      <td>0.0</td>\n",
              "      <td>0.0</td>\n",
              "      <td>1.0</td>\n",
              "      <td>0.0</td>\n",
              "      <td>1.0</td>\n",
              "      <td>0.0</td>\n",
              "      <td>1.0</td>\n",
              "      <td>0.0</td>\n",
              "      <td>0.0</td>\n",
              "      <td>1.0</td>\n",
              "      <td>1.0</td>\n",
              "      <td>0.0</td>\n",
              "      <td>0.0</td>\n",
              "      <td>1.0</td>\n",
              "      <td>0.0</td>\n",
              "      <td>0.0</td>\n",
              "      <td>0.0</td>\n",
              "      <td>0.0</td>\n",
              "      <td>0.0</td>\n",
              "      <td>0.0</td>\n",
              "      <td>0.0</td>\n",
              "      <td>0.0</td>\n",
              "    </tr>\n",
              "    <tr>\n",
              "      <th>1</th>\n",
              "      <td>6.324658e-08</td>\n",
              "      <td>0.000900</td>\n",
              "      <td>0.095401</td>\n",
              "      <td>0.506667</td>\n",
              "      <td>0.21645</td>\n",
              "      <td>0.008439</td>\n",
              "      <td>0.416667</td>\n",
              "      <td>0.754902</td>\n",
              "      <td>0.000778</td>\n",
              "      <td>0.003183</td>\n",
              "      <td>0.000213</td>\n",
              "      <td>0.000176</td>\n",
              "      <td>0.0</td>\n",
              "      <td>0.0</td>\n",
              "      <td>0.0</td>\n",
              "      <td>0.000444</td>\n",
              "      <td>0.0</td>\n",
              "      <td>0.0</td>\n",
              "      <td>0.000000</td>\n",
              "      <td>0.0</td>\n",
              "      <td>0.000314</td>\n",
              "      <td>0.0</td>\n",
              "      <td>0.000343</td>\n",
              "      <td>0.0007</td>\n",
              "      <td>0.000000</td>\n",
              "      <td>0.151562</td>\n",
              "      <td>0.009768</td>\n",
              "      <td>0.140391</td>\n",
              "      <td>0.01221</td>\n",
              "      <td>0.095074</td>\n",
              "      <td>0.0</td>\n",
              "      <td>0.022178</td>\n",
              "      <td>0.695652</td>\n",
              "      <td>0.00000</td>\n",
              "      <td>0.143284</td>\n",
              "      <td>0.128086</td>\n",
              "      <td>0.0</td>\n",
              "      <td>0.219818</td>\n",
              "      <td>0.094425</td>\n",
              "      <td>1.0</td>\n",
              "      <td>...</td>\n",
              "      <td>0.0</td>\n",
              "      <td>0.0</td>\n",
              "      <td>0.0</td>\n",
              "      <td>0.0</td>\n",
              "      <td>0.0</td>\n",
              "      <td>0.0</td>\n",
              "      <td>0.0</td>\n",
              "      <td>0.0</td>\n",
              "      <td>0.0</td>\n",
              "      <td>0.0</td>\n",
              "      <td>0.0</td>\n",
              "      <td>0.0</td>\n",
              "      <td>0.0</td>\n",
              "      <td>0.0</td>\n",
              "      <td>0.0</td>\n",
              "      <td>0.0</td>\n",
              "      <td>0.0</td>\n",
              "      <td>0.0</td>\n",
              "      <td>0.0</td>\n",
              "      <td>0.0</td>\n",
              "      <td>0.0</td>\n",
              "      <td>0.0</td>\n",
              "      <td>0.0</td>\n",
              "      <td>0.0</td>\n",
              "      <td>0.0</td>\n",
              "      <td>1.0</td>\n",
              "      <td>0.0</td>\n",
              "      <td>0.0</td>\n",
              "      <td>0.0</td>\n",
              "      <td>1.0</td>\n",
              "      <td>0.0</td>\n",
              "      <td>1.0</td>\n",
              "      <td>0.0</td>\n",
              "      <td>0.0</td>\n",
              "      <td>0.0</td>\n",
              "      <td>0.0</td>\n",
              "      <td>0.0</td>\n",
              "      <td>0.0</td>\n",
              "      <td>0.0</td>\n",
              "      <td>0.0</td>\n",
              "    </tr>\n",
              "    <tr>\n",
              "      <th>2</th>\n",
              "      <td>4.364014e-06</td>\n",
              "      <td>0.001840</td>\n",
              "      <td>0.199119</td>\n",
              "      <td>0.650000</td>\n",
              "      <td>0.21645</td>\n",
              "      <td>0.278481</td>\n",
              "      <td>0.425926</td>\n",
              "      <td>0.754902</td>\n",
              "      <td>0.027902</td>\n",
              "      <td>0.003183</td>\n",
              "      <td>0.000213</td>\n",
              "      <td>0.000176</td>\n",
              "      <td>0.0</td>\n",
              "      <td>0.0</td>\n",
              "      <td>0.0</td>\n",
              "      <td>0.000444</td>\n",
              "      <td>0.0</td>\n",
              "      <td>0.0</td>\n",
              "      <td>0.004762</td>\n",
              "      <td>0.0</td>\n",
              "      <td>0.000314</td>\n",
              "      <td>0.0</td>\n",
              "      <td>0.000343</td>\n",
              "      <td>0.0007</td>\n",
              "      <td>0.000000</td>\n",
              "      <td>0.151562</td>\n",
              "      <td>0.009768</td>\n",
              "      <td>0.140391</td>\n",
              "      <td>0.01221</td>\n",
              "      <td>0.095074</td>\n",
              "      <td>0.0</td>\n",
              "      <td>0.022178</td>\n",
              "      <td>0.695652</td>\n",
              "      <td>0.00000</td>\n",
              "      <td>0.549254</td>\n",
              "      <td>0.128086</td>\n",
              "      <td>0.0</td>\n",
              "      <td>0.219818</td>\n",
              "      <td>0.452787</td>\n",
              "      <td>1.0</td>\n",
              "      <td>...</td>\n",
              "      <td>0.0</td>\n",
              "      <td>0.0</td>\n",
              "      <td>0.0</td>\n",
              "      <td>0.0</td>\n",
              "      <td>0.0</td>\n",
              "      <td>0.0</td>\n",
              "      <td>0.0</td>\n",
              "      <td>0.0</td>\n",
              "      <td>0.0</td>\n",
              "      <td>0.0</td>\n",
              "      <td>0.0</td>\n",
              "      <td>0.0</td>\n",
              "      <td>0.0</td>\n",
              "      <td>0.0</td>\n",
              "      <td>0.0</td>\n",
              "      <td>0.0</td>\n",
              "      <td>0.0</td>\n",
              "      <td>0.0</td>\n",
              "      <td>0.0</td>\n",
              "      <td>0.0</td>\n",
              "      <td>1.0</td>\n",
              "      <td>0.0</td>\n",
              "      <td>1.0</td>\n",
              "      <td>0.0</td>\n",
              "      <td>1.0</td>\n",
              "      <td>1.0</td>\n",
              "      <td>0.0</td>\n",
              "      <td>0.0</td>\n",
              "      <td>1.0</td>\n",
              "      <td>0.0</td>\n",
              "      <td>1.0</td>\n",
              "      <td>0.0</td>\n",
              "      <td>1.0</td>\n",
              "      <td>0.0</td>\n",
              "      <td>1.0</td>\n",
              "      <td>0.0</td>\n",
              "      <td>1.0</td>\n",
              "      <td>0.0</td>\n",
              "      <td>0.0</td>\n",
              "      <td>0.0</td>\n",
              "    </tr>\n",
              "  </tbody>\n",
              "</table>\n",
              "<p>3 rows × 531 columns</p>\n",
              "</div>"
            ],
            "text/plain": [
              "   TransactionDT  TransactionAmt  ...  DeviceType_desktop  DeviceType_mobile\n",
              "0   0.000000e+00        0.002137  ...                 0.0                0.0\n",
              "1   6.324658e-08        0.000900  ...                 0.0                0.0\n",
              "2   4.364014e-06        0.001840  ...                 0.0                0.0\n",
              "\n",
              "[3 rows x 531 columns]"
            ]
          },
          "metadata": {
            "tags": []
          },
          "execution_count": 29
        }
      ]
    },
    {
      "cell_type": "code",
      "metadata": {
        "colab": {
          "base_uri": "https://localhost:8080/"
        },
        "id": "UD1z-hTDZl7y",
        "outputId": "d46f82a5-fd16-46f0-bf83-bdfaaa197f58"
      },
      "source": [
        "sys.getsizeof(df)/1024/1024/1024 #in GB"
      ],
      "execution_count": 30,
      "outputs": [
        {
          "output_type": "execute_result",
          "data": {
            "text/plain": [
              "1.1725642755627632"
            ]
          },
          "metadata": {
            "tags": []
          },
          "execution_count": 30
        }
      ]
    },
    {
      "cell_type": "markdown",
      "metadata": {
        "id": "TVzT-_lNaLFE"
      },
      "source": [
        "Size of df has been reduced in compare to the begining."
      ]
    },
    {
      "cell_type": "code",
      "metadata": {
        "id": "f4frfN7F6KP1"
      },
      "source": [
        "length = df.shape[1]"
      ],
      "execution_count": 31,
      "outputs": []
    },
    {
      "cell_type": "code",
      "metadata": {
        "colab": {
          "base_uri": "https://localhost:8080/"
        },
        "id": "jgreASpf6vb1",
        "outputId": "7dd0df32-95e0-4ca6-b207-e9c3db73ad50"
      },
      "source": [
        "print([i for i in df.columns])"
      ],
      "execution_count": 32,
      "outputs": [
        {
          "output_type": "stream",
          "text": [
            "['TransactionDT', 'TransactionAmt', 'card1', 'card2', 'card3', 'card5', 'addr1', 'addr2', 'dist1', 'dist2', 'C1', 'C2', 'C3', 'C4', 'C5', 'C6', 'C7', 'C8', 'C9', 'C10', 'C11', 'C12', 'C13', 'C14', 'D1', 'D2', 'D3', 'D4', 'D5', 'D6', 'D7', 'D8', 'D9', 'D10', 'D11', 'D12', 'D13', 'D14', 'D15', 'V1', 'V2', 'V3', 'V4', 'V5', 'V6', 'V7', 'V8', 'V9', 'V10', 'V11', 'V12', 'V13', 'V14', 'V15', 'V16', 'V17', 'V18', 'V19', 'V20', 'V21', 'V22', 'V23', 'V24', 'V25', 'V26', 'V27', 'V28', 'V29', 'V30', 'V31', 'V32', 'V33', 'V34', 'V35', 'V36', 'V37', 'V38', 'V39', 'V40', 'V41', 'V42', 'V43', 'V44', 'V45', 'V46', 'V47', 'V48', 'V49', 'V50', 'V51', 'V52', 'V53', 'V54', 'V55', 'V56', 'V57', 'V58', 'V59', 'V60', 'V61', 'V62', 'V63', 'V64', 'V65', 'V66', 'V67', 'V68', 'V69', 'V70', 'V71', 'V72', 'V73', 'V74', 'V75', 'V76', 'V77', 'V78', 'V79', 'V80', 'V81', 'V82', 'V83', 'V84', 'V85', 'V86', 'V87', 'V88', 'V89', 'V90', 'V91', 'V92', 'V93', 'V94', 'V95', 'V96', 'V97', 'V98', 'V99', 'V100', 'V101', 'V102', 'V103', 'V104', 'V105', 'V106', 'V107', 'V108', 'V109', 'V110', 'V111', 'V112', 'V113', 'V114', 'V115', 'V116', 'V117', 'V118', 'V119', 'V120', 'V121', 'V122', 'V123', 'V124', 'V125', 'V126', 'V127', 'V128', 'V129', 'V130', 'V131', 'V132', 'V133', 'V134', 'V135', 'V136', 'V137', 'V138', 'V139', 'V140', 'V141', 'V142', 'V143', 'V144', 'V145', 'V146', 'V147', 'V148', 'V149', 'V150', 'V151', 'V152', 'V153', 'V154', 'V155', 'V156', 'V157', 'V158', 'V159', 'V160', 'V161', 'V162', 'V163', 'V164', 'V165', 'V166', 'V167', 'V168', 'V169', 'V170', 'V171', 'V172', 'V173', 'V174', 'V175', 'V176', 'V177', 'V178', 'V179', 'V180', 'V181', 'V182', 'V183', 'V184', 'V185', 'V186', 'V187', 'V188', 'V189', 'V190', 'V191', 'V192', 'V193', 'V194', 'V195', 'V196', 'V197', 'V198', 'V199', 'V200', 'V201', 'V202', 'V203', 'V204', 'V205', 'V206', 'V207', 'V208', 'V209', 'V210', 'V211', 'V212', 'V213', 'V214', 'V215', 'V216', 'V217', 'V218', 'V219', 'V220', 'V221', 'V222', 'V223', 'V224', 'V225', 'V226', 'V227', 'V228', 'V229', 'V230', 'V231', 'V232', 'V233', 'V234', 'V235', 'V236', 'V237', 'V238', 'V239', 'V240', 'V241', 'V242', 'V243', 'V244', 'V245', 'V246', 'V247', 'V248', 'V249', 'V250', 'V251', 'V252', 'V253', 'V254', 'V255', 'V256', 'V257', 'V258', 'V259', 'V260', 'V261', 'V262', 'V263', 'V264', 'V265', 'V266', 'V267', 'V268', 'V269', 'V270', 'V271', 'V272', 'V273', 'V274', 'V275', 'V276', 'V277', 'V278', 'V279', 'V280', 'V281', 'V282', 'V283', 'V284', 'V285', 'V286', 'V287', 'V288', 'V289', 'V290', 'V291', 'V292', 'V293', 'V294', 'V295', 'V296', 'V297', 'V298', 'V299', 'V300', 'V301', 'V302', 'V303', 'V304', 'V305', 'V306', 'V307', 'V308', 'V309', 'V310', 'V311', 'V312', 'V313', 'V314', 'V315', 'V316', 'V317', 'V318', 'V319', 'V320', 'V321', 'V322', 'V323', 'V324', 'V325', 'V326', 'V327', 'V328', 'V329', 'V330', 'V331', 'V332', 'V333', 'V334', 'V335', 'V336', 'V337', 'V338', 'V339', 'ProductCD_C', 'ProductCD_H', 'ProductCD_R', 'ProductCD_S', 'ProductCD_W', 'card4_american express', 'card4_discover', 'card4_mastercard', 'card4_visa', 'card6_charge card', 'card6_credit', 'card6_debit', 'card6_debit or credit', 'P_emaildomain_aim.com', 'P_emaildomain_anonymous.com', 'P_emaildomain_aol.com', 'P_emaildomain_att.net', 'P_emaildomain_bellsouth.net', 'P_emaildomain_cableone.net', 'P_emaildomain_centurylink.net', 'P_emaildomain_cfl.rr.com', 'P_emaildomain_charter.net', 'P_emaildomain_comcast.net', 'P_emaildomain_cox.net', 'P_emaildomain_earthlink.net', 'P_emaildomain_embarqmail.com', 'P_emaildomain_frontier.com', 'P_emaildomain_frontiernet.net', 'P_emaildomain_gmail', 'P_emaildomain_gmail.com', 'P_emaildomain_gmx.de', 'P_emaildomain_hotmail.co.uk', 'P_emaildomain_hotmail.com', 'P_emaildomain_hotmail.de', 'P_emaildomain_hotmail.es', 'P_emaildomain_hotmail.fr', 'P_emaildomain_icloud.com', 'P_emaildomain_juno.com', 'P_emaildomain_live.com', 'P_emaildomain_live.com.mx', 'P_emaildomain_live.fr', 'P_emaildomain_mac.com', 'P_emaildomain_mail.com', 'P_emaildomain_me.com', 'P_emaildomain_msn.com', 'P_emaildomain_netzero.com', 'P_emaildomain_netzero.net', 'P_emaildomain_optonline.net', 'P_emaildomain_outlook.com', 'P_emaildomain_outlook.es', 'P_emaildomain_prodigy.net.mx', 'P_emaildomain_protonmail.com', 'P_emaildomain_ptd.net', 'P_emaildomain_q.com', 'P_emaildomain_roadrunner.com', 'P_emaildomain_rocketmail.com', 'P_emaildomain_sbcglobal.net', 'P_emaildomain_sc.rr.com', 'P_emaildomain_servicios-ta.com', 'P_emaildomain_suddenlink.net', 'P_emaildomain_twc.com', 'P_emaildomain_verizon.net', 'P_emaildomain_web.de', 'P_emaildomain_windstream.net', 'P_emaildomain_yahoo.co.jp', 'P_emaildomain_yahoo.co.uk', 'P_emaildomain_yahoo.com', 'P_emaildomain_yahoo.com.mx', 'P_emaildomain_yahoo.de', 'P_emaildomain_yahoo.es', 'P_emaildomain_yahoo.fr', 'P_emaildomain_ymail.com', 'R_emaildomain_aim.com', 'R_emaildomain_anonymous.com', 'R_emaildomain_aol.com', 'R_emaildomain_att.net', 'R_emaildomain_bellsouth.net', 'R_emaildomain_cableone.net', 'R_emaildomain_centurylink.net', 'R_emaildomain_cfl.rr.com', 'R_emaildomain_charter.net', 'R_emaildomain_comcast.net', 'R_emaildomain_cox.net', 'R_emaildomain_earthlink.net', 'R_emaildomain_embarqmail.com', 'R_emaildomain_frontier.com', 'R_emaildomain_frontiernet.net', 'R_emaildomain_gmail', 'R_emaildomain_gmail.com', 'R_emaildomain_gmx.de', 'R_emaildomain_hotmail.co.uk', 'R_emaildomain_hotmail.com', 'R_emaildomain_hotmail.de', 'R_emaildomain_hotmail.es', 'R_emaildomain_hotmail.fr', 'R_emaildomain_icloud.com', 'R_emaildomain_juno.com', 'R_emaildomain_live.com', 'R_emaildomain_live.com.mx', 'R_emaildomain_live.fr', 'R_emaildomain_mac.com', 'R_emaildomain_mail.com', 'R_emaildomain_me.com', 'R_emaildomain_msn.com', 'R_emaildomain_netzero.com', 'R_emaildomain_netzero.net', 'R_emaildomain_optonline.net', 'R_emaildomain_outlook.com', 'R_emaildomain_outlook.es', 'R_emaildomain_prodigy.net.mx', 'R_emaildomain_protonmail.com', 'R_emaildomain_ptd.net', 'R_emaildomain_q.com', 'R_emaildomain_roadrunner.com', 'R_emaildomain_rocketmail.com', 'R_emaildomain_sbcglobal.net', 'R_emaildomain_sc.rr.com', 'R_emaildomain_scranton.edu', 'R_emaildomain_servicios-ta.com', 'R_emaildomain_suddenlink.net', 'R_emaildomain_twc.com', 'R_emaildomain_verizon.net', 'R_emaildomain_web.de', 'R_emaildomain_windstream.net', 'R_emaildomain_yahoo.co.jp', 'R_emaildomain_yahoo.co.uk', 'R_emaildomain_yahoo.com', 'R_emaildomain_yahoo.com.mx', 'R_emaildomain_yahoo.de', 'R_emaildomain_yahoo.es', 'R_emaildomain_yahoo.fr', 'R_emaildomain_ymail.com', 'M1_F', 'M1_T', 'M2_F', 'M2_T', 'M3_F', 'M3_T', 'M4_M0', 'M4_M1', 'M4_M2', 'M5_F', 'M5_T', 'M6_F', 'M6_T', 'M7_F', 'M7_T', 'M8_F', 'M8_T', 'M9_F', 'M9_T', 'DeviceType_desktop', 'DeviceType_mobile']\n"
          ],
          "name": "stdout"
        }
      ]
    },
    {
      "cell_type": "code",
      "metadata": {
        "colab": {
          "base_uri": "https://localhost:8080/"
        },
        "id": "jDjkGhHQQL4J",
        "outputId": "c86ca89f-2533-47cd-bdae-5f78b1fc05fd"
      },
      "source": [
        "df.isnull().sum()"
      ],
      "execution_count": 33,
      "outputs": [
        {
          "output_type": "execute_result",
          "data": {
            "text/plain": [
              "TransactionDT         0\n",
              "TransactionAmt        0\n",
              "card1                 0\n",
              "card2                 0\n",
              "card3                 0\n",
              "                     ..\n",
              "M8_T                  0\n",
              "M9_F                  0\n",
              "M9_T                  0\n",
              "DeviceType_desktop    0\n",
              "DeviceType_mobile     0\n",
              "Length: 531, dtype: int64"
            ]
          },
          "metadata": {
            "tags": []
          },
          "execution_count": 33
        }
      ]
    },
    {
      "cell_type": "markdown",
      "metadata": {
        "id": "dV9fuv9jV7kt"
      },
      "source": [
        "As we expected there is no null value and also all data are normalized and transformed to [0,1]."
      ]
    },
    {
      "cell_type": "markdown",
      "metadata": {
        "id": "nxM5gPO_fIu6"
      },
      "source": [
        "<h2>Under Sampling:<h2>\n",
        "\n"
      ]
    },
    {
      "cell_type": "markdown",
      "metadata": {
        "id": "3A02UCI-eJIt"
      },
      "source": [
        "There's an idea:\n",
        "\n",
        "It seems there would be a pattern and compatibility among correct data but fraud must be outliers while having no pattern.\n",
        "So in first phase, we use autoencoder and trainn that only with correct data and then try on fraud set.\n",
        "\n",
        "Then we expect the loss value of correct data prediction would be far less than fraud loss value."
      ]
    },
    {
      "cell_type": "code",
      "metadata": {
        "id": "FnrVZ6XmRh4R"
      },
      "source": [
        "import sklearn.model_selection as skm"
      ],
      "execution_count": 34,
      "outputs": []
    },
    {
      "cell_type": "markdown",
      "metadata": {
        "id": "nN756qlkWVxa"
      },
      "source": [
        "Validation set is for after training.\n",
        "Other set is going to be splitted to train and test sets while test is used in the training process."
      ]
    },
    {
      "cell_type": "code",
      "metadata": {
        "id": "zoA5iJBomAbO"
      },
      "source": [
        "X_other,  X_valid ,y_other , y_valid = skm.train_test_split(df , target , test_size = 0.1)"
      ],
      "execution_count": 35,
      "outputs": []
    },
    {
      "cell_type": "code",
      "metadata": {
        "colab": {
          "base_uri": "https://localhost:8080/"
        },
        "id": "ptMnAd_GmPhh",
        "outputId": "e03d22e4-28c7-4026-f9b6-c455e216ebf3"
      },
      "source": [
        "X_other.shape"
      ],
      "execution_count": 36,
      "outputs": [
        {
          "output_type": "execute_result",
          "data": {
            "text/plain": [
              "(531486, 531)"
            ]
          },
          "metadata": {
            "tags": []
          },
          "execution_count": 36
        }
      ]
    },
    {
      "cell_type": "code",
      "metadata": {
        "id": "yJs-jb4gdudL"
      },
      "source": [
        "#For train\n",
        "X_correct = torch.FloatTensor(X_other[y_other == 0].values)\n",
        "y_correct = torch.FloatTensor(y_other[y_other == 0].values)\n",
        "\n",
        "X_fraud = torch.FloatTensor(X_other[y_other == 1].values)\n",
        "y_fraud = torch.FloatTensor(y_other[y_other == 1].values)\n",
        "\n",
        "del X_other\n",
        "del y_other\n",
        "\n",
        "X_valid_corr = torch.FloatTensor(X_valid[y_valid == 0].values)\n",
        "X_valid_fraud = torch.FloatTensor(X_valid[y_valid == 1].values)"
      ],
      "execution_count": 37,
      "outputs": []
    },
    {
      "cell_type": "code",
      "metadata": {
        "colab": {
          "base_uri": "https://localhost:8080/"
        },
        "id": "klfy1Sz0SKwh",
        "outputId": "06f247b9-3e1c-4de4-d63c-63fc4cd5518e"
      },
      "source": [
        "X_valid_fraud"
      ],
      "execution_count": 38,
      "outputs": [
        {
          "output_type": "execute_result",
          "data": {
            "text/plain": [
              "tensor([[3.9798e-01, 3.7051e-04, 5.2011e-01,  ..., 0.0000e+00, 0.0000e+00,\n",
              "         1.0000e+00],\n",
              "        [8.0781e-01, 3.3722e-03, 2.7283e-01,  ..., 0.0000e+00, 0.0000e+00,\n",
              "         0.0000e+00],\n",
              "        [9.6093e-01, 1.0316e-03, 5.1930e-01,  ..., 0.0000e+00, 0.0000e+00,\n",
              "         1.0000e+00],\n",
              "        ...,\n",
              "        [7.8021e-01, 1.4865e-02, 1.8591e-02,  ..., 0.0000e+00, 0.0000e+00,\n",
              "         1.0000e+00],\n",
              "        [1.1444e-01, 4.4070e-03, 8.7997e-01,  ..., 0.0000e+00, 0.0000e+00,\n",
              "         0.0000e+00],\n",
              "        [2.7089e-01, 3.3722e-03, 1.7786e-01,  ..., 0.0000e+00, 0.0000e+00,\n",
              "         0.0000e+00]])"
            ]
          },
          "metadata": {
            "tags": []
          },
          "execution_count": 38
        }
      ]
    },
    {
      "cell_type": "code",
      "metadata": {
        "colab": {
          "base_uri": "https://localhost:8080/"
        },
        "id": "oikMIygYfsp8",
        "outputId": "c8ab4d1e-84c1-4f8b-9e18-ad44dc303e3b"
      },
      "source": [
        "len(X_valid_fraud)"
      ],
      "execution_count": 39,
      "outputs": [
        {
          "output_type": "execute_result",
          "data": {
            "text/plain": [
              "2001"
            ]
          },
          "metadata": {
            "tags": []
          },
          "execution_count": 39
        }
      ]
    },
    {
      "cell_type": "code",
      "metadata": {
        "colab": {
          "base_uri": "https://localhost:8080/"
        },
        "id": "yde_PUCXSpZ0",
        "outputId": "a8a2b497-2938-429e-99a9-76f1c5604682"
      },
      "source": [
        "len(X_correct)"
      ],
      "execution_count": 40,
      "outputs": [
        {
          "output_type": "execute_result",
          "data": {
            "text/plain": [
              "512824"
            ]
          },
          "metadata": {
            "tags": []
          },
          "execution_count": 40
        }
      ]
    },
    {
      "cell_type": "code",
      "metadata": {
        "id": "aTl_6TbOfc0S"
      },
      "source": [
        "X_train, X_test , y_train, y_test = skm.train_test_split(X_correct , y_correct , test_size = 0.2 )"
      ],
      "execution_count": 41,
      "outputs": []
    },
    {
      "cell_type": "code",
      "metadata": {
        "colab": {
          "base_uri": "https://localhost:8080/"
        },
        "id": "K39-ZKMggSP9",
        "outputId": "67de302d-6bad-46d9-b46c-6491bd6f19af"
      },
      "source": [
        "len(X_train)"
      ],
      "execution_count": 42,
      "outputs": [
        {
          "output_type": "execute_result",
          "data": {
            "text/plain": [
              "410259"
            ]
          },
          "metadata": {
            "tags": []
          },
          "execution_count": 42
        }
      ]
    },
    {
      "cell_type": "code",
      "metadata": {
        "colab": {
          "base_uri": "https://localhost:8080/"
        },
        "id": "Li2a7KTfgUCU",
        "outputId": "725cf113-4eda-4639-afb4-ae3f807145b5"
      },
      "source": [
        "y_train"
      ],
      "execution_count": 43,
      "outputs": [
        {
          "output_type": "execute_result",
          "data": {
            "text/plain": [
              "tensor([0., 0., 0.,  ..., 0., 0., 0.])"
            ]
          },
          "metadata": {
            "tags": []
          },
          "execution_count": 43
        }
      ]
    },
    {
      "cell_type": "code",
      "metadata": {
        "id": "OOm00Bf2TJ_1"
      },
      "source": [
        "del df"
      ],
      "execution_count": 44,
      "outputs": []
    },
    {
      "cell_type": "code",
      "metadata": {
        "id": "tVgI0O2mwM1W"
      },
      "source": [
        "del X_correct\n",
        "del y_correct"
      ],
      "execution_count": 45,
      "outputs": []
    },
    {
      "cell_type": "code",
      "metadata": {
        "id": "NkiNFR9Jv1ez"
      },
      "source": [
        "import torch.utils.data as dt"
      ],
      "execution_count": 46,
      "outputs": []
    },
    {
      "cell_type": "code",
      "metadata": {
        "colab": {
          "base_uri": "https://localhost:8080/"
        },
        "id": "TLSxrMMs5uGD",
        "outputId": "b3e80cbb-2539-4110-f9c6-521c1d19fbba"
      },
      "source": [
        "X_train[0][:10]"
      ],
      "execution_count": 47,
      "outputs": [
        {
          "output_type": "execute_result",
          "data": {
            "text/plain": [
              "tensor([2.6691e-01, 1.5638e-03, 8.0914e-01, 7.4167e-01, 3.6797e-01, 1.6034e-01,\n",
              "        3.6852e-01, 7.5490e-01, 7.7776e-04, 4.8180e-03])"
            ]
          },
          "metadata": {
            "tags": []
          },
          "execution_count": 47
        }
      ]
    },
    {
      "cell_type": "code",
      "metadata": {
        "id": "NUnE52l4pEEq"
      },
      "source": [
        "batch_size = 300\n",
        "\n",
        "x_train_correct_dl = dt.DataLoader(X_train,batch_size=batch_size)\n",
        "y_train_correct_dl = dt.DataLoader(y_train,batch_size=batch_size)\n",
        "\n",
        "x_test_correct_dl = dt.DataLoader(X_test,batch_size=batch_size)\n",
        "y_test_correct_dl = dt.DataLoader(y_test,batch_size=batch_size)\n"
      ],
      "execution_count": 48,
      "outputs": []
    },
    {
      "cell_type": "markdown",
      "metadata": {
        "id": "f5PE9bP_gzE5"
      },
      "source": [
        "<h2>Create Model:<h2>"
      ]
    },
    {
      "cell_type": "code",
      "metadata": {
        "id": "ABQMFLVlhKqQ"
      },
      "source": [
        "import torch.nn as nn"
      ],
      "execution_count": 49,
      "outputs": []
    },
    {
      "cell_type": "code",
      "metadata": {
        "id": "2LePpEA8oksM"
      },
      "source": [
        "import torch.nn.functional as F"
      ],
      "execution_count": 50,
      "outputs": []
    },
    {
      "cell_type": "code",
      "metadata": {
        "id": "a9WeBt-hg2IZ"
      },
      "source": [
        "class AutoEncoder(nn.Module):\n",
        "    def __init__(self, length):\n",
        "        super().__init__()\n",
        "\n",
        "        self.lin1 = nn.Linear(length,300)\n",
        "        self.linb1 = nn.BatchNorm1d(300)\n",
        "        self.lin2 = nn.Linear(300,150)\n",
        "        self.linb2 = nn.BatchNorm1d(150)\n",
        "        self.lin3 = nn.Linear(150,75)\n",
        "        self.linb3 = nn.BatchNorm1d(75)\n",
        "        self.lin4 = nn.Linear(75,30)\n",
        "        self.lin45 = nn.Linear(30,10)\n",
        "        self.linb4 = nn.BatchNorm1d(10)\n",
        "        self.lin46 = nn.Linear(10,30)\n",
        "        self.lin5 = nn.Linear(30,75)\n",
        "        self.linb5 = nn.BatchNorm1d(75)\n",
        "        self.lin6 = nn.Linear(75,150)\n",
        "        self.lin7 = nn.Linear(150,300)\n",
        "        self.linb6 = nn.BatchNorm1d(300)\n",
        "        self.lin8 = nn.Linear(300,length)\n",
        "        # self.lin9 = nn.Linear(400,length)\n",
        "\n",
        "        self.drop2 = nn.Dropout(0.05)\n",
        "\n",
        "    def forward(self, data):\n",
        "        x = F.relu(self.lin1(data))\n",
        "        # x = self.lin1(x)\n",
        "        x = self.linb1(x)\n",
        "        x = self.drop2(F.relu(self.lin2(x)))\n",
        "        x = self.linb2(x)\n",
        "        x = self.lin3(x)\n",
        "        x= F.relu(x)\n",
        "        x = self.linb3(x)\n",
        "        x = self.drop2(x)\n",
        "        x = F.relu(self.lin4(x))\n",
        "        x = F.relu(self.lin45(x))\n",
        "        x = self.linb4(x)\n",
        "        x = F.relu(self.lin46(x))\n",
        "        x = F.relu(self.lin5(x))\n",
        "        x = self.linb5(x)\n",
        "        x = self.drop2(x)\n",
        "        x = F.relu(self.lin6(x))\n",
        "        x = F.relu(self.lin7(x))\n",
        "        x = self.linb6(x)\n",
        "        x = self.lin8(x)\n",
        "        # x = self.lin9(x)\n",
        "\n",
        "        return x\n",
        "\n",
        "def test(x):\n",
        "  model.eval()\n",
        "  # test_loss = 0\n",
        "  # correct = 0\n",
        "  with torch.no_grad():\n",
        "    predicted = model(V(x))\n",
        "    real = V(x)\n",
        "    return loss(predicted , real ).item()\n"
      ],
      "execution_count": 109,
      "outputs": []
    },
    {
      "cell_type": "code",
      "metadata": {
        "id": "LSR12uA0mgzt"
      },
      "source": [
        "import torch.optim\n",
        "import collections"
      ],
      "execution_count": 52,
      "outputs": []
    },
    {
      "cell_type": "code",
      "metadata": {
        "colab": {
          "base_uri": "https://localhost:8080/"
        },
        "id": "aZ6gxfqemWRb",
        "outputId": "0c80596c-10d2-47bb-df4b-e49313320e6f"
      },
      "source": [
        "model = AutoEncoder(length)\n",
        "\n",
        "loss=nn.MSELoss()\n",
        "learning_rate = 1e-2\n",
        "optimizer=torch.optim.Adam(model.parameters(), lr=learning_rate)\n",
        "# optimizer=torch.optim.SGD(model.parameters(), lr=learning_rate)\n",
        "\n",
        "print(model)\n",
        "\n",
        "model_hist = collections.namedtuple('Model','epoch loss val_loss')\n",
        "model_loss = model_hist(epoch = [], loss = [], val_loss = [])\n"
      ],
      "execution_count": 110,
      "outputs": [
        {
          "output_type": "stream",
          "text": [
            "AutoEncoder(\n",
            "  (lin1): Linear(in_features=531, out_features=300, bias=True)\n",
            "  (linb1): BatchNorm1d(300, eps=1e-05, momentum=0.1, affine=True, track_running_stats=True)\n",
            "  (lin2): Linear(in_features=300, out_features=150, bias=True)\n",
            "  (linb2): BatchNorm1d(150, eps=1e-05, momentum=0.1, affine=True, track_running_stats=True)\n",
            "  (lin3): Linear(in_features=150, out_features=75, bias=True)\n",
            "  (linb3): BatchNorm1d(75, eps=1e-05, momentum=0.1, affine=True, track_running_stats=True)\n",
            "  (lin4): Linear(in_features=75, out_features=30, bias=True)\n",
            "  (lin45): Linear(in_features=30, out_features=10, bias=True)\n",
            "  (linb4): BatchNorm1d(10, eps=1e-05, momentum=0.1, affine=True, track_running_stats=True)\n",
            "  (lin46): Linear(in_features=10, out_features=30, bias=True)\n",
            "  (lin5): Linear(in_features=30, out_features=75, bias=True)\n",
            "  (linb5): BatchNorm1d(75, eps=1e-05, momentum=0.1, affine=True, track_running_stats=True)\n",
            "  (lin6): Linear(in_features=75, out_features=150, bias=True)\n",
            "  (lin7): Linear(in_features=150, out_features=300, bias=True)\n",
            "  (linb6): BatchNorm1d(300, eps=1e-05, momentum=0.1, affine=True, track_running_stats=True)\n",
            "  (lin8): Linear(in_features=300, out_features=531, bias=True)\n",
            "  (drop2): Dropout(p=0.05, inplace=False)\n",
            ")\n"
          ],
          "name": "stdout"
        }
      ]
    },
    {
      "cell_type": "code",
      "metadata": {
        "id": "PKdWTDPOmzm6"
      },
      "source": [
        "from tqdm import tqdm, tqdm_notebook"
      ],
      "execution_count": 54,
      "outputs": []
    },
    {
      "cell_type": "code",
      "metadata": {
        "id": "3Xm_RpD2pCuw"
      },
      "source": [
        "from torch.autograd import Variable as V"
      ],
      "execution_count": 55,
      "outputs": []
    },
    {
      "cell_type": "code",
      "metadata": {
        "colab": {
          "base_uri": "https://localhost:8080/"
        },
        "id": "nsAMXFx4Qaff",
        "outputId": "8fd22cb0-cff9-4401-8668-0d700ab2f4df"
      },
      "source": [
        "x_train_correct_dl"
      ],
      "execution_count": 56,
      "outputs": [
        {
          "output_type": "execute_result",
          "data": {
            "text/plain": [
              "<torch.utils.data.dataloader.DataLoader at 0x7f61c8e81048>"
            ]
          },
          "metadata": {
            "tags": []
          },
          "execution_count": 56
        }
      ]
    },
    {
      "cell_type": "code",
      "metadata": {
        "id": "TobV5J7GmtMe"
      },
      "source": [
        "def train(epochs, model, model_loss):\n",
        "    is_overfitted = int(0)\n",
        "    last_val_loss = 1000 #For Early Stopping\n",
        "    try: c = model_loss.epoch[-1]\n",
        "\n",
        "    except: c = 0\n",
        "    for epoch in tqdm_notebook(range(epochs),position=0, total = epochs):\n",
        "        losses=[]\n",
        "        dl = iter(x_train_correct_dl)\n",
        "        for t in range(len(dl)):\n",
        "            model.train()\n",
        "          \n",
        "            xt = next(dl)\n",
        "            y_pred = model(V(xt))\n",
        "            \n",
        "            l = loss(y_pred,V(xt))\n",
        "            losses.append(l)\n",
        "            optimizer.zero_grad()\n",
        "\n",
        "            l.backward()\n",
        "\n",
        "            optimizer.step()\n",
        "\n",
        "        losss= l.item()\n",
        "        if (epoch+1) % 5 == 0:\n",
        "              \n",
        "          val_dl = iter(x_test_correct_dl)\n",
        "          val_scores = [test(next(val_dl)) for i in range(len(val_dl))]\n",
        "\n",
        "          model_loss.epoch.append(c+epoch)\n",
        "          model_loss.loss.append(l.item())\n",
        "          model_loss.val_loss.append(np.mean(val_scores))\n",
        "\n",
        "          val_losss = np.mean(val_scores)\n",
        "\n",
        "          #Check out loss for early stopping\n",
        "          if val_losss > last_val_loss:\n",
        "            is_overfitted +=1\n",
        "          else:\n",
        "            is_overfitted = 0\n",
        "            \n",
        "          last_val_loss = val_losss\n",
        "          if is_overfitted == 3:\n",
        "            print('Starts to overfitting!')\n",
        "            break;\n",
        "\n",
        "          print(f'Epoch: {epoch+1}   Loss: {losss:.4f}  Val_Loss on correct set: {val_losss:.4f}')\n",
        "\n",
        "        else:\n",
        "          print(f'Epoch: {epoch+1}   Loss: {losss:.4f}')"
      ],
      "execution_count": 57,
      "outputs": []
    },
    {
      "cell_type": "code",
      "metadata": {
        "id": "-eUegDjhm27P"
      },
      "source": [
        "epochs = 120"
      ],
      "execution_count": 58,
      "outputs": []
    },
    {
      "cell_type": "code",
      "metadata": {
        "colab": {
          "base_uri": "https://localhost:8080/",
          "height": 1000,
          "referenced_widgets": [
            "50d84edf76d4483597180d2f2ac3b48f",
            "fd7e256167bc4990b26bff74dbcb8b6d",
            "f27012682535461c9d09d705f2c9648a",
            "edb9a150b2344d6da8356b6b231c8f87",
            "64ea0596981347a09e942fe16b74a3dd",
            "9e022bf00b634824b133695aa3a6e0f7",
            "f7020850a4de4709a6c90149eaf3a925",
            "781865ce63064c619a4bed9165312018"
          ]
        },
        "id": "pSUevI9cJWef",
        "outputId": "d5f91dc3-453b-4a96-c0e7-3d335e918c63"
      },
      "source": [
        "train(model=model, epochs=epochs, model_loss=model_loss)"
      ],
      "execution_count": 59,
      "outputs": [
        {
          "output_type": "stream",
          "text": [
            "/usr/local/lib/python3.6/dist-packages/ipykernel_launcher.py:7: TqdmDeprecationWarning: This function will be removed in tqdm==5.0.0\n",
            "Please use `tqdm.notebook.tqdm` instead of `tqdm.tqdm_notebook`\n",
            "  import sys\n"
          ],
          "name": "stderr"
        },
        {
          "output_type": "display_data",
          "data": {
            "application/vnd.jupyter.widget-view+json": {
              "model_id": "50d84edf76d4483597180d2f2ac3b48f",
              "version_minor": 0,
              "version_major": 2
            },
            "text/plain": [
              "HBox(children=(FloatProgress(value=0.0, max=120.0), HTML(value='')))"
            ]
          },
          "metadata": {
            "tags": []
          }
        },
        {
          "output_type": "stream",
          "text": [
            "Epoch: 1   Loss: 0.0034\n",
            "Epoch: 2   Loss: 0.0027\n",
            "Epoch: 3   Loss: 0.0022\n",
            "Epoch: 4   Loss: 0.0019\n",
            "Epoch: 5   Loss: 0.0018  Val_Loss on correct set: 0.0014\n",
            "Epoch: 6   Loss: 0.0016\n",
            "Epoch: 7   Loss: 0.0016\n",
            "Epoch: 8   Loss: 0.0015\n",
            "Epoch: 9   Loss: 0.0014\n",
            "Epoch: 10   Loss: 0.0015  Val_Loss on correct set: 0.0011\n",
            "Epoch: 11   Loss: 0.0013\n",
            "Epoch: 12   Loss: 0.0013\n",
            "Epoch: 13   Loss: 0.0013\n",
            "Epoch: 14   Loss: 0.0012\n",
            "Epoch: 15   Loss: 0.0012  Val_Loss on correct set: 0.0009\n",
            "Epoch: 16   Loss: 0.0012\n",
            "Epoch: 17   Loss: 0.0011\n",
            "Epoch: 18   Loss: 0.0011\n",
            "Epoch: 19   Loss: 0.0012\n",
            "Epoch: 20   Loss: 0.0011  Val_Loss on correct set: 0.0009\n",
            "Epoch: 21   Loss: 0.0011\n",
            "Epoch: 22   Loss: 0.0011\n",
            "Epoch: 23   Loss: 0.0011\n",
            "Epoch: 24   Loss: 0.0011\n",
            "Epoch: 25   Loss: 0.0011  Val_Loss on correct set: 0.0022\n",
            "Epoch: 26   Loss: 0.0012\n",
            "Epoch: 27   Loss: 0.0011\n",
            "Epoch: 28   Loss: 0.0011\n",
            "Epoch: 29   Loss: 0.0011\n",
            "Epoch: 30   Loss: 0.0011  Val_Loss on correct set: 0.0008\n",
            "Epoch: 31   Loss: 0.0010\n",
            "Epoch: 32   Loss: 0.0010\n",
            "Epoch: 33   Loss: 0.0011\n",
            "Epoch: 34   Loss: 0.0011\n",
            "Epoch: 35   Loss: 0.0010  Val_Loss on correct set: 0.0008\n",
            "Epoch: 36   Loss: 0.0011\n",
            "Epoch: 37   Loss: 0.0010\n",
            "Epoch: 38   Loss: 0.0010\n",
            "Epoch: 39   Loss: 0.0013\n",
            "Epoch: 40   Loss: 0.0011  Val_Loss on correct set: 0.0008\n",
            "Epoch: 41   Loss: 0.0010\n",
            "Epoch: 42   Loss: 0.0011\n",
            "Epoch: 43   Loss: 0.0011\n",
            "Epoch: 44   Loss: 0.0010\n",
            "Epoch: 45   Loss: 0.0010  Val_Loss on correct set: 130100.3984\n",
            "Epoch: 46   Loss: 0.0010\n",
            "Epoch: 47   Loss: 0.0010\n",
            "Epoch: 48   Loss: 0.0010\n",
            "Epoch: 49   Loss: 0.0010\n",
            "Epoch: 50   Loss: 0.0011  Val_Loss on correct set: 0.0007\n",
            "Epoch: 51   Loss: 0.0010\n",
            "Epoch: 52   Loss: 0.0011\n",
            "Epoch: 53   Loss: 0.0010\n",
            "Epoch: 54   Loss: 0.0010\n",
            "Epoch: 55   Loss: 0.0010  Val_Loss on correct set: 101413.1235\n",
            "Epoch: 56   Loss: 0.0009\n",
            "Epoch: 57   Loss: 0.0010\n",
            "Epoch: 58   Loss: 0.0009\n",
            "Epoch: 59   Loss: 0.0010\n",
            "Epoch: 60   Loss: 0.0011  Val_Loss on correct set: 0.0078\n",
            "Epoch: 61   Loss: 0.0010\n",
            "Epoch: 62   Loss: 0.0010\n",
            "Epoch: 63   Loss: 0.0009\n",
            "Epoch: 64   Loss: 0.0010\n",
            "Epoch: 65   Loss: 0.0010  Val_Loss on correct set: 0.0007\n",
            "Epoch: 66   Loss: 0.0010\n",
            "Epoch: 67   Loss: 0.0010\n",
            "Epoch: 68   Loss: 0.0010\n",
            "Epoch: 69   Loss: 0.0010\n",
            "Epoch: 70   Loss: 0.0010  Val_Loss on correct set: 0.0007\n",
            "Epoch: 71   Loss: 0.0009\n",
            "Epoch: 72   Loss: 0.0009\n",
            "Epoch: 73   Loss: 0.0009\n",
            "Epoch: 74   Loss: 0.0010\n",
            "Epoch: 75   Loss: 0.0011  Val_Loss on correct set: 0.0008\n",
            "Epoch: 76   Loss: 0.0009\n",
            "Epoch: 77   Loss: 0.0009\n",
            "Epoch: 78   Loss: 0.0009\n",
            "Epoch: 79   Loss: 0.0010\n",
            "Epoch: 80   Loss: 0.0009  Val_Loss on correct set: 0.0007\n",
            "Epoch: 81   Loss: 0.0009\n",
            "Epoch: 82   Loss: 0.0009\n",
            "Epoch: 83   Loss: 0.0009\n",
            "Epoch: 84   Loss: 0.0009\n",
            "Epoch: 85   Loss: 0.0009  Val_Loss on correct set: 0.0007\n",
            "Epoch: 86   Loss: 0.0009\n",
            "Epoch: 87   Loss: 0.0009\n",
            "Epoch: 88   Loss: 0.0010\n",
            "Epoch: 89   Loss: 0.0009\n",
            "Epoch: 90   Loss: 0.0009  Val_Loss on correct set: 0.0007\n",
            "Epoch: 91   Loss: 0.0009\n",
            "Epoch: 92   Loss: 0.0010\n",
            "Epoch: 93   Loss: 0.0009\n",
            "Epoch: 94   Loss: 0.0009\n",
            "Epoch: 95   Loss: 0.0010  Val_Loss on correct set: 0.0007\n",
            "Epoch: 96   Loss: 0.0009\n",
            "Epoch: 97   Loss: 0.0009\n",
            "Epoch: 98   Loss: 0.0009\n",
            "Epoch: 99   Loss: 0.0010\n",
            "Epoch: 100   Loss: 0.0009  Val_Loss on correct set: 0.0007\n",
            "Epoch: 101   Loss: 0.0009\n",
            "Epoch: 102   Loss: 0.0009\n",
            "Epoch: 103   Loss: 0.0009\n",
            "Epoch: 104   Loss: 0.0009\n",
            "Epoch: 105   Loss: 0.0009  Val_Loss on correct set: 0.0007\n",
            "Epoch: 106   Loss: 0.0009\n",
            "Epoch: 107   Loss: 0.0009\n",
            "Epoch: 108   Loss: 0.0009\n",
            "Epoch: 109   Loss: 0.0010\n",
            "Epoch: 110   Loss: 0.0009  Val_Loss on correct set: 0.0007\n",
            "Epoch: 111   Loss: 0.0009\n",
            "Epoch: 112   Loss: 0.0009\n",
            "Epoch: 113   Loss: 0.0009\n",
            "Epoch: 114   Loss: 0.0009\n",
            "Epoch: 115   Loss: 0.0009  Val_Loss on correct set: 0.0007\n",
            "Epoch: 116   Loss: 0.0009\n",
            "Epoch: 117   Loss: 0.0009\n",
            "Epoch: 118   Loss: 0.0010\n",
            "Epoch: 119   Loss: 0.0010\n",
            "Starts to overfitting!\n"
          ],
          "name": "stdout"
        }
      ]
    },
    {
      "cell_type": "markdown",
      "metadata": {
        "id": "AoE7Zo5wXlpo"
      },
      "source": [
        "Separately try again on test set for each single data and draw a plot to see whether there would be a point to divide into fraud and correct datasets."
      ]
    },
    {
      "cell_type": "code",
      "metadata": {
        "id": "2vZKogr9vkYc"
      },
      "source": [
        "#AGAIN ON TRAIN:\n",
        "x_train_correct_dl = dt.DataLoader(X_train,batch_size=1)\n",
        "x_fraud_dl = dt.DataLoader(X_fraud ,batch_size=1)\n",
        "\n",
        "df_result = pd.DataFrame()\n",
        "df_result['kind'] = [] #F or C\n",
        "df_result['res'] = []\n",
        "\n",
        "#To test on equal number of correct and fraud data\n",
        "cr_dl = iter(x_train_correct_dl)\n",
        "fr_dl = iter(x_fraud_dl)\n",
        "\n",
        "for i in range(500):\n",
        "  df_result = df_result.append({'res':test(next(cr_dl))  , 'kind':'C'} , ignore_index=True)\n",
        "  df_result = df_result.append({'res':test(next(fr_dl))  , 'kind': 'F'} , ignore_index=True)"
      ],
      "execution_count": 60,
      "outputs": []
    },
    {
      "cell_type": "code",
      "metadata": {
        "id": "UExsiCGxeCPy"
      },
      "source": [
        "import matplotlib.pyplot as plt\n",
        "import seaborn as sns"
      ],
      "execution_count": 61,
      "outputs": []
    },
    {
      "cell_type": "code",
      "metadata": {
        "colab": {
          "base_uri": "https://localhost:8080/",
          "height": 245
        },
        "id": "DVUAnAUUwTYj",
        "outputId": "69e514e7-c765-4d4b-ffa7-526dfce2f11c"
      },
      "source": [
        "plt.rcParams[\"figure.figsize\"]=30,3\n",
        "\n",
        "sns.scatterplot( x =df_result['res'] ,y =0 , hue = df_result['kind'],marker='|',s=500,alpha = 0.5) #Height is not important\n",
        "sns.scatterplot( x =df_result['res'][df_result['kind'] == 'F'] ,y =-0.1 ,marker='|',s=500,alpha = 0.5)\n",
        "sns.scatterplot( x =df_result['res'][df_result['kind'] == 'C'] ,y =0.1 ,marker='|',s=500,alpha = 0.5) \n",
        "\n",
        "plt.show()"
      ],
      "execution_count": 62,
      "outputs": [
        {
          "output_type": "display_data",
          "data": {
            "image/png": "[encoded data removed]",
            "text/plain": [
              "<Figure size 2160x216 with 1 Axes>"
            ]
          },
          "metadata": {
            "tags": [],
            "needs_background": "light"
          }
        }
      ]
    },
    {
      "cell_type": "markdown",
      "metadata": {
        "id": "F5CChVhCXFSk"
      },
      "source": [
        "In the above demographic, *y* is not important and is only used to have all three graphs separately in one plot.\n",
        "\n",
        "\n",
        "First and last one show loss of 500 different correct and fraud data respectively.\n",
        "The graph in between is overlapped of other two.\n",
        "\n",
        "\n",
        "As we see the correct data loss are more dense and compressed to the left, while frauds are more sparsed.\n",
        "\n",
        "(The difference is acutally so slight.)"
      ]
    },
    {
      "cell_type": "code",
      "metadata": {
        "id": "aM6q2eawXwIs"
      },
      "source": [
        "batch_size = 1 #One by one\n",
        "\n",
        "x_test_correct_dl = dt.DataLoader(X_test,batch_size=batch_size)\n",
        "y_test_correct_dl = dt.DataLoader(y_test,batch_size=batch_size)\n",
        "\n",
        "x_fraud_dl = dt.DataLoader(X_fraud ,batch_size=batch_size)\n",
        "y_fraud_dl = dt.DataLoader(y_fraud,batch_size=batch_size)"
      ],
      "execution_count": 63,
      "outputs": []
    },
    {
      "cell_type": "code",
      "metadata": {
        "id": "niAo7UlvuV7e"
      },
      "source": [
        "del X_test\n",
        "del y_test\n",
        "del X_fraud\n",
        "del y_fraud"
      ],
      "execution_count": 64,
      "outputs": []
    },
    {
      "cell_type": "code",
      "metadata": {
        "colab": {
          "base_uri": "https://localhost:8080/"
        },
        "id": "wlCFLzMvb268",
        "outputId": "74ed7719-a3bc-4902-b38e-924c77e4e099"
      },
      "source": [
        "df_result = pd.DataFrame()\n",
        "df_result['kind'] = [] #F or C\n",
        "df_result['res'] = []\n",
        "\n",
        "#To test on equal number of correct and fraud data\n",
        "cr_dl = iter(x_test_correct_dl)\n",
        "fr_dl = iter(x_fraud_dl)\n",
        "\n",
        "for i in range(5_000):\n",
        "  if i%1000 == 0 :\n",
        "    print(i)\n",
        "  df_result = df_result.append({'res':test(next(cr_dl))  , 'kind':'C'} , ignore_index=True)\n",
        "  df_result = df_result.append({'res':test(next(fr_dl))  , 'kind': 'F'} , ignore_index=True)\n",
        "  "
      ],
      "execution_count": 65,
      "outputs": [
        {
          "output_type": "stream",
          "text": [
            "0\n",
            "1000\n",
            "2000\n",
            "3000\n",
            "4000\n"
          ],
          "name": "stdout"
        }
      ]
    },
    {
      "cell_type": "code",
      "metadata": {
        "colab": {
          "base_uri": "https://localhost:8080/",
          "height": 204
        },
        "id": "PzCMm7RzhVo-",
        "outputId": "8d59c200-b17b-4772-a7ff-8734139bb9ce"
      },
      "source": [
        "df_result.head(5)"
      ],
      "execution_count": 66,
      "outputs": [
        {
          "output_type": "execute_result",
          "data": {
            "text/html": [
              "<div>\n",
              "<style scoped>\n",
              "    .dataframe tbody tr th:only-of-type {\n",
              "        vertical-align: middle;\n",
              "    }\n",
              "\n",
              "    .dataframe tbody tr th {\n",
              "        vertical-align: top;\n",
              "    }\n",
              "\n",
              "    .dataframe thead th {\n",
              "        text-align: right;\n",
              "    }\n",
              "</style>\n",
              "<table border=\"1\" class=\"dataframe\">\n",
              "  <thead>\n",
              "    <tr style=\"text-align: right;\">\n",
              "      <th></th>\n",
              "      <th>kind</th>\n",
              "      <th>res</th>\n",
              "    </tr>\n",
              "  </thead>\n",
              "  <tbody>\n",
              "    <tr>\n",
              "      <th>0</th>\n",
              "      <td>C</td>\n",
              "      <td>0.000512</td>\n",
              "    </tr>\n",
              "    <tr>\n",
              "      <th>1</th>\n",
              "      <td>F</td>\n",
              "      <td>0.001393</td>\n",
              "    </tr>\n",
              "    <tr>\n",
              "      <th>2</th>\n",
              "      <td>C</td>\n",
              "      <td>0.000114</td>\n",
              "    </tr>\n",
              "    <tr>\n",
              "      <th>3</th>\n",
              "      <td>F</td>\n",
              "      <td>0.001203</td>\n",
              "    </tr>\n",
              "    <tr>\n",
              "      <th>4</th>\n",
              "      <td>C</td>\n",
              "      <td>0.000864</td>\n",
              "    </tr>\n",
              "  </tbody>\n",
              "</table>\n",
              "</div>"
            ],
            "text/plain": [
              "  kind       res\n",
              "0    C  0.000512\n",
              "1    F  0.001393\n",
              "2    C  0.000114\n",
              "3    F  0.001203\n",
              "4    C  0.000864"
            ]
          },
          "metadata": {
            "tags": []
          },
          "execution_count": 66
        }
      ]
    },
    {
      "cell_type": "code",
      "metadata": {
        "id": "JehlIj87c5I1"
      },
      "source": [
        "import seaborn as sns\n",
        "import matplotlib.pyplot as plt"
      ],
      "execution_count": 67,
      "outputs": []
    },
    {
      "cell_type": "code",
      "metadata": {
        "colab": {
          "base_uri": "https://localhost:8080/",
          "height": 245
        },
        "id": "TWHwX7iMc9L9",
        "outputId": "53c437e7-5d9f-46e0-bdd0-8ca4c7baf604"
      },
      "source": [
        "plt.rcParams[\"figure.figsize\"]=30,3\n",
        "\n",
        "sns.scatterplot( x =df_result['res'] ,y =0 , hue = df_result['kind'],marker='|',s=500,alpha = 0.5) #Height is not important\n",
        "sns.scatterplot( x =df_result['res'][df_result['kind'] == 'F'] ,y =-0.1 ,marker='|',s=500,alpha = 0.5)\n",
        "sns.scatterplot( x =df_result['res'][df_result['kind'] == 'C'] ,y =0.1 ,marker='|',s=500,alpha = 0.5) \n",
        "\n",
        "plt.show()"
      ],
      "execution_count": 68,
      "outputs": [
        {
          "output_type": "display_data",
          "data": {
            "image/png": "[encoded data removed]",
            "text/plain": [
              "<Figure size 2160x216 with 1 Axes>"
            ]
          },
          "metadata": {
            "tags": [],
            "needs_background": "light"
          }
        }
      ]
    },
    {
      "cell_type": "markdown",
      "metadata": {
        "id": "lhC9rSETYJkC"
      },
      "source": [
        "The result is somehow same as last plot."
      ]
    },
    {
      "cell_type": "markdown",
      "metadata": {
        "id": "cxCmCoPJo9bV"
      },
      "source": [
        "It seems the seperator can be 0.002.\n",
        "\n",
        "(It would be better if we created another neural network to predict whether a data loss value comming from autoencoder is for fraud or correct.)\n",
        "\n"
      ]
    },
    {
      "cell_type": "code",
      "metadata": {
        "id": "TX1YjG0VpCRs"
      },
      "source": [
        "y_predicts = []\n",
        "y = []\n",
        "separator = 0.002\n",
        "\n",
        "for i in range(len(df_result)):\n",
        "\n",
        "  if df_result.iloc[i]['kind'] == 'C':\n",
        "    y.append(0)\n",
        "  else:\n",
        "    y.append(1)\n",
        "\n",
        "  if df_result.iloc[i]['res'] < separator:\n",
        "    y_predicts.append(0)\n",
        "  else:\n",
        "    y_predicts.append(1)\n",
        "  "
      ],
      "execution_count": 70,
      "outputs": []
    },
    {
      "cell_type": "code",
      "metadata": {
        "colab": {
          "base_uri": "https://localhost:8080/"
        },
        "id": "DYqTFP-GpMF_",
        "outputId": "f3cb00cd-f061-470a-ab9b-198fd229ea23"
      },
      "source": [
        "y_predicts[:5]"
      ],
      "execution_count": 71,
      "outputs": [
        {
          "output_type": "execute_result",
          "data": {
            "text/plain": [
              "[0, 0, 0, 0, 0]"
            ]
          },
          "metadata": {
            "tags": []
          },
          "execution_count": 71
        }
      ]
    },
    {
      "cell_type": "code",
      "metadata": {
        "colab": {
          "base_uri": "https://localhost:8080/",
          "height": 339
        },
        "id": "sIMs3hkHpyVO",
        "outputId": "2b62ee90-403d-4d6d-fd62-81898332259d"
      },
      "source": [
        "from sklearn.metrics import confusion_matrix\n",
        "\n",
        "data = confusion_matrix( y, y_predicts)\n",
        "df_cm = pd.DataFrame(data)\n",
        "df_cm.index.name = 'Actual Is Fraud'\n",
        "df_cm.columns.name = 'Predicted Is Fraud'\n",
        "plt.figure(figsize = (5,5))\n",
        "sns.set(font_scale=1)#for label size\n",
        "sns.heatmap(df_cm, cmap=\"Greens\",fmt=\"d\", annot=True,annot_kws={\"size\": 18})# font size\n",
        "plt.show()"
      ],
      "execution_count": 72,
      "outputs": [
        {
          "output_type": "display_data",
          "data": {
            "image/png": "[encoded data removed]",
            "text/plain": [
              "<Figure size 360x360 with 2 Axes>"
            ]
          },
          "metadata": {
            "tags": [],
            "needs_background": "light"
          }
        }
      ]
    },
    {
      "cell_type": "code",
      "metadata": {
        "id": "XOB004RFi0cs"
      },
      "source": [
        " X_corr_valid_dl = dt.DataLoader(X_valid_corr,batch_size=1)\n",
        " X_fraud_valid_dl = dt.DataLoader(X_valid_fraud,batch_size=1)"
      ],
      "execution_count": 73,
      "outputs": []
    },
    {
      "cell_type": "code",
      "metadata": {
        "colab": {
          "base_uri": "https://localhost:8080/"
        },
        "id": "gyF3OwgTrnDa",
        "outputId": "62645c34-b90f-49ce-e999-751d4a653ab7"
      },
      "source": [
        "len(X_corr_valid_dl)"
      ],
      "execution_count": 74,
      "outputs": [
        {
          "output_type": "execute_result",
          "data": {
            "text/plain": [
              "57053"
            ]
          },
          "metadata": {
            "tags": []
          },
          "execution_count": 74
        }
      ]
    },
    {
      "cell_type": "code",
      "metadata": {
        "colab": {
          "base_uri": "https://localhost:8080/"
        },
        "id": "sHklkauUrszg",
        "outputId": "a8343c58-dc81-406d-c1ad-b63e198c91bc"
      },
      "source": [
        "len(X_fraud_valid_dl)"
      ],
      "execution_count": 75,
      "outputs": [
        {
          "output_type": "execute_result",
          "data": {
            "text/plain": [
              "2001"
            ]
          },
          "metadata": {
            "tags": []
          },
          "execution_count": 75
        }
      ]
    },
    {
      "cell_type": "code",
      "metadata": {
        "id": "Tn9oCU8WiT-k"
      },
      "source": [
        "df_valid = pd.DataFrame()\n",
        "df_valid['kind'] = [] #F or C\n",
        "df_valid['res'] = []\n",
        "\n",
        "#To test pn equal number of correct and fraud data\n",
        "cr_valid_dl = iter(X_corr_valid_dl)\n",
        "fr_valid_dl = iter(X_fraud_valid_dl)\n",
        "\n",
        "for i in range(1_000):\n",
        "  df_valid = df_valid.append({'res':test(next(cr_valid_dl))  , 'kind':'C'} , ignore_index=True)\n",
        "  df_valid = df_valid.append({'res':test(next(fr_valid_dl))  , 'kind': 'F'} , ignore_index=True)\n",
        "  # if i%1000 == 0:\n",
        "  #   print(i)"
      ],
      "execution_count": 76,
      "outputs": []
    },
    {
      "cell_type": "code",
      "metadata": {
        "colab": {
          "base_uri": "https://localhost:8080/",
          "height": 131
        },
        "id": "_G38HAHLreCL",
        "outputId": "f9a04c7f-529d-4ed3-d087-095ea42826cb"
      },
      "source": [
        "df_valid.head(20).T"
      ],
      "execution_count": 77,
      "outputs": [
        {
          "output_type": "execute_result",
          "data": {
            "text/html": [
              "<div>\n",
              "<style scoped>\n",
              "    .dataframe tbody tr th:only-of-type {\n",
              "        vertical-align: middle;\n",
              "    }\n",
              "\n",
              "    .dataframe tbody tr th {\n",
              "        vertical-align: top;\n",
              "    }\n",
              "\n",
              "    .dataframe thead th {\n",
              "        text-align: right;\n",
              "    }\n",
              "</style>\n",
              "<table border=\"1\" class=\"dataframe\">\n",
              "  <thead>\n",
              "    <tr style=\"text-align: right;\">\n",
              "      <th></th>\n",
              "      <th>0</th>\n",
              "      <th>1</th>\n",
              "      <th>2</th>\n",
              "      <th>3</th>\n",
              "      <th>4</th>\n",
              "      <th>5</th>\n",
              "      <th>6</th>\n",
              "      <th>7</th>\n",
              "      <th>8</th>\n",
              "      <th>9</th>\n",
              "      <th>10</th>\n",
              "      <th>11</th>\n",
              "      <th>12</th>\n",
              "      <th>13</th>\n",
              "      <th>14</th>\n",
              "      <th>15</th>\n",
              "      <th>16</th>\n",
              "      <th>17</th>\n",
              "      <th>18</th>\n",
              "      <th>19</th>\n",
              "    </tr>\n",
              "  </thead>\n",
              "  <tbody>\n",
              "    <tr>\n",
              "      <th>kind</th>\n",
              "      <td>C</td>\n",
              "      <td>F</td>\n",
              "      <td>C</td>\n",
              "      <td>F</td>\n",
              "      <td>C</td>\n",
              "      <td>F</td>\n",
              "      <td>C</td>\n",
              "      <td>F</td>\n",
              "      <td>C</td>\n",
              "      <td>F</td>\n",
              "      <td>C</td>\n",
              "      <td>F</td>\n",
              "      <td>C</td>\n",
              "      <td>F</td>\n",
              "      <td>C</td>\n",
              "      <td>F</td>\n",
              "      <td>C</td>\n",
              "      <td>F</td>\n",
              "      <td>C</td>\n",
              "      <td>F</td>\n",
              "    </tr>\n",
              "    <tr>\n",
              "      <th>res</th>\n",
              "      <td>0.000166433</td>\n",
              "      <td>0.00165752</td>\n",
              "      <td>0.000180593</td>\n",
              "      <td>0.000194151</td>\n",
              "      <td>0.000263578</td>\n",
              "      <td>0.000728399</td>\n",
              "      <td>0.000422885</td>\n",
              "      <td>0.0137623</td>\n",
              "      <td>0.000491091</td>\n",
              "      <td>0.00264483</td>\n",
              "      <td>0.000511958</td>\n",
              "      <td>0.00376892</td>\n",
              "      <td>0.00023456</td>\n",
              "      <td>0.000279555</td>\n",
              "      <td>0.000487422</td>\n",
              "      <td>0.000758465</td>\n",
              "      <td>0.000345656</td>\n",
              "      <td>0.00148679</td>\n",
              "      <td>0.000575202</td>\n",
              "      <td>0.000787362</td>\n",
              "    </tr>\n",
              "  </tbody>\n",
              "</table>\n",
              "</div>"
            ],
            "text/plain": [
              "               0           1   ...           18           19\n",
              "kind            C           F  ...            C            F\n",
              "res   0.000166433  0.00165752  ...  0.000575202  0.000787362\n",
              "\n",
              "[2 rows x 20 columns]"
            ]
          },
          "metadata": {
            "tags": []
          },
          "execution_count": 77
        }
      ]
    },
    {
      "cell_type": "code",
      "metadata": {
        "colab": {
          "base_uri": "https://localhost:8080/",
          "height": 199
        },
        "id": "3NyB_zOirXgT",
        "outputId": "4f704a4c-08df-4556-8267-df5b44d29730"
      },
      "source": [
        "sns.scatterplot( x =df_valid['res'] ,y =0 , hue = df_valid['kind'],marker = '|',s=500,alpha = 0.5) #Height is not important\n",
        "sns.scatterplot( x =df_valid['res'][df_valid['kind']=='C'] ,y =0.1 ,marker = '|',s=500,alpha = 1)\n",
        "sns.scatterplot( x =df_valid['res'][df_valid['kind']=='F'] ,y =-0.1 ,marker = '|',s=500,alpha = 1)\n",
        "plt.show()"
      ],
      "execution_count": 78,
      "outputs": [
        {
          "output_type": "display_data",
          "data": {
            "image/png": "[encoded data removed]",
            "text/plain": [
              "<Figure size 2160x216 with 1 Axes>"
            ]
          },
          "metadata": {
            "tags": []
          }
        }
      ]
    },
    {
      "cell_type": "code",
      "metadata": {
        "id": "sg7BBBlSt5fl"
      },
      "source": [
        "del df_valid\n",
        "del fr_valid_dl\n",
        "del cr_valid_dl\n",
        "del X_corr_valid_dl\n",
        "del X_fraud_valid_dl\n",
        "del df_result"
      ],
      "execution_count": 79,
      "outputs": []
    },
    {
      "cell_type": "code",
      "metadata": {
        "id": "5GtmCZWjjJIP"
      },
      "source": [
        "y_predicts = []\n",
        "y = []\n",
        "separator = 0.0025\n",
        "\n",
        "for i in range(len(df_valid)):\n",
        "\n",
        "  if df_valid.iloc[i]['kind'] == 'C':\n",
        "    y.append(0)\n",
        "  else:\n",
        "    y.append(1)\n",
        "\n",
        "  if df_valid.iloc[i]['res'] < separator:\n",
        "    y_predicts.append(0)\n",
        "  else:\n",
        "    y_predicts.append(1)"
      ],
      "execution_count": 80,
      "outputs": []
    },
    {
      "cell_type": "code",
      "metadata": {
        "colab": {
          "base_uri": "https://localhost:8080/"
        },
        "id": "hs60AFk1tEZE",
        "outputId": "2f512a3f-89d1-4260-e5f3-15762071d43c"
      },
      "source": [
        "y_predicts[:10]"
      ],
      "execution_count": 81,
      "outputs": [
        {
          "output_type": "execute_result",
          "data": {
            "text/plain": [
              "[0, 0, 0, 0, 0, 0, 0, 1, 0, 1]"
            ]
          },
          "metadata": {
            "tags": []
          },
          "execution_count": 81
        }
      ]
    },
    {
      "cell_type": "code",
      "metadata": {
        "colab": {
          "base_uri": "https://localhost:8080/"
        },
        "id": "MUySlCiZtIYE",
        "outputId": "7eb0071f-cf64-4fd4-d598-94176da13f0d"
      },
      "source": [
        "y[:10]"
      ],
      "execution_count": 82,
      "outputs": [
        {
          "output_type": "execute_result",
          "data": {
            "text/plain": [
              "[0, 1, 0, 1, 0, 1, 0, 1, 0, 1]"
            ]
          },
          "metadata": {
            "tags": []
          },
          "execution_count": 82
        }
      ]
    },
    {
      "cell_type": "code",
      "metadata": {
        "colab": {
          "base_uri": "https://localhost:8080/"
        },
        "id": "VLNtOfCGjPxI",
        "outputId": "b178ed90-b216-4c18-fcfe-5735c3a80e98"
      },
      "source": [
        "#Calculate Accuracy on Validation\n",
        "correct = 0.0\n",
        "for i in range(len(y)):\n",
        "  if y_predicts[i] == y[i]:\n",
        "    correct = correct +1\n",
        "print(correct/len(y) , correct)"
      ],
      "execution_count": 83,
      "outputs": [
        {
          "output_type": "stream",
          "text": [
            "0.535 1070.0\n"
          ],
          "name": "stdout"
        }
      ]
    },
    {
      "cell_type": "code",
      "metadata": {
        "colab": {
          "base_uri": "https://localhost:8080/",
          "height": 339
        },
        "id": "lKH5v2sHR2D3",
        "outputId": "97b199e6-af12-4536-942a-e5ebbf9de06e"
      },
      "source": [
        "data = confusion_matrix( y, y_predicts)\n",
        "df_cm = pd.DataFrame(data)\n",
        "df_cm.index.name = 'Actual Is Fraud'\n",
        "df_cm.columns.name = 'Predicted Is Fraud'\n",
        "plt.figure(figsize = (5,5))\n",
        "sns.set(font_scale=1)#for label size\n",
        "sns.heatmap(df_cm, cmap=\"Reds\",fmt=\"d\", annot=True,annot_kws={\"size\": 18})# font size\n",
        "plt.show()"
      ],
      "execution_count": 84,
      "outputs": [
        {
          "output_type": "display_data",
          "data": {
            "image/png": "[encoded data removed]",
            "text/plain": [
              "<Figure size 360x360 with 2 Axes>"
            ]
          },
          "metadata": {
            "tags": []
          }
        }
      ]
    },
    {
      "cell_type": "code",
      "metadata": {
        "id": "CzhNUEu-tu-t"
      },
      "source": [
        "del df_valid\n",
        "del y \n",
        "del y_predicts"
      ],
      "execution_count": 85,
      "outputs": []
    },
    {
      "cell_type": "code",
      "metadata": {
        "id": "nnYDiIv1bhbY"
      },
      "source": [
        "torch.save(model.state_dict(), 'weights.pkl')"
      ],
      "execution_count": 86,
      "outputs": []
    },
    {
      "cell_type": "markdown",
      "metadata": {
        "id": "4k-8hvdAsraZ"
      },
      "source": [
        "##Result on Test Set:"
      ]
    },
    {
      "cell_type": "code",
      "metadata": {
        "id": "vRY4SnZ8svWM"
      },
      "source": [
        "df_test = pd.read_csv('/content/drive/MyDrive/Colab Notebooks/Proj3/Proj3/test_transaction.csv')\n",
        "df_test_id = pd.read_csv('/content/drive/MyDrive/Colab Notebooks/Proj3/Proj3/test_identity.csv')[['TransactionID','DeviceType']]"
      ],
      "execution_count": 87,
      "outputs": []
    },
    {
      "cell_type": "code",
      "metadata": {
        "id": "UbDI19mntF5B"
      },
      "source": [
        "df_test = pd.merge(df_test,df_test_id,on='TransactionID',how='outer')"
      ],
      "execution_count": 88,
      "outputs": []
    },
    {
      "cell_type": "code",
      "metadata": {
        "colab": {
          "base_uri": "https://localhost:8080/"
        },
        "id": "zLrk6OcONtGe",
        "outputId": "577b0917-fee1-47ea-f377-fd182346f26d"
      },
      "source": [
        "df_test.shape"
      ],
      "execution_count": 89,
      "outputs": [
        {
          "output_type": "execute_result",
          "data": {
            "text/plain": [
              "(506691, 394)"
            ]
          },
          "metadata": {
            "tags": []
          },
          "execution_count": 89
        }
      ]
    },
    {
      "cell_type": "code",
      "metadata": {
        "id": "wH-TMV49Mje5"
      },
      "source": [
        "ID = df_test['TransactionID']"
      ],
      "execution_count": 90,
      "outputs": []
    },
    {
      "cell_type": "code",
      "metadata": {
        "id": "vxNtwL99tac2"
      },
      "source": [
        "del df_test_id #make ram free"
      ],
      "execution_count": 91,
      "outputs": []
    },
    {
      "cell_type": "code",
      "metadata": {
        "id": "53KscX9Wth4g"
      },
      "source": [
        "df_test.drop(labels=['TransactionID'],axis = 1, inplace=True)"
      ],
      "execution_count": 92,
      "outputs": []
    },
    {
      "cell_type": "code",
      "metadata": {
        "id": "-sOhKflltkqy"
      },
      "source": [
        "df_test = pd.get_dummies(df_test)"
      ],
      "execution_count": 93,
      "outputs": []
    },
    {
      "cell_type": "code",
      "metadata": {
        "id": "UnLeogURtyQC"
      },
      "source": [
        "for c in df_test.columns:\n",
        "  if df_test[c].isnull().sum() == len(df_test[c]):\n",
        "    df_test.drop(labels = [c],axis = 1,inplace = True)\n",
        "    continue\n",
        "\n",
        "  df_test[c] = df_test[c].fillna(np.nanmedian(df_test[c]))"
      ],
      "execution_count": 94,
      "outputs": []
    },
    {
      "cell_type": "code",
      "metadata": {
        "id": "qH8b2u6itrua"
      },
      "source": [
        "for c in df_test.columns:\n",
        "\n",
        "  min = df_test[c].min()\n",
        "  max = df_test[c].max()\n",
        "  df_test[c] = ((df_test[c]-min)/max).astype('float16')\n",
        "  if df_test[c].isnull().sum() == len(df_test[c]):\n",
        "    df_test.drop(labels = [c],axis = 1,inplace = True)"
      ],
      "execution_count": 95,
      "outputs": []
    },
    {
      "cell_type": "code",
      "metadata": {
        "colab": {
          "base_uri": "https://localhost:8080/"
        },
        "id": "Wg53g4w2L5zi",
        "outputId": "7b63ed7f-e66f-4786-ad5c-7dbb23bd26d4"
      },
      "source": [
        "df_test.shape"
      ],
      "execution_count": 96,
      "outputs": [
        {
          "output_type": "execute_result",
          "data": {
            "text/plain": [
              "(506691, 531)"
            ]
          },
          "metadata": {
            "tags": []
          },
          "execution_count": 96
        }
      ]
    },
    {
      "cell_type": "code",
      "metadata": {
        "id": "ex5BdMGduI90"
      },
      "source": [
        "x = torch.unsqueeze(torch.FloatTensor(df_test.values),1)"
      ],
      "execution_count": 97,
      "outputs": []
    },
    {
      "cell_type": "code",
      "metadata": {
        "colab": {
          "base_uri": "https://localhost:8080/"
        },
        "id": "Ew7oc4FnHh8s",
        "outputId": "4f636863-dd1b-4a70-ca4b-c69833b9a067"
      },
      "source": [
        "x.shape"
      ],
      "execution_count": 98,
      "outputs": [
        {
          "output_type": "execute_result",
          "data": {
            "text/plain": [
              "torch.Size([506691, 1, 531])"
            ]
          },
          "metadata": {
            "tags": []
          },
          "execution_count": 98
        }
      ]
    },
    {
      "cell_type": "code",
      "metadata": {
        "colab": {
          "base_uri": "https://localhost:8080/"
        },
        "id": "EonmmnAWk-Vk",
        "outputId": "39a2d62f-6c8f-4321-aa90-66dfa188158a"
      },
      "source": [
        "ID.isna().sum()"
      ],
      "execution_count": 99,
      "outputs": [
        {
          "output_type": "execute_result",
          "data": {
            "text/plain": [
              "0"
            ]
          },
          "metadata": {
            "tags": []
          },
          "execution_count": 99
        }
      ]
    },
    {
      "cell_type": "code",
      "metadata": {
        "id": "F9Mo-MkHuWVy",
        "colab": {
          "base_uri": "https://localhost:8080/"
        },
        "outputId": "3aea2c2b-b915-4482-99db-fc8cf6549a6d"
      },
      "source": [
        "df_result = pd.DataFrame()\n",
        "df_result['TransactionID'] = []\n",
        "df_result['isFraud'] = []\n",
        "\n",
        "#To test on equal number of correct and fraud data\n",
        "for i in range(len(ID)):\n",
        "  df_result =  df_result.append( {'isFraud':test(x[i]), 'TransactionID':ID[i] } , ignore_index=True)\n",
        "  if i%50_000 == 0:\n",
        "    print(i)\n",
        "  "
      ],
      "execution_count": 116,
      "outputs": [
        {
          "output_type": "stream",
          "text": [
            "0\n",
            "50000\n",
            "100000\n",
            "150000\n",
            "200000\n",
            "250000\n",
            "300000\n",
            "350000\n",
            "400000\n",
            "450000\n",
            "500000\n"
          ],
          "name": "stdout"
        }
      ]
    },
    {
      "cell_type": "code",
      "metadata": {
        "id": "LXtY1RjpNanc"
      },
      "source": [
        "df_result.head(20)"
      ],
      "execution_count": null,
      "outputs": []
    },
    {
      "cell_type": "code",
      "metadata": {
        "id": "EJtC4sKw45eb"
      },
      "source": [
        "res = []\n",
        "separator\n",
        "for i in range(len(df_result)):\n",
        "  if df_result['isFraud'][i] < separator:\n",
        "    res.append(0)\n",
        "  else:\n",
        "    res.append(1)"
      ],
      "execution_count": 125,
      "outputs": []
    },
    {
      "cell_type": "code",
      "metadata": {
        "id": "klCuHN1zrxdY",
        "colab": {
          "base_uri": "https://localhost:8080/"
        },
        "outputId": "915a787b-3d09-4dfe-d9c6-f6852fa68982"
      },
      "source": [
        "pd.Series(res).value_counts()"
      ],
      "execution_count": 126,
      "outputs": [
        {
          "output_type": "execute_result",
          "data": {
            "text/plain": [
              "1    506691\n",
              "dtype: int64"
            ]
          },
          "metadata": {
            "tags": []
          },
          "execution_count": 126
        }
      ]
    },
    {
      "cell_type": "code",
      "metadata": {
        "id": "KZyY8NEYsIIB"
      },
      "source": [
        "df_result['TransactionID'] = ID.astype('int32')"
      ],
      "execution_count": 127,
      "outputs": []
    },
    {
      "cell_type": "code",
      "metadata": {
        "id": "XB_kDYh0vGK1"
      },
      "source": [
        "df_result['isFraud'] = res"
      ],
      "execution_count": 128,
      "outputs": []
    },
    {
      "cell_type": "code",
      "metadata": {
        "id": "5nFkj_5ONYFw",
        "colab": {
          "base_uri": "https://localhost:8080/"
        },
        "outputId": "e17ea070-3f89-4a48-8286-ef80c17b7426"
      },
      "source": [
        "pd.Series(df_result['isFraud']).value_counts()"
      ],
      "execution_count": 129,
      "outputs": [
        {
          "output_type": "execute_result",
          "data": {
            "text/plain": [
              "1    506691\n",
              "Name: isFraud, dtype: int64"
            ]
          },
          "metadata": {
            "tags": []
          },
          "execution_count": 129
        }
      ]
    },
    {
      "cell_type": "code",
      "metadata": {
        "id": "bzMz3ktFPuTF",
        "colab": {
          "base_uri": "https://localhost:8080/"
        },
        "outputId": "ee81932a-356c-4a23-a8cd-2e6e6324da3d"
      },
      "source": [
        "df_result.shape"
      ],
      "execution_count": 130,
      "outputs": [
        {
          "output_type": "execute_result",
          "data": {
            "text/plain": [
              "(506691, 2)"
            ]
          },
          "metadata": {
            "tags": []
          },
          "execution_count": 130
        }
      ]
    },
    {
      "cell_type": "code",
      "metadata": {
        "id": "e0Q1bEqYNX3b"
      },
      "source": [
        "df_result.to_csv('Result.csv',index=False)"
      ],
      "execution_count": 137,
      "outputs": []
    }
  ]
}