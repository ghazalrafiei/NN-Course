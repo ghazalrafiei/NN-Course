{
  "nbformat": 4,
  "nbformat_minor": 0,
  "metadata": {
    "accelerator": "GPU",
    "colab": {
      "name": "Pr3-Low dimension.ipynb",
      "provenance": [],
      "collapsed_sections": []
    },
    "kernelspec": {
      "display_name": "Python 3",
      "language": "python",
      "name": "python3"
    },
    "widgets": {
      "application/vnd.jupyter.widget-state+json": {
        "8b9db3ff44aa4dd7aef3e43cde27c171": {
          "model_module": "@jupyter-widgets/controls",
          "model_name": "HBoxModel",
          "state": {
            "_view_name": "HBoxView",
            "_dom_classes": [],
            "_model_name": "HBoxModel",
            "_view_module": "@jupyter-widgets/controls",
            "_model_module_version": "1.5.0",
            "_view_count": null,
            "_view_module_version": "1.5.0",
            "box_style": "",
            "layout": "IPY_MODEL_1f47738eed404558ab607fb41938122f",
            "_model_module": "@jupyter-widgets/controls",
            "children": [
              "IPY_MODEL_25677f7661f84a6787398a89cfdaa057",
              "IPY_MODEL_8420d3fa811c4a7ab4fb7a99f547d306"
            ]
          }
        },
        "1f47738eed404558ab607fb41938122f": {
          "model_module": "@jupyter-widgets/base",
          "model_name": "LayoutModel",
          "state": {
            "_view_name": "LayoutView",
            "grid_template_rows": null,
            "right": null,
            "justify_content": null,
            "_view_module": "@jupyter-widgets/base",
            "overflow": null,
            "_model_module_version": "1.2.0",
            "_view_count": null,
            "flex_flow": null,
            "width": null,
            "min_width": null,
            "border": null,
            "align_items": null,
            "bottom": null,
            "_model_module": "@jupyter-widgets/base",
            "top": null,
            "grid_column": null,
            "overflow_y": null,
            "overflow_x": null,
            "grid_auto_flow": null,
            "grid_area": null,
            "grid_template_columns": null,
            "flex": null,
            "_model_name": "LayoutModel",
            "justify_items": null,
            "grid_row": null,
            "max_height": null,
            "align_content": null,
            "visibility": null,
            "align_self": null,
            "height": null,
            "min_height": null,
            "padding": null,
            "grid_auto_rows": null,
            "grid_gap": null,
            "max_width": null,
            "order": null,
            "_view_module_version": "1.2.0",
            "grid_template_areas": null,
            "object_position": null,
            "object_fit": null,
            "grid_auto_columns": null,
            "margin": null,
            "display": null,
            "left": null
          }
        },
        "25677f7661f84a6787398a89cfdaa057": {
          "model_module": "@jupyter-widgets/controls",
          "model_name": "FloatProgressModel",
          "state": {
            "_view_name": "ProgressView",
            "style": "IPY_MODEL_42da47ac14114ee09df38d4af84bb773",
            "_dom_classes": [],
            "description": "100%",
            "_model_name": "FloatProgressModel",
            "bar_style": "success",
            "max": 100,
            "_view_module": "@jupyter-widgets/controls",
            "_model_module_version": "1.5.0",
            "value": 100,
            "_view_count": null,
            "_view_module_version": "1.5.0",
            "orientation": "horizontal",
            "min": 0,
            "description_tooltip": null,
            "_model_module": "@jupyter-widgets/controls",
            "layout": "IPY_MODEL_34fcd44b7a524afe90e6c790ef8a6e5a"
          }
        },
        "8420d3fa811c4a7ab4fb7a99f547d306": {
          "model_module": "@jupyter-widgets/controls",
          "model_name": "HTMLModel",
          "state": {
            "_view_name": "HTMLView",
            "style": "IPY_MODEL_df3e99a421c749068eee8799c8f1e17d",
            "_dom_classes": [],
            "description": "",
            "_model_name": "HTMLModel",
            "placeholder": "​",
            "_view_module": "@jupyter-widgets/controls",
            "_model_module_version": "1.5.0",
            "value": " 100/100 [29:51&lt;00:00, 17.92s/it]",
            "_view_count": null,
            "_view_module_version": "1.5.0",
            "description_tooltip": null,
            "_model_module": "@jupyter-widgets/controls",
            "layout": "IPY_MODEL_a69f16f1068640c1ac0ecb6afdcc385a"
          }
        },
        "42da47ac14114ee09df38d4af84bb773": {
          "model_module": "@jupyter-widgets/controls",
          "model_name": "ProgressStyleModel",
          "state": {
            "_view_name": "StyleView",
            "_model_name": "ProgressStyleModel",
            "description_width": "initial",
            "_view_module": "@jupyter-widgets/base",
            "_model_module_version": "1.5.0",
            "_view_count": null,
            "_view_module_version": "1.2.0",
            "bar_color": null,
            "_model_module": "@jupyter-widgets/controls"
          }
        },
        "34fcd44b7a524afe90e6c790ef8a6e5a": {
          "model_module": "@jupyter-widgets/base",
          "model_name": "LayoutModel",
          "state": {
            "_view_name": "LayoutView",
            "grid_template_rows": null,
            "right": null,
            "justify_content": null,
            "_view_module": "@jupyter-widgets/base",
            "overflow": null,
            "_model_module_version": "1.2.0",
            "_view_count": null,
            "flex_flow": null,
            "width": null,
            "min_width": null,
            "border": null,
            "align_items": null,
            "bottom": null,
            "_model_module": "@jupyter-widgets/base",
            "top": null,
            "grid_column": null,
            "overflow_y": null,
            "overflow_x": null,
            "grid_auto_flow": null,
            "grid_area": null,
            "grid_template_columns": null,
            "flex": null,
            "_model_name": "LayoutModel",
            "justify_items": null,
            "grid_row": null,
            "max_height": null,
            "align_content": null,
            "visibility": null,
            "align_self": null,
            "height": null,
            "min_height": null,
            "padding": null,
            "grid_auto_rows": null,
            "grid_gap": null,
            "max_width": null,
            "order": null,
            "_view_module_version": "1.2.0",
            "grid_template_areas": null,
            "object_position": null,
            "object_fit": null,
            "grid_auto_columns": null,
            "margin": null,
            "display": null,
            "left": null
          }
        },
        "df3e99a421c749068eee8799c8f1e17d": {
          "model_module": "@jupyter-widgets/controls",
          "model_name": "DescriptionStyleModel",
          "state": {
            "_view_name": "StyleView",
            "_model_name": "DescriptionStyleModel",
            "description_width": "",
            "_view_module": "@jupyter-widgets/base",
            "_model_module_version": "1.5.0",
            "_view_count": null,
            "_view_module_version": "1.2.0",
            "_model_module": "@jupyter-widgets/controls"
          }
        },
        "a69f16f1068640c1ac0ecb6afdcc385a": {
          "model_module": "@jupyter-widgets/base",
          "model_name": "LayoutModel",
          "state": {
            "_view_name": "LayoutView",
            "grid_template_rows": null,
            "right": null,
            "justify_content": null,
            "_view_module": "@jupyter-widgets/base",
            "overflow": null,
            "_model_module_version": "1.2.0",
            "_view_count": null,
            "flex_flow": null,
            "width": null,
            "min_width": null,
            "border": null,
            "align_items": null,
            "bottom": null,
            "_model_module": "@jupyter-widgets/base",
            "top": null,
            "grid_column": null,
            "overflow_y": null,
            "overflow_x": null,
            "grid_auto_flow": null,
            "grid_area": null,
            "grid_template_columns": null,
            "flex": null,
            "_model_name": "LayoutModel",
            "justify_items": null,
            "grid_row": null,
            "max_height": null,
            "align_content": null,
            "visibility": null,
            "align_self": null,
            "height": null,
            "min_height": null,
            "padding": null,
            "grid_auto_rows": null,
            "grid_gap": null,
            "max_width": null,
            "order": null,
            "_view_module_version": "1.2.0",
            "grid_template_areas": null,
            "object_position": null,
            "object_fit": null,
            "grid_auto_columns": null,
            "margin": null,
            "display": null,
            "left": null
          }
        }
      }
    }
  },
  "cells": [
    {
      "cell_type": "markdown",
      "metadata": {
        "id": "u0dCW4zeZGNN"
      },
      "source": [
        "Visualizations are available at: https://colab.research.google.com/drive/1ejOmCYRBFf1YUxyKefgo2U5qQxTevMsw?usp=sharing"
      ]
    },
    {
      "cell_type": "code",
      "metadata": {
        "id": "lra26gK_-iXV"
      },
      "source": [
        "import pandas as pd\n",
        "import sys\n",
        "import torch\n",
        "import numpy as np"
      ],
      "execution_count": null,
      "outputs": []
    },
    {
      "cell_type": "code",
      "metadata": {
        "id": "FWEJYTn4-nD9"
      },
      "source": [
        "# !unzip '/content/drive/MyDrive/Proj3.zip' -d '/content/drive/MyDrive/Colab Notebooks/Proj3'"
      ],
      "execution_count": null,
      "outputs": []
    },
    {
      "cell_type": "code",
      "metadata": {
        "colab": {
          "base_uri": "https://localhost:8080/"
        },
        "id": "N8g72Ah3zzFS",
        "outputId": "c52b0e6c-e5fb-4520-f7df-1c3578ab43f2"
      },
      "source": [
        "from google.colab import drive\n",
        "drive.mount('/content/drive')"
      ],
      "execution_count": null,
      "outputs": [
        {
          "output_type": "stream",
          "text": [
            "Drive already mounted at /content/drive; to attempt to forcibly remount, call drive.mount(\"/content/drive\", force_remount=True).\n"
          ],
          "name": "stdout"
        }
      ]
    },
    {
      "cell_type": "code",
      "metadata": {
        "id": "byf0SVcpAUfQ"
      },
      "source": [
        "df = pd.read_csv('/content/drive/MyDrive/Colab Notebooks/Proj3/Proj3/train_transaction.csv')[['TransactionID','isFraud','TransactionAmt','TransactionDT','ProductCD','card1','card2','card3','card4','card5','addr1','addr2','dist1','card6','P_emaildomain','R_emaildomain']]"
      ],
      "execution_count": null,
      "outputs": []
    },
    {
      "cell_type": "code",
      "metadata": {
        "colab": {
          "base_uri": "https://localhost:8080/"
        },
        "id": "7gpKPrhwAiMW",
        "outputId": "6cc35ae0-42ab-45a4-f8c2-4c83dfc54523"
      },
      "source": [
        "df.shape"
      ],
      "execution_count": null,
      "outputs": [
        {
          "output_type": "execute_result",
          "data": {
            "text/plain": [
              "(590540, 16)"
            ]
          },
          "metadata": {
            "tags": []
          },
          "execution_count": 5
        }
      ]
    },
    {
      "cell_type": "code",
      "metadata": {
        "id": "1L_1tzdhfRi5"
      },
      "source": [
        "df_id = pd.read_csv('/content/drive/MyDrive/Colab Notebooks/Proj3/Proj3/train_identity.csv')[['TransactionID','DeviceType']]"
      ],
      "execution_count": null,
      "outputs": []
    },
    {
      "cell_type": "markdown",
      "metadata": {
        "id": "8KRjugCiUHIi"
      },
      "source": [
        "It will be explained why I didn't keep other columns."
      ]
    },
    {
      "cell_type": "markdown",
      "metadata": {
        "id": "ASUlupsAY90i"
      },
      "source": [
        "<h2>Preprocessing:<h2>"
      ]
    },
    {
      "cell_type": "code",
      "metadata": {
        "colab": {
          "base_uri": "https://localhost:8080/"
        },
        "id": "uLyIMtVIfRi7",
        "outputId": "d40ec467-79b6-4084-911c-e5bb36ce21ce"
      },
      "source": [
        "df_id.shape"
      ],
      "execution_count": null,
      "outputs": [
        {
          "output_type": "execute_result",
          "data": {
            "text/plain": [
              "(144233, 2)"
            ]
          },
          "metadata": {
            "tags": []
          },
          "execution_count": 7
        }
      ]
    },
    {
      "cell_type": "code",
      "metadata": {
        "colab": {
          "base_uri": "https://localhost:8080/"
        },
        "id": "NMEPxKBt5WhF",
        "outputId": "fe16f395-933c-4651-b330-fa8ccbaf4299"
      },
      "source": [
        "df_id.columns"
      ],
      "execution_count": null,
      "outputs": [
        {
          "output_type": "execute_result",
          "data": {
            "text/plain": [
              "Index(['TransactionID', 'DeviceType'], dtype='object')"
            ]
          },
          "metadata": {
            "tags": []
          },
          "execution_count": 8
        }
      ]
    },
    {
      "cell_type": "code",
      "metadata": {
        "colab": {
          "base_uri": "https://localhost:8080/"
        },
        "id": "q8NIPcF0A2Cl",
        "outputId": "48553965-41a6-4eaa-8c76-26883f08de6f"
      },
      "source": [
        "sys.getsizeof(df) /1024 / 1024 / 1024"
      ],
      "execution_count": null,
      "outputs": [
        {
          "output_type": "execute_result",
          "data": {
            "text/plain": [
              "0.20478598400950432"
            ]
          },
          "metadata": {
            "tags": []
          },
          "execution_count": 10
        }
      ]
    },
    {
      "cell_type": "code",
      "metadata": {
        "colab": {
          "base_uri": "https://localhost:8080/"
        },
        "id": "zPNteuVCA4R7",
        "outputId": "5e792465-bdcc-40d5-c7be-0526bc81848a"
      },
      "source": [
        "df.info"
      ],
      "execution_count": null,
      "outputs": [
        {
          "output_type": "execute_result",
          "data": {
            "text/plain": [
              "<bound method DataFrame.info of         TransactionID  isFraud  ...  P_emaildomain  R_emaildomain\n",
              "0             2987000        0  ...            NaN            NaN\n",
              "1             2987001        0  ...      gmail.com            NaN\n",
              "2             2987002        0  ...    outlook.com            NaN\n",
              "3             2987003        0  ...      yahoo.com            NaN\n",
              "4             2987004        0  ...      gmail.com            NaN\n",
              "...               ...      ...  ...            ...            ...\n",
              "590535        3577535        0  ...            NaN            NaN\n",
              "590536        3577536        0  ...      gmail.com            NaN\n",
              "590537        3577537        0  ...      gmail.com            NaN\n",
              "590538        3577538        0  ...        aol.com            NaN\n",
              "590539        3577539        0  ...      gmail.com            NaN\n",
              "\n",
              "[590540 rows x 16 columns]>"
            ]
          },
          "metadata": {
            "tags": []
          },
          "execution_count": 9
        }
      ]
    },
    {
      "cell_type": "code",
      "metadata": {
        "colab": {
          "base_uri": "https://localhost:8080/"
        },
        "id": "AaiJKHLJA9nc",
        "outputId": "99bbc31a-2d64-4a29-b209-8abde119d5ce"
      },
      "source": [
        "df.isna().sum()"
      ],
      "execution_count": null,
      "outputs": [
        {
          "output_type": "execute_result",
          "data": {
            "text/plain": [
              "TransactionID          0\n",
              "isFraud                0\n",
              "TransactionAmt         0\n",
              "TransactionDT          0\n",
              "ProductCD              0\n",
              "card1                  0\n",
              "card2               8933\n",
              "card3               1565\n",
              "card4               1577\n",
              "card5               4259\n",
              "addr1              65706\n",
              "addr2              65706\n",
              "dist1             352271\n",
              "card6               1571\n",
              "P_emaildomain      94456\n",
              "R_emaildomain     453249\n",
              "dtype: int64"
            ]
          },
          "metadata": {
            "tags": []
          },
          "execution_count": 11
        }
      ]
    },
    {
      "cell_type": "code",
      "metadata": {
        "colab": {
          "base_uri": "https://localhost:8080/"
        },
        "id": "CkkXytdLfRi-",
        "outputId": "0a0e9ac8-df03-4670-af6d-99c84226a1d0"
      },
      "source": [
        "df_id.isna().sum()"
      ],
      "execution_count": null,
      "outputs": [
        {
          "output_type": "execute_result",
          "data": {
            "text/plain": [
              "TransactionID       0\n",
              "DeviceType       3423\n",
              "dtype: int64"
            ]
          },
          "metadata": {
            "tags": []
          },
          "execution_count": 12
        }
      ]
    },
    {
      "cell_type": "code",
      "metadata": {
        "colab": {
          "base_uri": "https://localhost:8080/",
          "height": 142
        },
        "id": "Llk_Py8oE_Kp",
        "outputId": "9eb0302f-bcb8-4b2f-9f1b-f998ae430d67"
      },
      "source": [
        "df.head(3)"
      ],
      "execution_count": null,
      "outputs": [
        {
          "output_type": "execute_result",
          "data": {
            "text/html": [
              "<div>\n",
              "<style scoped>\n",
              "    .dataframe tbody tr th:only-of-type {\n",
              "        vertical-align: middle;\n",
              "    }\n",
              "\n",
              "    .dataframe tbody tr th {\n",
              "        vertical-align: top;\n",
              "    }\n",
              "\n",
              "    .dataframe thead th {\n",
              "        text-align: right;\n",
              "    }\n",
              "</style>\n",
              "<table border=\"1\" class=\"dataframe\">\n",
              "  <thead>\n",
              "    <tr style=\"text-align: right;\">\n",
              "      <th></th>\n",
              "      <th>TransactionID</th>\n",
              "      <th>isFraud</th>\n",
              "      <th>TransactionAmt</th>\n",
              "      <th>TransactionDT</th>\n",
              "      <th>ProductCD</th>\n",
              "      <th>card1</th>\n",
              "      <th>card2</th>\n",
              "      <th>card3</th>\n",
              "      <th>card4</th>\n",
              "      <th>card5</th>\n",
              "      <th>addr1</th>\n",
              "      <th>addr2</th>\n",
              "      <th>dist1</th>\n",
              "      <th>card6</th>\n",
              "      <th>P_emaildomain</th>\n",
              "      <th>R_emaildomain</th>\n",
              "    </tr>\n",
              "  </thead>\n",
              "  <tbody>\n",
              "    <tr>\n",
              "      <th>0</th>\n",
              "      <td>2987000</td>\n",
              "      <td>0</td>\n",
              "      <td>68.5</td>\n",
              "      <td>86400</td>\n",
              "      <td>W</td>\n",
              "      <td>13926</td>\n",
              "      <td>NaN</td>\n",
              "      <td>150.0</td>\n",
              "      <td>discover</td>\n",
              "      <td>142.0</td>\n",
              "      <td>315.0</td>\n",
              "      <td>87.0</td>\n",
              "      <td>19.0</td>\n",
              "      <td>credit</td>\n",
              "      <td>NaN</td>\n",
              "      <td>NaN</td>\n",
              "    </tr>\n",
              "    <tr>\n",
              "      <th>1</th>\n",
              "      <td>2987001</td>\n",
              "      <td>0</td>\n",
              "      <td>29.0</td>\n",
              "      <td>86401</td>\n",
              "      <td>W</td>\n",
              "      <td>2755</td>\n",
              "      <td>404.0</td>\n",
              "      <td>150.0</td>\n",
              "      <td>mastercard</td>\n",
              "      <td>102.0</td>\n",
              "      <td>325.0</td>\n",
              "      <td>87.0</td>\n",
              "      <td>NaN</td>\n",
              "      <td>credit</td>\n",
              "      <td>gmail.com</td>\n",
              "      <td>NaN</td>\n",
              "    </tr>\n",
              "    <tr>\n",
              "      <th>2</th>\n",
              "      <td>2987002</td>\n",
              "      <td>0</td>\n",
              "      <td>59.0</td>\n",
              "      <td>86469</td>\n",
              "      <td>W</td>\n",
              "      <td>4663</td>\n",
              "      <td>490.0</td>\n",
              "      <td>150.0</td>\n",
              "      <td>visa</td>\n",
              "      <td>166.0</td>\n",
              "      <td>330.0</td>\n",
              "      <td>87.0</td>\n",
              "      <td>287.0</td>\n",
              "      <td>debit</td>\n",
              "      <td>outlook.com</td>\n",
              "      <td>NaN</td>\n",
              "    </tr>\n",
              "  </tbody>\n",
              "</table>\n",
              "</div>"
            ],
            "text/plain": [
              "   TransactionID  isFraud  TransactionAmt  ...   card6 P_emaildomain  R_emaildomain\n",
              "0        2987000        0            68.5  ...  credit           NaN            NaN\n",
              "1        2987001        0            29.0  ...  credit     gmail.com            NaN\n",
              "2        2987002        0            59.0  ...   debit   outlook.com            NaN\n",
              "\n",
              "[3 rows x 16 columns]"
            ]
          },
          "metadata": {
            "tags": []
          },
          "execution_count": 13
        }
      ]
    },
    {
      "cell_type": "code",
      "metadata": {
        "colab": {
          "base_uri": "https://localhost:8080/",
          "height": 142
        },
        "id": "0oFjuyULM2Fj",
        "outputId": "d26e65e5-6089-451b-9e8d-7dddb29f640c"
      },
      "source": [
        "df_id.head(3)"
      ],
      "execution_count": null,
      "outputs": [
        {
          "output_type": "execute_result",
          "data": {
            "text/html": [
              "<div>\n",
              "<style scoped>\n",
              "    .dataframe tbody tr th:only-of-type {\n",
              "        vertical-align: middle;\n",
              "    }\n",
              "\n",
              "    .dataframe tbody tr th {\n",
              "        vertical-align: top;\n",
              "    }\n",
              "\n",
              "    .dataframe thead th {\n",
              "        text-align: right;\n",
              "    }\n",
              "</style>\n",
              "<table border=\"1\" class=\"dataframe\">\n",
              "  <thead>\n",
              "    <tr style=\"text-align: right;\">\n",
              "      <th></th>\n",
              "      <th>TransactionID</th>\n",
              "      <th>DeviceType</th>\n",
              "    </tr>\n",
              "  </thead>\n",
              "  <tbody>\n",
              "    <tr>\n",
              "      <th>0</th>\n",
              "      <td>2987004</td>\n",
              "      <td>mobile</td>\n",
              "    </tr>\n",
              "    <tr>\n",
              "      <th>1</th>\n",
              "      <td>2987008</td>\n",
              "      <td>mobile</td>\n",
              "    </tr>\n",
              "    <tr>\n",
              "      <th>2</th>\n",
              "      <td>2987010</td>\n",
              "      <td>desktop</td>\n",
              "    </tr>\n",
              "  </tbody>\n",
              "</table>\n",
              "</div>"
            ],
            "text/plain": [
              "   TransactionID DeviceType\n",
              "0        2987004     mobile\n",
              "1        2987008     mobile\n",
              "2        2987010    desktop"
            ]
          },
          "metadata": {
            "tags": []
          },
          "execution_count": 15
        }
      ]
    },
    {
      "cell_type": "code",
      "metadata": {
        "colab": {
          "base_uri": "https://localhost:8080/"
        },
        "id": "mO5kaA1CFHv1",
        "outputId": "ef2e2891-c3d4-4ae3-d7c2-dcf74425415b"
      },
      "source": [
        "len(np.intersect1d(df['TransactionID'],df_id['TransactionID']))"
      ],
      "execution_count": null,
      "outputs": [
        {
          "output_type": "execute_result",
          "data": {
            "text/plain": [
              "144233"
            ]
          },
          "metadata": {
            "tags": []
          },
          "execution_count": 14
        }
      ]
    },
    {
      "cell_type": "code",
      "metadata": {
        "colab": {
          "base_uri": "https://localhost:8080/"
        },
        "id": "sq8qUDWWfRi_",
        "outputId": "615d2e5f-fae2-42e7-b006-6105f4c8827d"
      },
      "source": [
        "df_id['DeviceType'].unique()"
      ],
      "execution_count": null,
      "outputs": [
        {
          "output_type": "execute_result",
          "data": {
            "text/plain": [
              "array(['mobile', 'desktop', nan], dtype=object)"
            ]
          },
          "metadata": {
            "tags": []
          },
          "execution_count": 15
        }
      ]
    },
    {
      "cell_type": "markdown",
      "metadata": {
        "id": "0qdszdSCgiin"
      },
      "source": [
        "Outer join on both dataframes to have all rows."
      ]
    },
    {
      "cell_type": "code",
      "metadata": {
        "id": "YH_UKDjhfRjB"
      },
      "source": [
        "df = pd.merge(df,df_id,on='TransactionID',how='outer')"
      ],
      "execution_count": null,
      "outputs": []
    },
    {
      "cell_type": "code",
      "metadata": {
        "id": "zQJULP7QfRjB"
      },
      "source": [
        "#To free memory capacity\n",
        "del df_id"
      ],
      "execution_count": null,
      "outputs": []
    },
    {
      "cell_type": "code",
      "metadata": {
        "colab": {
          "base_uri": "https://localhost:8080/"
        },
        "id": "R4IIujuifRjB",
        "outputId": "d77a2369-d854-433e-baed-d40266d409cd"
      },
      "source": [
        "df.shape"
      ],
      "execution_count": null,
      "outputs": [
        {
          "output_type": "execute_result",
          "data": {
            "text/plain": [
              "(590540, 17)"
            ]
          },
          "metadata": {
            "tags": []
          },
          "execution_count": 17
        }
      ]
    },
    {
      "cell_type": "markdown",
      "metadata": {
        "id": "AKDprIpNfRjC"
      },
      "source": [
        "Are not matched. So we have to join them on TransactionID"
      ]
    },
    {
      "cell_type": "code",
      "metadata": {
        "colab": {
          "base_uri": "https://localhost:8080/"
        },
        "id": "Lt7fJUm0ZS0w",
        "outputId": "0fee5b8c-cd1f-42d2-d72c-2ba9c4717d87"
      },
      "source": [
        "df['isFraud'].value_counts()"
      ],
      "execution_count": null,
      "outputs": [
        {
          "output_type": "execute_result",
          "data": {
            "text/plain": [
              "0    569877\n",
              "1     20663\n",
              "Name: isFraud, dtype: int64"
            ]
          },
          "metadata": {
            "tags": []
          },
          "execution_count": 18
        }
      ]
    },
    {
      "cell_type": "code",
      "metadata": {
        "id": "YvzRzMQzbVqk"
      },
      "source": [
        "target = df['isFraud']"
      ],
      "execution_count": null,
      "outputs": []
    },
    {
      "cell_type": "markdown",
      "metadata": {
        "id": "0erT_VcqckcT"
      },
      "source": [
        "that is already normalized\n",
        "cuz it's only 0,1"
      ]
    },
    {
      "cell_type": "code",
      "metadata": {
        "id": "yJ32BplwBlLZ"
      },
      "source": [
        "df.drop(labels=['isFraud','TransactionID'],axis = 1,inplace = True)"
      ],
      "execution_count": null,
      "outputs": []
    },
    {
      "cell_type": "code",
      "metadata": {
        "id": "prHDLmtZBLdG"
      },
      "source": [
        "#One hot enocoding to transform categorical columns to numeric\n",
        "df = pd.get_dummies(df)"
      ],
      "execution_count": null,
      "outputs": []
    },
    {
      "cell_type": "code",
      "metadata": {
        "colab": {
          "base_uri": "https://localhost:8080/",
          "height": 208
        },
        "id": "u4tOprxsOWp5",
        "outputId": "19ee08cd-1f2d-485b-8cc4-2e8e75c28e5e"
      },
      "source": [
        "df.head(3)"
      ],
      "execution_count": null,
      "outputs": [
        {
          "output_type": "execute_result",
          "data": {
            "text/html": [
              "<div>\n",
              "<style scoped>\n",
              "    .dataframe tbody tr th:only-of-type {\n",
              "        vertical-align: middle;\n",
              "    }\n",
              "\n",
              "    .dataframe tbody tr th {\n",
              "        vertical-align: top;\n",
              "    }\n",
              "\n",
              "    .dataframe thead th {\n",
              "        text-align: right;\n",
              "    }\n",
              "</style>\n",
              "<table border=\"1\" class=\"dataframe\">\n",
              "  <thead>\n",
              "    <tr style=\"text-align: right;\">\n",
              "      <th></th>\n",
              "      <th>TransactionAmt</th>\n",
              "      <th>TransactionDT</th>\n",
              "      <th>card1</th>\n",
              "      <th>card2</th>\n",
              "      <th>card3</th>\n",
              "      <th>card5</th>\n",
              "      <th>addr1</th>\n",
              "      <th>addr2</th>\n",
              "      <th>dist1</th>\n",
              "      <th>ProductCD_C</th>\n",
              "      <th>ProductCD_H</th>\n",
              "      <th>ProductCD_R</th>\n",
              "      <th>ProductCD_S</th>\n",
              "      <th>ProductCD_W</th>\n",
              "      <th>card4_american express</th>\n",
              "      <th>card4_discover</th>\n",
              "      <th>card4_mastercard</th>\n",
              "      <th>card4_visa</th>\n",
              "      <th>card6_charge card</th>\n",
              "      <th>card6_credit</th>\n",
              "      <th>card6_debit</th>\n",
              "      <th>card6_debit or credit</th>\n",
              "      <th>P_emaildomain_aim.com</th>\n",
              "      <th>P_emaildomain_anonymous.com</th>\n",
              "      <th>P_emaildomain_aol.com</th>\n",
              "      <th>P_emaildomain_att.net</th>\n",
              "      <th>P_emaildomain_bellsouth.net</th>\n",
              "      <th>P_emaildomain_cableone.net</th>\n",
              "      <th>P_emaildomain_centurylink.net</th>\n",
              "      <th>P_emaildomain_cfl.rr.com</th>\n",
              "      <th>P_emaildomain_charter.net</th>\n",
              "      <th>P_emaildomain_comcast.net</th>\n",
              "      <th>P_emaildomain_cox.net</th>\n",
              "      <th>P_emaildomain_earthlink.net</th>\n",
              "      <th>P_emaildomain_embarqmail.com</th>\n",
              "      <th>P_emaildomain_frontier.com</th>\n",
              "      <th>P_emaildomain_frontiernet.net</th>\n",
              "      <th>P_emaildomain_gmail</th>\n",
              "      <th>P_emaildomain_gmail.com</th>\n",
              "      <th>P_emaildomain_gmx.de</th>\n",
              "      <th>...</th>\n",
              "      <th>R_emaildomain_hotmail.fr</th>\n",
              "      <th>R_emaildomain_icloud.com</th>\n",
              "      <th>R_emaildomain_juno.com</th>\n",
              "      <th>R_emaildomain_live.com</th>\n",
              "      <th>R_emaildomain_live.com.mx</th>\n",
              "      <th>R_emaildomain_live.fr</th>\n",
              "      <th>R_emaildomain_mac.com</th>\n",
              "      <th>R_emaildomain_mail.com</th>\n",
              "      <th>R_emaildomain_me.com</th>\n",
              "      <th>R_emaildomain_msn.com</th>\n",
              "      <th>R_emaildomain_netzero.com</th>\n",
              "      <th>R_emaildomain_netzero.net</th>\n",
              "      <th>R_emaildomain_optonline.net</th>\n",
              "      <th>R_emaildomain_outlook.com</th>\n",
              "      <th>R_emaildomain_outlook.es</th>\n",
              "      <th>R_emaildomain_prodigy.net.mx</th>\n",
              "      <th>R_emaildomain_protonmail.com</th>\n",
              "      <th>R_emaildomain_ptd.net</th>\n",
              "      <th>R_emaildomain_q.com</th>\n",
              "      <th>R_emaildomain_roadrunner.com</th>\n",
              "      <th>R_emaildomain_rocketmail.com</th>\n",
              "      <th>R_emaildomain_sbcglobal.net</th>\n",
              "      <th>R_emaildomain_sc.rr.com</th>\n",
              "      <th>R_emaildomain_scranton.edu</th>\n",
              "      <th>R_emaildomain_servicios-ta.com</th>\n",
              "      <th>R_emaildomain_suddenlink.net</th>\n",
              "      <th>R_emaildomain_twc.com</th>\n",
              "      <th>R_emaildomain_verizon.net</th>\n",
              "      <th>R_emaildomain_web.de</th>\n",
              "      <th>R_emaildomain_windstream.net</th>\n",
              "      <th>R_emaildomain_yahoo.co.jp</th>\n",
              "      <th>R_emaildomain_yahoo.co.uk</th>\n",
              "      <th>R_emaildomain_yahoo.com</th>\n",
              "      <th>R_emaildomain_yahoo.com.mx</th>\n",
              "      <th>R_emaildomain_yahoo.de</th>\n",
              "      <th>R_emaildomain_yahoo.es</th>\n",
              "      <th>R_emaildomain_yahoo.fr</th>\n",
              "      <th>R_emaildomain_ymail.com</th>\n",
              "      <th>DeviceType_desktop</th>\n",
              "      <th>DeviceType_mobile</th>\n",
              "    </tr>\n",
              "  </thead>\n",
              "  <tbody>\n",
              "    <tr>\n",
              "      <th>0</th>\n",
              "      <td>68.5</td>\n",
              "      <td>86400</td>\n",
              "      <td>13926</td>\n",
              "      <td>NaN</td>\n",
              "      <td>150.0</td>\n",
              "      <td>142.0</td>\n",
              "      <td>315.0</td>\n",
              "      <td>87.0</td>\n",
              "      <td>19.0</td>\n",
              "      <td>0</td>\n",
              "      <td>0</td>\n",
              "      <td>0</td>\n",
              "      <td>0</td>\n",
              "      <td>1</td>\n",
              "      <td>0</td>\n",
              "      <td>1</td>\n",
              "      <td>0</td>\n",
              "      <td>0</td>\n",
              "      <td>0</td>\n",
              "      <td>1</td>\n",
              "      <td>0</td>\n",
              "      <td>0</td>\n",
              "      <td>0</td>\n",
              "      <td>0</td>\n",
              "      <td>0</td>\n",
              "      <td>0</td>\n",
              "      <td>0</td>\n",
              "      <td>0</td>\n",
              "      <td>0</td>\n",
              "      <td>0</td>\n",
              "      <td>0</td>\n",
              "      <td>0</td>\n",
              "      <td>0</td>\n",
              "      <td>0</td>\n",
              "      <td>0</td>\n",
              "      <td>0</td>\n",
              "      <td>0</td>\n",
              "      <td>0</td>\n",
              "      <td>0</td>\n",
              "      <td>0</td>\n",
              "      <td>...</td>\n",
              "      <td>0</td>\n",
              "      <td>0</td>\n",
              "      <td>0</td>\n",
              "      <td>0</td>\n",
              "      <td>0</td>\n",
              "      <td>0</td>\n",
              "      <td>0</td>\n",
              "      <td>0</td>\n",
              "      <td>0</td>\n",
              "      <td>0</td>\n",
              "      <td>0</td>\n",
              "      <td>0</td>\n",
              "      <td>0</td>\n",
              "      <td>0</td>\n",
              "      <td>0</td>\n",
              "      <td>0</td>\n",
              "      <td>0</td>\n",
              "      <td>0</td>\n",
              "      <td>0</td>\n",
              "      <td>0</td>\n",
              "      <td>0</td>\n",
              "      <td>0</td>\n",
              "      <td>0</td>\n",
              "      <td>0</td>\n",
              "      <td>0</td>\n",
              "      <td>0</td>\n",
              "      <td>0</td>\n",
              "      <td>0</td>\n",
              "      <td>0</td>\n",
              "      <td>0</td>\n",
              "      <td>0</td>\n",
              "      <td>0</td>\n",
              "      <td>0</td>\n",
              "      <td>0</td>\n",
              "      <td>0</td>\n",
              "      <td>0</td>\n",
              "      <td>0</td>\n",
              "      <td>0</td>\n",
              "      <td>0</td>\n",
              "      <td>0</td>\n",
              "    </tr>\n",
              "    <tr>\n",
              "      <th>1</th>\n",
              "      <td>29.0</td>\n",
              "      <td>86401</td>\n",
              "      <td>2755</td>\n",
              "      <td>404.0</td>\n",
              "      <td>150.0</td>\n",
              "      <td>102.0</td>\n",
              "      <td>325.0</td>\n",
              "      <td>87.0</td>\n",
              "      <td>NaN</td>\n",
              "      <td>0</td>\n",
              "      <td>0</td>\n",
              "      <td>0</td>\n",
              "      <td>0</td>\n",
              "      <td>1</td>\n",
              "      <td>0</td>\n",
              "      <td>0</td>\n",
              "      <td>1</td>\n",
              "      <td>0</td>\n",
              "      <td>0</td>\n",
              "      <td>1</td>\n",
              "      <td>0</td>\n",
              "      <td>0</td>\n",
              "      <td>0</td>\n",
              "      <td>0</td>\n",
              "      <td>0</td>\n",
              "      <td>0</td>\n",
              "      <td>0</td>\n",
              "      <td>0</td>\n",
              "      <td>0</td>\n",
              "      <td>0</td>\n",
              "      <td>0</td>\n",
              "      <td>0</td>\n",
              "      <td>0</td>\n",
              "      <td>0</td>\n",
              "      <td>0</td>\n",
              "      <td>0</td>\n",
              "      <td>0</td>\n",
              "      <td>0</td>\n",
              "      <td>1</td>\n",
              "      <td>0</td>\n",
              "      <td>...</td>\n",
              "      <td>0</td>\n",
              "      <td>0</td>\n",
              "      <td>0</td>\n",
              "      <td>0</td>\n",
              "      <td>0</td>\n",
              "      <td>0</td>\n",
              "      <td>0</td>\n",
              "      <td>0</td>\n",
              "      <td>0</td>\n",
              "      <td>0</td>\n",
              "      <td>0</td>\n",
              "      <td>0</td>\n",
              "      <td>0</td>\n",
              "      <td>0</td>\n",
              "      <td>0</td>\n",
              "      <td>0</td>\n",
              "      <td>0</td>\n",
              "      <td>0</td>\n",
              "      <td>0</td>\n",
              "      <td>0</td>\n",
              "      <td>0</td>\n",
              "      <td>0</td>\n",
              "      <td>0</td>\n",
              "      <td>0</td>\n",
              "      <td>0</td>\n",
              "      <td>0</td>\n",
              "      <td>0</td>\n",
              "      <td>0</td>\n",
              "      <td>0</td>\n",
              "      <td>0</td>\n",
              "      <td>0</td>\n",
              "      <td>0</td>\n",
              "      <td>0</td>\n",
              "      <td>0</td>\n",
              "      <td>0</td>\n",
              "      <td>0</td>\n",
              "      <td>0</td>\n",
              "      <td>0</td>\n",
              "      <td>0</td>\n",
              "      <td>0</td>\n",
              "    </tr>\n",
              "    <tr>\n",
              "      <th>2</th>\n",
              "      <td>59.0</td>\n",
              "      <td>86469</td>\n",
              "      <td>4663</td>\n",
              "      <td>490.0</td>\n",
              "      <td>150.0</td>\n",
              "      <td>166.0</td>\n",
              "      <td>330.0</td>\n",
              "      <td>87.0</td>\n",
              "      <td>287.0</td>\n",
              "      <td>0</td>\n",
              "      <td>0</td>\n",
              "      <td>0</td>\n",
              "      <td>0</td>\n",
              "      <td>1</td>\n",
              "      <td>0</td>\n",
              "      <td>0</td>\n",
              "      <td>0</td>\n",
              "      <td>1</td>\n",
              "      <td>0</td>\n",
              "      <td>0</td>\n",
              "      <td>1</td>\n",
              "      <td>0</td>\n",
              "      <td>0</td>\n",
              "      <td>0</td>\n",
              "      <td>0</td>\n",
              "      <td>0</td>\n",
              "      <td>0</td>\n",
              "      <td>0</td>\n",
              "      <td>0</td>\n",
              "      <td>0</td>\n",
              "      <td>0</td>\n",
              "      <td>0</td>\n",
              "      <td>0</td>\n",
              "      <td>0</td>\n",
              "      <td>0</td>\n",
              "      <td>0</td>\n",
              "      <td>0</td>\n",
              "      <td>0</td>\n",
              "      <td>0</td>\n",
              "      <td>0</td>\n",
              "      <td>...</td>\n",
              "      <td>0</td>\n",
              "      <td>0</td>\n",
              "      <td>0</td>\n",
              "      <td>0</td>\n",
              "      <td>0</td>\n",
              "      <td>0</td>\n",
              "      <td>0</td>\n",
              "      <td>0</td>\n",
              "      <td>0</td>\n",
              "      <td>0</td>\n",
              "      <td>0</td>\n",
              "      <td>0</td>\n",
              "      <td>0</td>\n",
              "      <td>0</td>\n",
              "      <td>0</td>\n",
              "      <td>0</td>\n",
              "      <td>0</td>\n",
              "      <td>0</td>\n",
              "      <td>0</td>\n",
              "      <td>0</td>\n",
              "      <td>0</td>\n",
              "      <td>0</td>\n",
              "      <td>0</td>\n",
              "      <td>0</td>\n",
              "      <td>0</td>\n",
              "      <td>0</td>\n",
              "      <td>0</td>\n",
              "      <td>0</td>\n",
              "      <td>0</td>\n",
              "      <td>0</td>\n",
              "      <td>0</td>\n",
              "      <td>0</td>\n",
              "      <td>0</td>\n",
              "      <td>0</td>\n",
              "      <td>0</td>\n",
              "      <td>0</td>\n",
              "      <td>0</td>\n",
              "      <td>0</td>\n",
              "      <td>0</td>\n",
              "      <td>0</td>\n",
              "    </tr>\n",
              "  </tbody>\n",
              "</table>\n",
              "<p>3 rows × 143 columns</p>\n",
              "</div>"
            ],
            "text/plain": [
              "   TransactionAmt  TransactionDT  ...  DeviceType_desktop  DeviceType_mobile\n",
              "0            68.5          86400  ...                   0                  0\n",
              "1            29.0          86401  ...                   0                  0\n",
              "2            59.0          86469  ...                   0                  0\n",
              "\n",
              "[3 rows x 143 columns]"
            ]
          },
          "metadata": {
            "tags": []
          },
          "execution_count": 22
        }
      ]
    },
    {
      "cell_type": "markdown",
      "metadata": {
        "id": "R-1tZ6lOUsfx"
      },
      "source": [
        "Remove all null columns and fill other null values with the median of their belonging column."
      ]
    },
    {
      "cell_type": "code",
      "metadata": {
        "id": "0ojWG93oESoI"
      },
      "source": [
        "for c in df.columns:\n",
        "  if df[c].isnull().sum() == len(df[c]):\n",
        "    df.drop(labels = [c],axis = 1,inplace = True)\n",
        "    continue\n",
        "\n",
        "  df [c] = df[c].fillna(np.nanmedian(df[c]))\n"
      ],
      "execution_count": null,
      "outputs": []
    },
    {
      "cell_type": "code",
      "metadata": {
        "colab": {
          "base_uri": "https://localhost:8080/",
          "height": 208
        },
        "id": "Cu1ZHnrQFo5P",
        "outputId": "e1c2f3ea-9ef6-4b6b-bbd1-2048426bd7bb"
      },
      "source": [
        "df.head(3)"
      ],
      "execution_count": null,
      "outputs": [
        {
          "output_type": "execute_result",
          "data": {
            "text/html": [
              "<div>\n",
              "<style scoped>\n",
              "    .dataframe tbody tr th:only-of-type {\n",
              "        vertical-align: middle;\n",
              "    }\n",
              "\n",
              "    .dataframe tbody tr th {\n",
              "        vertical-align: top;\n",
              "    }\n",
              "\n",
              "    .dataframe thead th {\n",
              "        text-align: right;\n",
              "    }\n",
              "</style>\n",
              "<table border=\"1\" class=\"dataframe\">\n",
              "  <thead>\n",
              "    <tr style=\"text-align: right;\">\n",
              "      <th></th>\n",
              "      <th>TransactionAmt</th>\n",
              "      <th>TransactionDT</th>\n",
              "      <th>card1</th>\n",
              "      <th>card2</th>\n",
              "      <th>card3</th>\n",
              "      <th>card5</th>\n",
              "      <th>addr1</th>\n",
              "      <th>addr2</th>\n",
              "      <th>dist1</th>\n",
              "      <th>ProductCD_C</th>\n",
              "      <th>ProductCD_H</th>\n",
              "      <th>ProductCD_R</th>\n",
              "      <th>ProductCD_S</th>\n",
              "      <th>ProductCD_W</th>\n",
              "      <th>card4_american express</th>\n",
              "      <th>card4_discover</th>\n",
              "      <th>card4_mastercard</th>\n",
              "      <th>card4_visa</th>\n",
              "      <th>card6_charge card</th>\n",
              "      <th>card6_credit</th>\n",
              "      <th>card6_debit</th>\n",
              "      <th>card6_debit or credit</th>\n",
              "      <th>P_emaildomain_aim.com</th>\n",
              "      <th>P_emaildomain_anonymous.com</th>\n",
              "      <th>P_emaildomain_aol.com</th>\n",
              "      <th>P_emaildomain_att.net</th>\n",
              "      <th>P_emaildomain_bellsouth.net</th>\n",
              "      <th>P_emaildomain_cableone.net</th>\n",
              "      <th>P_emaildomain_centurylink.net</th>\n",
              "      <th>P_emaildomain_cfl.rr.com</th>\n",
              "      <th>P_emaildomain_charter.net</th>\n",
              "      <th>P_emaildomain_comcast.net</th>\n",
              "      <th>P_emaildomain_cox.net</th>\n",
              "      <th>P_emaildomain_earthlink.net</th>\n",
              "      <th>P_emaildomain_embarqmail.com</th>\n",
              "      <th>P_emaildomain_frontier.com</th>\n",
              "      <th>P_emaildomain_frontiernet.net</th>\n",
              "      <th>P_emaildomain_gmail</th>\n",
              "      <th>P_emaildomain_gmail.com</th>\n",
              "      <th>P_emaildomain_gmx.de</th>\n",
              "      <th>...</th>\n",
              "      <th>R_emaildomain_hotmail.fr</th>\n",
              "      <th>R_emaildomain_icloud.com</th>\n",
              "      <th>R_emaildomain_juno.com</th>\n",
              "      <th>R_emaildomain_live.com</th>\n",
              "      <th>R_emaildomain_live.com.mx</th>\n",
              "      <th>R_emaildomain_live.fr</th>\n",
              "      <th>R_emaildomain_mac.com</th>\n",
              "      <th>R_emaildomain_mail.com</th>\n",
              "      <th>R_emaildomain_me.com</th>\n",
              "      <th>R_emaildomain_msn.com</th>\n",
              "      <th>R_emaildomain_netzero.com</th>\n",
              "      <th>R_emaildomain_netzero.net</th>\n",
              "      <th>R_emaildomain_optonline.net</th>\n",
              "      <th>R_emaildomain_outlook.com</th>\n",
              "      <th>R_emaildomain_outlook.es</th>\n",
              "      <th>R_emaildomain_prodigy.net.mx</th>\n",
              "      <th>R_emaildomain_protonmail.com</th>\n",
              "      <th>R_emaildomain_ptd.net</th>\n",
              "      <th>R_emaildomain_q.com</th>\n",
              "      <th>R_emaildomain_roadrunner.com</th>\n",
              "      <th>R_emaildomain_rocketmail.com</th>\n",
              "      <th>R_emaildomain_sbcglobal.net</th>\n",
              "      <th>R_emaildomain_sc.rr.com</th>\n",
              "      <th>R_emaildomain_scranton.edu</th>\n",
              "      <th>R_emaildomain_servicios-ta.com</th>\n",
              "      <th>R_emaildomain_suddenlink.net</th>\n",
              "      <th>R_emaildomain_twc.com</th>\n",
              "      <th>R_emaildomain_verizon.net</th>\n",
              "      <th>R_emaildomain_web.de</th>\n",
              "      <th>R_emaildomain_windstream.net</th>\n",
              "      <th>R_emaildomain_yahoo.co.jp</th>\n",
              "      <th>R_emaildomain_yahoo.co.uk</th>\n",
              "      <th>R_emaildomain_yahoo.com</th>\n",
              "      <th>R_emaildomain_yahoo.com.mx</th>\n",
              "      <th>R_emaildomain_yahoo.de</th>\n",
              "      <th>R_emaildomain_yahoo.es</th>\n",
              "      <th>R_emaildomain_yahoo.fr</th>\n",
              "      <th>R_emaildomain_ymail.com</th>\n",
              "      <th>DeviceType_desktop</th>\n",
              "      <th>DeviceType_mobile</th>\n",
              "    </tr>\n",
              "  </thead>\n",
              "  <tbody>\n",
              "    <tr>\n",
              "      <th>0</th>\n",
              "      <td>68.5</td>\n",
              "      <td>86400</td>\n",
              "      <td>13926</td>\n",
              "      <td>361.0</td>\n",
              "      <td>150.0</td>\n",
              "      <td>142.0</td>\n",
              "      <td>315.0</td>\n",
              "      <td>87.0</td>\n",
              "      <td>19.0</td>\n",
              "      <td>0</td>\n",
              "      <td>0</td>\n",
              "      <td>0</td>\n",
              "      <td>0</td>\n",
              "      <td>1</td>\n",
              "      <td>0</td>\n",
              "      <td>1</td>\n",
              "      <td>0</td>\n",
              "      <td>0</td>\n",
              "      <td>0</td>\n",
              "      <td>1</td>\n",
              "      <td>0</td>\n",
              "      <td>0</td>\n",
              "      <td>0</td>\n",
              "      <td>0</td>\n",
              "      <td>0</td>\n",
              "      <td>0</td>\n",
              "      <td>0</td>\n",
              "      <td>0</td>\n",
              "      <td>0</td>\n",
              "      <td>0</td>\n",
              "      <td>0</td>\n",
              "      <td>0</td>\n",
              "      <td>0</td>\n",
              "      <td>0</td>\n",
              "      <td>0</td>\n",
              "      <td>0</td>\n",
              "      <td>0</td>\n",
              "      <td>0</td>\n",
              "      <td>0</td>\n",
              "      <td>0</td>\n",
              "      <td>...</td>\n",
              "      <td>0</td>\n",
              "      <td>0</td>\n",
              "      <td>0</td>\n",
              "      <td>0</td>\n",
              "      <td>0</td>\n",
              "      <td>0</td>\n",
              "      <td>0</td>\n",
              "      <td>0</td>\n",
              "      <td>0</td>\n",
              "      <td>0</td>\n",
              "      <td>0</td>\n",
              "      <td>0</td>\n",
              "      <td>0</td>\n",
              "      <td>0</td>\n",
              "      <td>0</td>\n",
              "      <td>0</td>\n",
              "      <td>0</td>\n",
              "      <td>0</td>\n",
              "      <td>0</td>\n",
              "      <td>0</td>\n",
              "      <td>0</td>\n",
              "      <td>0</td>\n",
              "      <td>0</td>\n",
              "      <td>0</td>\n",
              "      <td>0</td>\n",
              "      <td>0</td>\n",
              "      <td>0</td>\n",
              "      <td>0</td>\n",
              "      <td>0</td>\n",
              "      <td>0</td>\n",
              "      <td>0</td>\n",
              "      <td>0</td>\n",
              "      <td>0</td>\n",
              "      <td>0</td>\n",
              "      <td>0</td>\n",
              "      <td>0</td>\n",
              "      <td>0</td>\n",
              "      <td>0</td>\n",
              "      <td>0</td>\n",
              "      <td>0</td>\n",
              "    </tr>\n",
              "    <tr>\n",
              "      <th>1</th>\n",
              "      <td>29.0</td>\n",
              "      <td>86401</td>\n",
              "      <td>2755</td>\n",
              "      <td>404.0</td>\n",
              "      <td>150.0</td>\n",
              "      <td>102.0</td>\n",
              "      <td>325.0</td>\n",
              "      <td>87.0</td>\n",
              "      <td>8.0</td>\n",
              "      <td>0</td>\n",
              "      <td>0</td>\n",
              "      <td>0</td>\n",
              "      <td>0</td>\n",
              "      <td>1</td>\n",
              "      <td>0</td>\n",
              "      <td>0</td>\n",
              "      <td>1</td>\n",
              "      <td>0</td>\n",
              "      <td>0</td>\n",
              "      <td>1</td>\n",
              "      <td>0</td>\n",
              "      <td>0</td>\n",
              "      <td>0</td>\n",
              "      <td>0</td>\n",
              "      <td>0</td>\n",
              "      <td>0</td>\n",
              "      <td>0</td>\n",
              "      <td>0</td>\n",
              "      <td>0</td>\n",
              "      <td>0</td>\n",
              "      <td>0</td>\n",
              "      <td>0</td>\n",
              "      <td>0</td>\n",
              "      <td>0</td>\n",
              "      <td>0</td>\n",
              "      <td>0</td>\n",
              "      <td>0</td>\n",
              "      <td>0</td>\n",
              "      <td>1</td>\n",
              "      <td>0</td>\n",
              "      <td>...</td>\n",
              "      <td>0</td>\n",
              "      <td>0</td>\n",
              "      <td>0</td>\n",
              "      <td>0</td>\n",
              "      <td>0</td>\n",
              "      <td>0</td>\n",
              "      <td>0</td>\n",
              "      <td>0</td>\n",
              "      <td>0</td>\n",
              "      <td>0</td>\n",
              "      <td>0</td>\n",
              "      <td>0</td>\n",
              "      <td>0</td>\n",
              "      <td>0</td>\n",
              "      <td>0</td>\n",
              "      <td>0</td>\n",
              "      <td>0</td>\n",
              "      <td>0</td>\n",
              "      <td>0</td>\n",
              "      <td>0</td>\n",
              "      <td>0</td>\n",
              "      <td>0</td>\n",
              "      <td>0</td>\n",
              "      <td>0</td>\n",
              "      <td>0</td>\n",
              "      <td>0</td>\n",
              "      <td>0</td>\n",
              "      <td>0</td>\n",
              "      <td>0</td>\n",
              "      <td>0</td>\n",
              "      <td>0</td>\n",
              "      <td>0</td>\n",
              "      <td>0</td>\n",
              "      <td>0</td>\n",
              "      <td>0</td>\n",
              "      <td>0</td>\n",
              "      <td>0</td>\n",
              "      <td>0</td>\n",
              "      <td>0</td>\n",
              "      <td>0</td>\n",
              "    </tr>\n",
              "    <tr>\n",
              "      <th>2</th>\n",
              "      <td>59.0</td>\n",
              "      <td>86469</td>\n",
              "      <td>4663</td>\n",
              "      <td>490.0</td>\n",
              "      <td>150.0</td>\n",
              "      <td>166.0</td>\n",
              "      <td>330.0</td>\n",
              "      <td>87.0</td>\n",
              "      <td>287.0</td>\n",
              "      <td>0</td>\n",
              "      <td>0</td>\n",
              "      <td>0</td>\n",
              "      <td>0</td>\n",
              "      <td>1</td>\n",
              "      <td>0</td>\n",
              "      <td>0</td>\n",
              "      <td>0</td>\n",
              "      <td>1</td>\n",
              "      <td>0</td>\n",
              "      <td>0</td>\n",
              "      <td>1</td>\n",
              "      <td>0</td>\n",
              "      <td>0</td>\n",
              "      <td>0</td>\n",
              "      <td>0</td>\n",
              "      <td>0</td>\n",
              "      <td>0</td>\n",
              "      <td>0</td>\n",
              "      <td>0</td>\n",
              "      <td>0</td>\n",
              "      <td>0</td>\n",
              "      <td>0</td>\n",
              "      <td>0</td>\n",
              "      <td>0</td>\n",
              "      <td>0</td>\n",
              "      <td>0</td>\n",
              "      <td>0</td>\n",
              "      <td>0</td>\n",
              "      <td>0</td>\n",
              "      <td>0</td>\n",
              "      <td>...</td>\n",
              "      <td>0</td>\n",
              "      <td>0</td>\n",
              "      <td>0</td>\n",
              "      <td>0</td>\n",
              "      <td>0</td>\n",
              "      <td>0</td>\n",
              "      <td>0</td>\n",
              "      <td>0</td>\n",
              "      <td>0</td>\n",
              "      <td>0</td>\n",
              "      <td>0</td>\n",
              "      <td>0</td>\n",
              "      <td>0</td>\n",
              "      <td>0</td>\n",
              "      <td>0</td>\n",
              "      <td>0</td>\n",
              "      <td>0</td>\n",
              "      <td>0</td>\n",
              "      <td>0</td>\n",
              "      <td>0</td>\n",
              "      <td>0</td>\n",
              "      <td>0</td>\n",
              "      <td>0</td>\n",
              "      <td>0</td>\n",
              "      <td>0</td>\n",
              "      <td>0</td>\n",
              "      <td>0</td>\n",
              "      <td>0</td>\n",
              "      <td>0</td>\n",
              "      <td>0</td>\n",
              "      <td>0</td>\n",
              "      <td>0</td>\n",
              "      <td>0</td>\n",
              "      <td>0</td>\n",
              "      <td>0</td>\n",
              "      <td>0</td>\n",
              "      <td>0</td>\n",
              "      <td>0</td>\n",
              "      <td>0</td>\n",
              "      <td>0</td>\n",
              "    </tr>\n",
              "  </tbody>\n",
              "</table>\n",
              "<p>3 rows × 143 columns</p>\n",
              "</div>"
            ],
            "text/plain": [
              "   TransactionAmt  TransactionDT  ...  DeviceType_desktop  DeviceType_mobile\n",
              "0            68.5          86400  ...                   0                  0\n",
              "1            29.0          86401  ...                   0                  0\n",
              "2            59.0          86469  ...                   0                  0\n",
              "\n",
              "[3 rows x 143 columns]"
            ]
          },
          "metadata": {
            "tags": []
          },
          "execution_count": 24
        }
      ]
    },
    {
      "cell_type": "markdown",
      "metadata": {
        "id": "TKh7POtXVVGe"
      },
      "source": [
        "<h4>Normalization:<h4>"
      ]
    },
    {
      "cell_type": "code",
      "metadata": {
        "id": "gbgIESvsZfN_"
      },
      "source": [
        "for c in df.columns:\n",
        "\n",
        "  min = df[c].min()\n",
        "  max = df[c].max()\n",
        "  df[c] = ((df[c]-min)/max).astype('float32')\n",
        "\n",
        "  #Again check whether there is null column\n",
        "  if df[c].isnull().sum() == len(df[c]):\n",
        "    df.drop(labels = [c],axis = 1,inplace = True)\n",
        "  "
      ],
      "execution_count": null,
      "outputs": []
    },
    {
      "cell_type": "code",
      "metadata": {
        "colab": {
          "base_uri": "https://localhost:8080/"
        },
        "id": "02GQjKAlKOzm",
        "outputId": "9e3ab656-daed-48bf-cebd-1762662d9642"
      },
      "source": [
        "df.shape"
      ],
      "execution_count": null,
      "outputs": [
        {
          "output_type": "execute_result",
          "data": {
            "text/plain": [
              "(590540, 143)"
            ]
          },
          "metadata": {
            "tags": []
          },
          "execution_count": 26
        }
      ]
    },
    {
      "cell_type": "code",
      "metadata": {
        "colab": {
          "base_uri": "https://localhost:8080/",
          "height": 208
        },
        "id": "rnj-T_Dw72jn",
        "outputId": "eea7b7d9-e97e-4915-a95d-f2b3bffd749c"
      },
      "source": [
        "df.head(3)"
      ],
      "execution_count": null,
      "outputs": [
        {
          "output_type": "execute_result",
          "data": {
            "text/html": [
              "<div>\n",
              "<style scoped>\n",
              "    .dataframe tbody tr th:only-of-type {\n",
              "        vertical-align: middle;\n",
              "    }\n",
              "\n",
              "    .dataframe tbody tr th {\n",
              "        vertical-align: top;\n",
              "    }\n",
              "\n",
              "    .dataframe thead th {\n",
              "        text-align: right;\n",
              "    }\n",
              "</style>\n",
              "<table border=\"1\" class=\"dataframe\">\n",
              "  <thead>\n",
              "    <tr style=\"text-align: right;\">\n",
              "      <th></th>\n",
              "      <th>TransactionAmt</th>\n",
              "      <th>TransactionDT</th>\n",
              "      <th>card1</th>\n",
              "      <th>card2</th>\n",
              "      <th>card3</th>\n",
              "      <th>card5</th>\n",
              "      <th>addr1</th>\n",
              "      <th>addr2</th>\n",
              "      <th>dist1</th>\n",
              "      <th>ProductCD_C</th>\n",
              "      <th>ProductCD_H</th>\n",
              "      <th>ProductCD_R</th>\n",
              "      <th>ProductCD_S</th>\n",
              "      <th>ProductCD_W</th>\n",
              "      <th>card4_american express</th>\n",
              "      <th>card4_discover</th>\n",
              "      <th>card4_mastercard</th>\n",
              "      <th>card4_visa</th>\n",
              "      <th>card6_charge card</th>\n",
              "      <th>card6_credit</th>\n",
              "      <th>card6_debit</th>\n",
              "      <th>card6_debit or credit</th>\n",
              "      <th>P_emaildomain_aim.com</th>\n",
              "      <th>P_emaildomain_anonymous.com</th>\n",
              "      <th>P_emaildomain_aol.com</th>\n",
              "      <th>P_emaildomain_att.net</th>\n",
              "      <th>P_emaildomain_bellsouth.net</th>\n",
              "      <th>P_emaildomain_cableone.net</th>\n",
              "      <th>P_emaildomain_centurylink.net</th>\n",
              "      <th>P_emaildomain_cfl.rr.com</th>\n",
              "      <th>P_emaildomain_charter.net</th>\n",
              "      <th>P_emaildomain_comcast.net</th>\n",
              "      <th>P_emaildomain_cox.net</th>\n",
              "      <th>P_emaildomain_earthlink.net</th>\n",
              "      <th>P_emaildomain_embarqmail.com</th>\n",
              "      <th>P_emaildomain_frontier.com</th>\n",
              "      <th>P_emaildomain_frontiernet.net</th>\n",
              "      <th>P_emaildomain_gmail</th>\n",
              "      <th>P_emaildomain_gmail.com</th>\n",
              "      <th>P_emaildomain_gmx.de</th>\n",
              "      <th>...</th>\n",
              "      <th>R_emaildomain_hotmail.fr</th>\n",
              "      <th>R_emaildomain_icloud.com</th>\n",
              "      <th>R_emaildomain_juno.com</th>\n",
              "      <th>R_emaildomain_live.com</th>\n",
              "      <th>R_emaildomain_live.com.mx</th>\n",
              "      <th>R_emaildomain_live.fr</th>\n",
              "      <th>R_emaildomain_mac.com</th>\n",
              "      <th>R_emaildomain_mail.com</th>\n",
              "      <th>R_emaildomain_me.com</th>\n",
              "      <th>R_emaildomain_msn.com</th>\n",
              "      <th>R_emaildomain_netzero.com</th>\n",
              "      <th>R_emaildomain_netzero.net</th>\n",
              "      <th>R_emaildomain_optonline.net</th>\n",
              "      <th>R_emaildomain_outlook.com</th>\n",
              "      <th>R_emaildomain_outlook.es</th>\n",
              "      <th>R_emaildomain_prodigy.net.mx</th>\n",
              "      <th>R_emaildomain_protonmail.com</th>\n",
              "      <th>R_emaildomain_ptd.net</th>\n",
              "      <th>R_emaildomain_q.com</th>\n",
              "      <th>R_emaildomain_roadrunner.com</th>\n",
              "      <th>R_emaildomain_rocketmail.com</th>\n",
              "      <th>R_emaildomain_sbcglobal.net</th>\n",
              "      <th>R_emaildomain_sc.rr.com</th>\n",
              "      <th>R_emaildomain_scranton.edu</th>\n",
              "      <th>R_emaildomain_servicios-ta.com</th>\n",
              "      <th>R_emaildomain_suddenlink.net</th>\n",
              "      <th>R_emaildomain_twc.com</th>\n",
              "      <th>R_emaildomain_verizon.net</th>\n",
              "      <th>R_emaildomain_web.de</th>\n",
              "      <th>R_emaildomain_windstream.net</th>\n",
              "      <th>R_emaildomain_yahoo.co.jp</th>\n",
              "      <th>R_emaildomain_yahoo.co.uk</th>\n",
              "      <th>R_emaildomain_yahoo.com</th>\n",
              "      <th>R_emaildomain_yahoo.com.mx</th>\n",
              "      <th>R_emaildomain_yahoo.de</th>\n",
              "      <th>R_emaildomain_yahoo.es</th>\n",
              "      <th>R_emaildomain_yahoo.fr</th>\n",
              "      <th>R_emaildomain_ymail.com</th>\n",
              "      <th>DeviceType_desktop</th>\n",
              "      <th>DeviceType_mobile</th>\n",
              "    </tr>\n",
              "  </thead>\n",
              "  <tbody>\n",
              "    <tr>\n",
              "      <th>0</th>\n",
              "      <td>0.002137</td>\n",
              "      <td>0.000000e+00</td>\n",
              "      <td>0.702653</td>\n",
              "      <td>0.435000</td>\n",
              "      <td>0.21645</td>\n",
              "      <td>0.177215</td>\n",
              "      <td>0.398148</td>\n",
              "      <td>0.754902</td>\n",
              "      <td>0.001847</td>\n",
              "      <td>0.0</td>\n",
              "      <td>0.0</td>\n",
              "      <td>0.0</td>\n",
              "      <td>0.0</td>\n",
              "      <td>1.0</td>\n",
              "      <td>0.0</td>\n",
              "      <td>1.0</td>\n",
              "      <td>0.0</td>\n",
              "      <td>0.0</td>\n",
              "      <td>0.0</td>\n",
              "      <td>1.0</td>\n",
              "      <td>0.0</td>\n",
              "      <td>0.0</td>\n",
              "      <td>0.0</td>\n",
              "      <td>0.0</td>\n",
              "      <td>0.0</td>\n",
              "      <td>0.0</td>\n",
              "      <td>0.0</td>\n",
              "      <td>0.0</td>\n",
              "      <td>0.0</td>\n",
              "      <td>0.0</td>\n",
              "      <td>0.0</td>\n",
              "      <td>0.0</td>\n",
              "      <td>0.0</td>\n",
              "      <td>0.0</td>\n",
              "      <td>0.0</td>\n",
              "      <td>0.0</td>\n",
              "      <td>0.0</td>\n",
              "      <td>0.0</td>\n",
              "      <td>0.0</td>\n",
              "      <td>0.0</td>\n",
              "      <td>...</td>\n",
              "      <td>0.0</td>\n",
              "      <td>0.0</td>\n",
              "      <td>0.0</td>\n",
              "      <td>0.0</td>\n",
              "      <td>0.0</td>\n",
              "      <td>0.0</td>\n",
              "      <td>0.0</td>\n",
              "      <td>0.0</td>\n",
              "      <td>0.0</td>\n",
              "      <td>0.0</td>\n",
              "      <td>0.0</td>\n",
              "      <td>0.0</td>\n",
              "      <td>0.0</td>\n",
              "      <td>0.0</td>\n",
              "      <td>0.0</td>\n",
              "      <td>0.0</td>\n",
              "      <td>0.0</td>\n",
              "      <td>0.0</td>\n",
              "      <td>0.0</td>\n",
              "      <td>0.0</td>\n",
              "      <td>0.0</td>\n",
              "      <td>0.0</td>\n",
              "      <td>0.0</td>\n",
              "      <td>0.0</td>\n",
              "      <td>0.0</td>\n",
              "      <td>0.0</td>\n",
              "      <td>0.0</td>\n",
              "      <td>0.0</td>\n",
              "      <td>0.0</td>\n",
              "      <td>0.0</td>\n",
              "      <td>0.0</td>\n",
              "      <td>0.0</td>\n",
              "      <td>0.0</td>\n",
              "      <td>0.0</td>\n",
              "      <td>0.0</td>\n",
              "      <td>0.0</td>\n",
              "      <td>0.0</td>\n",
              "      <td>0.0</td>\n",
              "      <td>0.0</td>\n",
              "      <td>0.0</td>\n",
              "    </tr>\n",
              "    <tr>\n",
              "      <th>1</th>\n",
              "      <td>0.000900</td>\n",
              "      <td>6.324658e-08</td>\n",
              "      <td>0.095401</td>\n",
              "      <td>0.506667</td>\n",
              "      <td>0.21645</td>\n",
              "      <td>0.008439</td>\n",
              "      <td>0.416667</td>\n",
              "      <td>0.754902</td>\n",
              "      <td>0.000778</td>\n",
              "      <td>0.0</td>\n",
              "      <td>0.0</td>\n",
              "      <td>0.0</td>\n",
              "      <td>0.0</td>\n",
              "      <td>1.0</td>\n",
              "      <td>0.0</td>\n",
              "      <td>0.0</td>\n",
              "      <td>1.0</td>\n",
              "      <td>0.0</td>\n",
              "      <td>0.0</td>\n",
              "      <td>1.0</td>\n",
              "      <td>0.0</td>\n",
              "      <td>0.0</td>\n",
              "      <td>0.0</td>\n",
              "      <td>0.0</td>\n",
              "      <td>0.0</td>\n",
              "      <td>0.0</td>\n",
              "      <td>0.0</td>\n",
              "      <td>0.0</td>\n",
              "      <td>0.0</td>\n",
              "      <td>0.0</td>\n",
              "      <td>0.0</td>\n",
              "      <td>0.0</td>\n",
              "      <td>0.0</td>\n",
              "      <td>0.0</td>\n",
              "      <td>0.0</td>\n",
              "      <td>0.0</td>\n",
              "      <td>0.0</td>\n",
              "      <td>0.0</td>\n",
              "      <td>1.0</td>\n",
              "      <td>0.0</td>\n",
              "      <td>...</td>\n",
              "      <td>0.0</td>\n",
              "      <td>0.0</td>\n",
              "      <td>0.0</td>\n",
              "      <td>0.0</td>\n",
              "      <td>0.0</td>\n",
              "      <td>0.0</td>\n",
              "      <td>0.0</td>\n",
              "      <td>0.0</td>\n",
              "      <td>0.0</td>\n",
              "      <td>0.0</td>\n",
              "      <td>0.0</td>\n",
              "      <td>0.0</td>\n",
              "      <td>0.0</td>\n",
              "      <td>0.0</td>\n",
              "      <td>0.0</td>\n",
              "      <td>0.0</td>\n",
              "      <td>0.0</td>\n",
              "      <td>0.0</td>\n",
              "      <td>0.0</td>\n",
              "      <td>0.0</td>\n",
              "      <td>0.0</td>\n",
              "      <td>0.0</td>\n",
              "      <td>0.0</td>\n",
              "      <td>0.0</td>\n",
              "      <td>0.0</td>\n",
              "      <td>0.0</td>\n",
              "      <td>0.0</td>\n",
              "      <td>0.0</td>\n",
              "      <td>0.0</td>\n",
              "      <td>0.0</td>\n",
              "      <td>0.0</td>\n",
              "      <td>0.0</td>\n",
              "      <td>0.0</td>\n",
              "      <td>0.0</td>\n",
              "      <td>0.0</td>\n",
              "      <td>0.0</td>\n",
              "      <td>0.0</td>\n",
              "      <td>0.0</td>\n",
              "      <td>0.0</td>\n",
              "      <td>0.0</td>\n",
              "    </tr>\n",
              "    <tr>\n",
              "      <th>2</th>\n",
              "      <td>0.001840</td>\n",
              "      <td>4.364014e-06</td>\n",
              "      <td>0.199119</td>\n",
              "      <td>0.650000</td>\n",
              "      <td>0.21645</td>\n",
              "      <td>0.278481</td>\n",
              "      <td>0.425926</td>\n",
              "      <td>0.754902</td>\n",
              "      <td>0.027902</td>\n",
              "      <td>0.0</td>\n",
              "      <td>0.0</td>\n",
              "      <td>0.0</td>\n",
              "      <td>0.0</td>\n",
              "      <td>1.0</td>\n",
              "      <td>0.0</td>\n",
              "      <td>0.0</td>\n",
              "      <td>0.0</td>\n",
              "      <td>1.0</td>\n",
              "      <td>0.0</td>\n",
              "      <td>0.0</td>\n",
              "      <td>1.0</td>\n",
              "      <td>0.0</td>\n",
              "      <td>0.0</td>\n",
              "      <td>0.0</td>\n",
              "      <td>0.0</td>\n",
              "      <td>0.0</td>\n",
              "      <td>0.0</td>\n",
              "      <td>0.0</td>\n",
              "      <td>0.0</td>\n",
              "      <td>0.0</td>\n",
              "      <td>0.0</td>\n",
              "      <td>0.0</td>\n",
              "      <td>0.0</td>\n",
              "      <td>0.0</td>\n",
              "      <td>0.0</td>\n",
              "      <td>0.0</td>\n",
              "      <td>0.0</td>\n",
              "      <td>0.0</td>\n",
              "      <td>0.0</td>\n",
              "      <td>0.0</td>\n",
              "      <td>...</td>\n",
              "      <td>0.0</td>\n",
              "      <td>0.0</td>\n",
              "      <td>0.0</td>\n",
              "      <td>0.0</td>\n",
              "      <td>0.0</td>\n",
              "      <td>0.0</td>\n",
              "      <td>0.0</td>\n",
              "      <td>0.0</td>\n",
              "      <td>0.0</td>\n",
              "      <td>0.0</td>\n",
              "      <td>0.0</td>\n",
              "      <td>0.0</td>\n",
              "      <td>0.0</td>\n",
              "      <td>0.0</td>\n",
              "      <td>0.0</td>\n",
              "      <td>0.0</td>\n",
              "      <td>0.0</td>\n",
              "      <td>0.0</td>\n",
              "      <td>0.0</td>\n",
              "      <td>0.0</td>\n",
              "      <td>0.0</td>\n",
              "      <td>0.0</td>\n",
              "      <td>0.0</td>\n",
              "      <td>0.0</td>\n",
              "      <td>0.0</td>\n",
              "      <td>0.0</td>\n",
              "      <td>0.0</td>\n",
              "      <td>0.0</td>\n",
              "      <td>0.0</td>\n",
              "      <td>0.0</td>\n",
              "      <td>0.0</td>\n",
              "      <td>0.0</td>\n",
              "      <td>0.0</td>\n",
              "      <td>0.0</td>\n",
              "      <td>0.0</td>\n",
              "      <td>0.0</td>\n",
              "      <td>0.0</td>\n",
              "      <td>0.0</td>\n",
              "      <td>0.0</td>\n",
              "      <td>0.0</td>\n",
              "    </tr>\n",
              "  </tbody>\n",
              "</table>\n",
              "<p>3 rows × 143 columns</p>\n",
              "</div>"
            ],
            "text/plain": [
              "   TransactionAmt  TransactionDT  ...  DeviceType_desktop  DeviceType_mobile\n",
              "0        0.002137   0.000000e+00  ...                 0.0                0.0\n",
              "1        0.000900   6.324658e-08  ...                 0.0                0.0\n",
              "2        0.001840   4.364014e-06  ...                 0.0                0.0\n",
              "\n",
              "[3 rows x 143 columns]"
            ]
          },
          "metadata": {
            "tags": []
          },
          "execution_count": 27
        }
      ]
    },
    {
      "cell_type": "code",
      "metadata": {
        "colab": {
          "base_uri": "https://localhost:8080/"
        },
        "id": "UD1z-hTDZl7y",
        "outputId": "871931dc-9d07-4681-9b46-677711a47d28"
      },
      "source": [
        "sys.getsizeof(df)/1024/1024/1024 #in GB"
      ],
      "execution_count": null,
      "outputs": [
        {
          "output_type": "execute_result",
          "data": {
            "text/plain": [
              "0.3189902976155281"
            ]
          },
          "metadata": {
            "tags": []
          },
          "execution_count": 28
        }
      ]
    },
    {
      "cell_type": "markdown",
      "metadata": {
        "id": "TVzT-_lNaLFE"
      },
      "source": [
        "Size of df has been reduced in compare to the begining."
      ]
    },
    {
      "cell_type": "code",
      "metadata": {
        "id": "f4frfN7F6KP1"
      },
      "source": [
        "length = df.shape[1]"
      ],
      "execution_count": null,
      "outputs": []
    },
    {
      "cell_type": "code",
      "metadata": {
        "colab": {
          "base_uri": "https://localhost:8080/"
        },
        "id": "jgreASpf6vb1",
        "outputId": "f524537a-10bc-45fd-d243-ae7fe215e142"
      },
      "source": [
        "print([i for i in df.columns])"
      ],
      "execution_count": null,
      "outputs": [
        {
          "output_type": "stream",
          "text": [
            "['TransactionAmt', 'TransactionDT', 'card1', 'card2', 'card3', 'card5', 'addr1', 'addr2', 'dist1', 'ProductCD_C', 'ProductCD_H', 'ProductCD_R', 'ProductCD_S', 'ProductCD_W', 'card4_american express', 'card4_discover', 'card4_mastercard', 'card4_visa', 'card6_charge card', 'card6_credit', 'card6_debit', 'card6_debit or credit', 'P_emaildomain_aim.com', 'P_emaildomain_anonymous.com', 'P_emaildomain_aol.com', 'P_emaildomain_att.net', 'P_emaildomain_bellsouth.net', 'P_emaildomain_cableone.net', 'P_emaildomain_centurylink.net', 'P_emaildomain_cfl.rr.com', 'P_emaildomain_charter.net', 'P_emaildomain_comcast.net', 'P_emaildomain_cox.net', 'P_emaildomain_earthlink.net', 'P_emaildomain_embarqmail.com', 'P_emaildomain_frontier.com', 'P_emaildomain_frontiernet.net', 'P_emaildomain_gmail', 'P_emaildomain_gmail.com', 'P_emaildomain_gmx.de', 'P_emaildomain_hotmail.co.uk', 'P_emaildomain_hotmail.com', 'P_emaildomain_hotmail.de', 'P_emaildomain_hotmail.es', 'P_emaildomain_hotmail.fr', 'P_emaildomain_icloud.com', 'P_emaildomain_juno.com', 'P_emaildomain_live.com', 'P_emaildomain_live.com.mx', 'P_emaildomain_live.fr', 'P_emaildomain_mac.com', 'P_emaildomain_mail.com', 'P_emaildomain_me.com', 'P_emaildomain_msn.com', 'P_emaildomain_netzero.com', 'P_emaildomain_netzero.net', 'P_emaildomain_optonline.net', 'P_emaildomain_outlook.com', 'P_emaildomain_outlook.es', 'P_emaildomain_prodigy.net.mx', 'P_emaildomain_protonmail.com', 'P_emaildomain_ptd.net', 'P_emaildomain_q.com', 'P_emaildomain_roadrunner.com', 'P_emaildomain_rocketmail.com', 'P_emaildomain_sbcglobal.net', 'P_emaildomain_sc.rr.com', 'P_emaildomain_servicios-ta.com', 'P_emaildomain_suddenlink.net', 'P_emaildomain_twc.com', 'P_emaildomain_verizon.net', 'P_emaildomain_web.de', 'P_emaildomain_windstream.net', 'P_emaildomain_yahoo.co.jp', 'P_emaildomain_yahoo.co.uk', 'P_emaildomain_yahoo.com', 'P_emaildomain_yahoo.com.mx', 'P_emaildomain_yahoo.de', 'P_emaildomain_yahoo.es', 'P_emaildomain_yahoo.fr', 'P_emaildomain_ymail.com', 'R_emaildomain_aim.com', 'R_emaildomain_anonymous.com', 'R_emaildomain_aol.com', 'R_emaildomain_att.net', 'R_emaildomain_bellsouth.net', 'R_emaildomain_cableone.net', 'R_emaildomain_centurylink.net', 'R_emaildomain_cfl.rr.com', 'R_emaildomain_charter.net', 'R_emaildomain_comcast.net', 'R_emaildomain_cox.net', 'R_emaildomain_earthlink.net', 'R_emaildomain_embarqmail.com', 'R_emaildomain_frontier.com', 'R_emaildomain_frontiernet.net', 'R_emaildomain_gmail', 'R_emaildomain_gmail.com', 'R_emaildomain_gmx.de', 'R_emaildomain_hotmail.co.uk', 'R_emaildomain_hotmail.com', 'R_emaildomain_hotmail.de', 'R_emaildomain_hotmail.es', 'R_emaildomain_hotmail.fr', 'R_emaildomain_icloud.com', 'R_emaildomain_juno.com', 'R_emaildomain_live.com', 'R_emaildomain_live.com.mx', 'R_emaildomain_live.fr', 'R_emaildomain_mac.com', 'R_emaildomain_mail.com', 'R_emaildomain_me.com', 'R_emaildomain_msn.com', 'R_emaildomain_netzero.com', 'R_emaildomain_netzero.net', 'R_emaildomain_optonline.net', 'R_emaildomain_outlook.com', 'R_emaildomain_outlook.es', 'R_emaildomain_prodigy.net.mx', 'R_emaildomain_protonmail.com', 'R_emaildomain_ptd.net', 'R_emaildomain_q.com', 'R_emaildomain_roadrunner.com', 'R_emaildomain_rocketmail.com', 'R_emaildomain_sbcglobal.net', 'R_emaildomain_sc.rr.com', 'R_emaildomain_scranton.edu', 'R_emaildomain_servicios-ta.com', 'R_emaildomain_suddenlink.net', 'R_emaildomain_twc.com', 'R_emaildomain_verizon.net', 'R_emaildomain_web.de', 'R_emaildomain_windstream.net', 'R_emaildomain_yahoo.co.jp', 'R_emaildomain_yahoo.co.uk', 'R_emaildomain_yahoo.com', 'R_emaildomain_yahoo.com.mx', 'R_emaildomain_yahoo.de', 'R_emaildomain_yahoo.es', 'R_emaildomain_yahoo.fr', 'R_emaildomain_ymail.com', 'DeviceType_desktop', 'DeviceType_mobile']\n"
          ],
          "name": "stdout"
        }
      ]
    },
    {
      "cell_type": "code",
      "metadata": {
        "colab": {
          "base_uri": "https://localhost:8080/"
        },
        "id": "jDjkGhHQQL4J",
        "outputId": "274014c4-d8c4-4ec2-b45d-6651c02d265f"
      },
      "source": [
        "df.isnull().sum()"
      ],
      "execution_count": null,
      "outputs": [
        {
          "output_type": "execute_result",
          "data": {
            "text/plain": [
              "TransactionAmt             0\n",
              "TransactionDT              0\n",
              "card1                      0\n",
              "card2                      0\n",
              "card3                      0\n",
              "                          ..\n",
              "R_emaildomain_yahoo.es     0\n",
              "R_emaildomain_yahoo.fr     0\n",
              "R_emaildomain_ymail.com    0\n",
              "DeviceType_desktop         0\n",
              "DeviceType_mobile          0\n",
              "Length: 143, dtype: int64"
            ]
          },
          "metadata": {
            "tags": []
          },
          "execution_count": 31
        }
      ]
    },
    {
      "cell_type": "markdown",
      "metadata": {
        "id": "dV9fuv9jV7kt"
      },
      "source": [
        "As we expected there is no null value and also all data are normalized and transformed to [0,1]."
      ]
    },
    {
      "cell_type": "markdown",
      "metadata": {
        "id": "nxM5gPO_fIu6"
      },
      "source": [
        "<h2>Under Sampling:<h2>\n",
        "\n"
      ]
    },
    {
      "cell_type": "markdown",
      "metadata": {
        "id": "3A02UCI-eJIt"
      },
      "source": [
        "There's an idea:\n",
        "\n",
        "\n",
        "It seems there would be a pattern and compatibility among correct data but fraud must be outliers while having no pattern.\n",
        "So in first phase, we train the network only with correct data and then try on fraud set.\n",
        "\n",
        "Then we expect the loss value of correct data prediction would be far less than fraud loss value."
      ]
    },
    {
      "cell_type": "code",
      "metadata": {
        "id": "FnrVZ6XmRh4R"
      },
      "source": [
        "import sklearn.model_selection as skm"
      ],
      "execution_count": null,
      "outputs": []
    },
    {
      "cell_type": "markdown",
      "metadata": {
        "id": "nN756qlkWVxa"
      },
      "source": [
        "Validation set is for after training.\n",
        "Other set is going to be splitted to train and test sets while test is used in the training process."
      ]
    },
    {
      "cell_type": "code",
      "metadata": {
        "id": "zoA5iJBomAbO"
      },
      "source": [
        "X_other,  X_valid ,y_other , y_valid = skm.train_test_split(df , target , test_size = 0.3)"
      ],
      "execution_count": null,
      "outputs": []
    },
    {
      "cell_type": "code",
      "metadata": {
        "colab": {
          "base_uri": "https://localhost:8080/"
        },
        "id": "ptMnAd_GmPhh",
        "outputId": "f635b788-b3ed-4cd1-f3fe-df9071439d09"
      },
      "source": [
        "X_other.shape"
      ],
      "execution_count": null,
      "outputs": [
        {
          "output_type": "execute_result",
          "data": {
            "text/plain": [
              "(413378, 143)"
            ]
          },
          "metadata": {
            "tags": []
          },
          "execution_count": 35
        }
      ]
    },
    {
      "cell_type": "code",
      "metadata": {
        "id": "yJs-jb4gdudL"
      },
      "source": [
        "#For train\n",
        "X_correct = torch.FloatTensor(X_other[y_other == 0].values)\n",
        "y_correct = torch.FloatTensor(y_other[y_other == 0].values)\n",
        "\n",
        "X_fraud = torch.FloatTensor(X_other[y_other == 1].values)\n",
        "y_fraud = torch.FloatTensor(y_other[y_other == 1].values)\n",
        "\n",
        "del X_other\n",
        "del y_other\n",
        "\n",
        "X_valid_corr = torch.FloatTensor(X_valid[y_valid == 0].values)\n",
        "X_valid_fraud = torch.FloatTensor(X_valid[y_valid == 1].values)"
      ],
      "execution_count": null,
      "outputs": []
    },
    {
      "cell_type": "code",
      "metadata": {
        "colab": {
          "base_uri": "https://localhost:8080/"
        },
        "id": "klfy1Sz0SKwh",
        "outputId": "22583c58-278b-4dd6-e7c8-9ee943aa64f7"
      },
      "source": [
        "X_valid_fraud"
      ],
      "execution_count": null,
      "outputs": [
        {
          "output_type": "execute_result",
          "data": {
            "text/plain": [
              "tensor([[3.4764e-03, 8.0292e-01, 2.6158e-01,  ..., 0.0000e+00, 1.0000e+00,\n",
              "         0.0000e+00],\n",
              "        [1.0509e-03, 9.7680e-02, 4.6929e-01,  ..., 0.0000e+00, 1.0000e+00,\n",
              "         0.0000e+00],\n",
              "        [4.3677e-03, 2.3037e-01, 2.1793e-01,  ..., 0.0000e+00, 1.0000e+00,\n",
              "         0.0000e+00],\n",
              "        ...,\n",
              "        [9.6971e-03, 2.6143e-01, 1.4144e-01,  ..., 0.0000e+00, 0.0000e+00,\n",
              "         0.0000e+00],\n",
              "        [7.6979e-04, 1.8143e-01, 5.5452e-01,  ..., 0.0000e+00, 0.0000e+00,\n",
              "         1.0000e+00],\n",
              "        [9.0017e-04, 4.9655e-01, 4.6200e-01,  ..., 0.0000e+00, 0.0000e+00,\n",
              "         0.0000e+00]])"
            ]
          },
          "metadata": {
            "tags": []
          },
          "execution_count": 37
        }
      ]
    },
    {
      "cell_type": "code",
      "metadata": {
        "colab": {
          "base_uri": "https://localhost:8080/"
        },
        "id": "oikMIygYfsp8",
        "outputId": "426d7c86-5cb1-4ffa-9a58-8d4726db9207"
      },
      "source": [
        "len(X_valid_fraud)"
      ],
      "execution_count": null,
      "outputs": [
        {
          "output_type": "execute_result",
          "data": {
            "text/plain": [
              "6140"
            ]
          },
          "metadata": {
            "tags": []
          },
          "execution_count": 38
        }
      ]
    },
    {
      "cell_type": "code",
      "metadata": {
        "colab": {
          "base_uri": "https://localhost:8080/"
        },
        "id": "yde_PUCXSpZ0",
        "outputId": "41f9295c-33f9-49cd-cb0f-c27048b224b7"
      },
      "source": [
        "len(X_correct)"
      ],
      "execution_count": null,
      "outputs": [
        {
          "output_type": "execute_result",
          "data": {
            "text/plain": [
              "398855"
            ]
          },
          "metadata": {
            "tags": []
          },
          "execution_count": 39
        }
      ]
    },
    {
      "cell_type": "code",
      "metadata": {
        "id": "aTl_6TbOfc0S"
      },
      "source": [
        "X_train, X_test , y_train, y_test = skm.train_test_split(X_correct , y_correct , test_size = 0.5 )"
      ],
      "execution_count": null,
      "outputs": []
    },
    {
      "cell_type": "code",
      "metadata": {
        "colab": {
          "base_uri": "https://localhost:8080/"
        },
        "id": "K39-ZKMggSP9",
        "outputId": "85d76a5e-57b8-4590-e677-631ea4d831a8"
      },
      "source": [
        "len(X_train)"
      ],
      "execution_count": null,
      "outputs": [
        {
          "output_type": "execute_result",
          "data": {
            "text/plain": [
              "199427"
            ]
          },
          "metadata": {
            "tags": []
          },
          "execution_count": 41
        }
      ]
    },
    {
      "cell_type": "code",
      "metadata": {
        "colab": {
          "base_uri": "https://localhost:8080/"
        },
        "id": "Li2a7KTfgUCU",
        "outputId": "ff71c59d-4bca-4949-f07b-eadf7a11820e"
      },
      "source": [
        "y_train"
      ],
      "execution_count": null,
      "outputs": [
        {
          "output_type": "execute_result",
          "data": {
            "text/plain": [
              "tensor([0., 0., 0.,  ..., 0., 0., 0.])"
            ]
          },
          "metadata": {
            "tags": []
          },
          "execution_count": 42
        }
      ]
    },
    {
      "cell_type": "code",
      "metadata": {
        "id": "OOm00Bf2TJ_1"
      },
      "source": [
        "del df"
      ],
      "execution_count": null,
      "outputs": []
    },
    {
      "cell_type": "code",
      "metadata": {
        "id": "tVgI0O2mwM1W"
      },
      "source": [
        "del X_correct\n",
        "del y_correct"
      ],
      "execution_count": null,
      "outputs": []
    },
    {
      "cell_type": "code",
      "metadata": {
        "id": "NkiNFR9Jv1ez"
      },
      "source": [
        "import torch.utils.data as dt"
      ],
      "execution_count": null,
      "outputs": []
    },
    {
      "cell_type": "code",
      "metadata": {
        "colab": {
          "base_uri": "https://localhost:8080/"
        },
        "id": "TLSxrMMs5uGD",
        "outputId": "023bd0cb-3e87-497f-c83e-419105e9b5d3"
      },
      "source": [
        "X_train[0][:10]"
      ],
      "execution_count": null,
      "outputs": [
        {
          "output_type": "execute_result",
          "data": {
            "text/plain": [
              "tensor([0.0016, 0.0269, 0.3979, 0.6267, 0.2165, 0.2785, 0.3037, 0.7549, 0.0008,\n",
              "        0.0000])"
            ]
          },
          "metadata": {
            "tags": []
          },
          "execution_count": 44
        }
      ]
    },
    {
      "cell_type": "code",
      "metadata": {
        "id": "NUnE52l4pEEq"
      },
      "source": [
        "batch_size = 100\n",
        "\n",
        "x_train_correct_dl = dt.DataLoader(X_train,batch_size=batch_size)\n",
        "y_train_correct_dl = dt.DataLoader(y_train,batch_size=batch_size)\n",
        "\n",
        "x_test_correct_dl = dt.DataLoader(X_test,batch_size=batch_size)\n",
        "y_test_correct_dl = dt.DataLoader(y_test,batch_size=batch_size)\n"
      ],
      "execution_count": null,
      "outputs": []
    },
    {
      "cell_type": "markdown",
      "metadata": {
        "id": "f5PE9bP_gzE5"
      },
      "source": [
        "<h2>Create Model:<h2>"
      ]
    },
    {
      "cell_type": "code",
      "metadata": {
        "id": "ABQMFLVlhKqQ"
      },
      "source": [
        "import torch.nn as nn"
      ],
      "execution_count": null,
      "outputs": []
    },
    {
      "cell_type": "code",
      "metadata": {
        "id": "2LePpEA8oksM"
      },
      "source": [
        "import torch.nn.functional as F"
      ],
      "execution_count": null,
      "outputs": []
    },
    {
      "cell_type": "code",
      "metadata": {
        "id": "a9WeBt-hg2IZ"
      },
      "source": [
        "class AutoEncoder(nn.Module):\n",
        "    def __init__(self, length):\n",
        "        super().__init__()\n",
        "\n",
        "        self.lin1 = nn.Linear(length,100) #143\n",
        "        self.linb1 = nn.BatchNorm1d(100)\n",
        "        self.lin2 = nn.Linear(100,60)\n",
        "        self.linb2 = nn.BatchNorm1d(60)\n",
        "        self.lin3 = nn.Linear(60,30)\n",
        "        self.linb3 = nn.BatchNorm1d(30)\n",
        "        self.lin4 = nn.Linear(30,15)\n",
        "        self.lin45 = nn.Linear(15,6)\n",
        "        self.linb4 = nn.BatchNorm1d(6)\n",
        "        self.lin46 = nn.Linear(6,15)\n",
        "        self.lin5 = nn.Linear(15,30)\n",
        "        self.linb5 = nn.BatchNorm1d(30)\n",
        "        self.lin6 = nn.Linear(30,60)\n",
        "        self.lin7 = nn.Linear(60,100)\n",
        "        self.linb6 = nn.BatchNorm1d(100)\n",
        "        self.lin8 = nn.Linear(100,length)\n",
        "\n",
        "        self.drop2 = nn.Dropout(0.03)\n",
        "\n",
        "    def forward(self, data):\n",
        "        x = F.relu(self.lin1(data))\n",
        "        x = self.linb1(x)\n",
        "        x = self.drop2(F.relu(self.lin2(x)))\n",
        "        x = self.linb2(x)\n",
        "        x = self.lin3(x)\n",
        "        x= F.relu(x)\n",
        "        x = self.linb3(x)\n",
        "        x = self.drop2(x)\n",
        "        x = F.relu(self.lin4(x))\n",
        "        x = F.relu(self.lin45(x))\n",
        "        x = self.linb4(x)\n",
        "        x = F.relu(self.lin46(x))\n",
        "        x = F.relu(self.lin5(x))\n",
        "        x = self.linb5(x)\n",
        "        x = self.drop2(x)\n",
        "        x = F.relu(self.lin6(x))\n",
        "        x = F.relu(self.lin7(x))\n",
        "        x = self.linb6(x)\n",
        "        x = self.lin8(x)\n",
        "        # x = self.lin9(x)\n",
        "\n",
        "        return x\n",
        "\n",
        "def test(x):\n",
        "  model.eval()\n",
        "  # test_loss = 0\n",
        "  # correct = 0\n",
        "  with torch.no_grad():\n",
        "    predicted = model(V(x))\n",
        "    real = V(x)\n",
        "    return loss(predicted , real ).item()\n"
      ],
      "execution_count": null,
      "outputs": []
    },
    {
      "cell_type": "code",
      "metadata": {
        "id": "LSR12uA0mgzt"
      },
      "source": [
        "import torch.optim\n",
        "import collections"
      ],
      "execution_count": null,
      "outputs": []
    },
    {
      "cell_type": "code",
      "metadata": {
        "colab": {
          "base_uri": "https://localhost:8080/"
        },
        "id": "aZ6gxfqemWRb",
        "outputId": "57084223-a0de-4b6a-b882-4f977b9fa45a"
      },
      "source": [
        "model = AutoEncoder(length)\n",
        "\n",
        "loss=nn.MSELoss()\n",
        "learning_rate = 1e-2\n",
        "optimizer=torch.optim.Adam(model.parameters(), lr=learning_rate)\n",
        "# optimizer=torch.optim.SGD(model.parameters(), lr=learning_rate)\n",
        "\n",
        "print(model)\n",
        "\n",
        "model_hist = collections.namedtuple('Model','epoch loss val_loss')\n",
        "model_loss = model_hist(epoch = [], loss = [], val_loss = [])\n"
      ],
      "execution_count": null,
      "outputs": [
        {
          "output_type": "stream",
          "text": [
            "AutoEncoder(\n",
            "  (lin1): Linear(in_features=143, out_features=100, bias=True)\n",
            "  (linb1): BatchNorm1d(100, eps=1e-05, momentum=0.1, affine=True, track_running_stats=True)\n",
            "  (lin2): Linear(in_features=100, out_features=60, bias=True)\n",
            "  (linb2): BatchNorm1d(60, eps=1e-05, momentum=0.1, affine=True, track_running_stats=True)\n",
            "  (lin3): Linear(in_features=60, out_features=30, bias=True)\n",
            "  (linb3): BatchNorm1d(30, eps=1e-05, momentum=0.1, affine=True, track_running_stats=True)\n",
            "  (lin4): Linear(in_features=30, out_features=15, bias=True)\n",
            "  (lin45): Linear(in_features=15, out_features=6, bias=True)\n",
            "  (linb4): BatchNorm1d(6, eps=1e-05, momentum=0.1, affine=True, track_running_stats=True)\n",
            "  (lin46): Linear(in_features=6, out_features=15, bias=True)\n",
            "  (lin5): Linear(in_features=15, out_features=30, bias=True)\n",
            "  (linb5): BatchNorm1d(30, eps=1e-05, momentum=0.1, affine=True, track_running_stats=True)\n",
            "  (lin6): Linear(in_features=30, out_features=60, bias=True)\n",
            "  (lin7): Linear(in_features=60, out_features=100, bias=True)\n",
            "  (linb6): BatchNorm1d(100, eps=1e-05, momentum=0.1, affine=True, track_running_stats=True)\n",
            "  (lin8): Linear(in_features=100, out_features=143, bias=True)\n",
            "  (drop2): Dropout(p=0.03, inplace=False)\n",
            ")\n"
          ],
          "name": "stdout"
        }
      ]
    },
    {
      "cell_type": "code",
      "metadata": {
        "id": "PKdWTDPOmzm6"
      },
      "source": [
        "from tqdm import tqdm, tqdm_notebook"
      ],
      "execution_count": null,
      "outputs": []
    },
    {
      "cell_type": "code",
      "metadata": {
        "id": "3Xm_RpD2pCuw"
      },
      "source": [
        "from torch.autograd import Variable as V"
      ],
      "execution_count": null,
      "outputs": []
    },
    {
      "cell_type": "code",
      "metadata": {
        "colab": {
          "base_uri": "https://localhost:8080/"
        },
        "id": "nsAMXFx4Qaff",
        "outputId": "9ed0da4c-f119-4159-f987-1e7c78e99894"
      },
      "source": [
        "x_train_correct_dl"
      ],
      "execution_count": null,
      "outputs": [
        {
          "output_type": "execute_result",
          "data": {
            "text/plain": [
              "<torch.utils.data.dataloader.DataLoader at 0x7f98d9fd2208>"
            ]
          },
          "metadata": {
            "tags": []
          },
          "execution_count": 56
        }
      ]
    },
    {
      "cell_type": "code",
      "metadata": {
        "id": "TobV5J7GmtMe"
      },
      "source": [
        "def train(epochs, model, model_loss):\n",
        "    is_overfitted = int(0)\n",
        "    last_val_loss = 1000 #For Early Stopping\n",
        "    try: c = model_loss.epoch[-1]\n",
        "\n",
        "    except: c = 0\n",
        "    for epoch in tqdm_notebook(range(epochs),position=0, total = epochs):\n",
        "        losses=[]\n",
        "        dl = iter(x_train_correct_dl)\n",
        "        for t in range(len(dl)):\n",
        "            model.train()\n",
        "          \n",
        "            xt = next(dl)\n",
        "            y_pred = model(V(xt))\n",
        "            \n",
        "            l = loss(y_pred,V(xt))\n",
        "            losses.append(l)\n",
        "            optimizer.zero_grad()\n",
        "\n",
        "            l.backward()\n",
        "\n",
        "            optimizer.step()\n",
        "\n",
        "        losss= l.item()\n",
        "        if (epoch+1) % 5 == 0:\n",
        "              \n",
        "          val_dl = iter(x_test_correct_dl)\n",
        "          val_scores = [test(next(val_dl)) for i in range(len(val_dl))]\n",
        "\n",
        "          model_loss.epoch.append(c+epoch)\n",
        "          model_loss.loss.append(l.item())\n",
        "          model_loss.val_loss.append(np.mean(val_scores))\n",
        "\n",
        "          val_losss = np.mean(val_scores)\n",
        "\n",
        "          #Check out loss for early stopping\n",
        "          if val_losss > last_val_loss:\n",
        "            is_overfitted +=1\n",
        "          else:\n",
        "            is_overfitted = 0\n",
        "            \n",
        "          last_val_loss = val_losss\n",
        "          if is_overfitted == 3:\n",
        "            print('Starts to overfitting!')\n",
        "            break;\n",
        "\n",
        "          print(f'Epoch: {epoch+1}   Loss: {losss:.4f}  Val_Loss on correct set: {val_losss:.4f}')\n",
        "\n",
        "        else:\n",
        "          print(f'Epoch: {epoch+1}   Loss: {losss:.4f}')"
      ],
      "execution_count": null,
      "outputs": []
    },
    {
      "cell_type": "code",
      "metadata": {
        "id": "-eUegDjhm27P"
      },
      "source": [
        "epochs = 100"
      ],
      "execution_count": null,
      "outputs": []
    },
    {
      "cell_type": "code",
      "metadata": {
        "colab": {
          "base_uri": "https://localhost:8080/",
          "height": 1000,
          "referenced_widgets": [
            "8b9db3ff44aa4dd7aef3e43cde27c171",
            "1f47738eed404558ab607fb41938122f",
            "25677f7661f84a6787398a89cfdaa057",
            "8420d3fa811c4a7ab4fb7a99f547d306",
            "42da47ac14114ee09df38d4af84bb773",
            "34fcd44b7a524afe90e6c790ef8a6e5a",
            "df3e99a421c749068eee8799c8f1e17d",
            "a69f16f1068640c1ac0ecb6afdcc385a"
          ]
        },
        "id": "pSUevI9cJWef",
        "outputId": "e3ae3ff8-2d22-49d5-fedd-9b68621aaba3"
      },
      "source": [
        "train(model=model, epochs=epochs, model_loss=model_loss)"
      ],
      "execution_count": null,
      "outputs": [
        {
          "output_type": "stream",
          "text": [
            "/usr/local/lib/python3.6/dist-packages/ipykernel_launcher.py:7: TqdmDeprecationWarning: This function will be removed in tqdm==5.0.0\n",
            "Please use `tqdm.notebook.tqdm` instead of `tqdm.tqdm_notebook`\n",
            "  import sys\n"
          ],
          "name": "stderr"
        },
        {
          "output_type": "display_data",
          "data": {
            "application/vnd.jupyter.widget-view+json": {
              "model_id": "8b9db3ff44aa4dd7aef3e43cde27c171",
              "version_minor": 0,
              "version_major": 2
            },
            "text/plain": [
              "HBox(children=(FloatProgress(value=0.0), HTML(value='')))"
            ]
          },
          "metadata": {
            "tags": []
          }
        },
        {
          "output_type": "stream",
          "text": [
            "Epoch: 1   Loss: 0.0061\n",
            "Epoch: 2   Loss: 0.0060\n",
            "Epoch: 3   Loss: 0.0067\n",
            "Epoch: 4   Loss: 0.0062\n",
            "Epoch: 5   Loss: 0.0069  Val_Loss on correct set: 0.0027\n",
            "Epoch: 6   Loss: 0.0053\n",
            "Epoch: 7   Loss: 0.0039\n",
            "Epoch: 8   Loss: 0.0034\n",
            "Epoch: 9   Loss: 0.0030\n",
            "Epoch: 10   Loss: 0.0031  Val_Loss on correct set: 0.0014\n",
            "Epoch: 11   Loss: 0.0045\n",
            "Epoch: 12   Loss: 0.0037\n",
            "Epoch: 13   Loss: 0.0037\n",
            "Epoch: 14   Loss: 0.0037\n",
            "Epoch: 15   Loss: 0.0042  Val_Loss on correct set: 0.0015\n",
            "Epoch: 16   Loss: 0.0035\n",
            "Epoch: 17   Loss: 0.0036\n",
            "Epoch: 18   Loss: 0.0033\n",
            "Epoch: 19   Loss: 0.0032\n",
            "Epoch: 20   Loss: 0.0036  Val_Loss on correct set: 0.0013\n",
            "Epoch: 21   Loss: 0.0032\n",
            "Epoch: 22   Loss: 0.0029\n",
            "Epoch: 23   Loss: 0.0033\n",
            "Epoch: 24   Loss: 0.0030\n",
            "Epoch: 25   Loss: 0.0044  Val_Loss on correct set: 0.0012\n",
            "Epoch: 26   Loss: 0.0035\n",
            "Epoch: 27   Loss: 0.0033\n",
            "Epoch: 28   Loss: 0.0040\n",
            "Epoch: 29   Loss: 0.0030\n",
            "Epoch: 30   Loss: 0.0031  Val_Loss on correct set: 0.0011\n",
            "Epoch: 31   Loss: 0.0030\n",
            "Epoch: 32   Loss: 0.0032\n",
            "Epoch: 33   Loss: 0.0032\n",
            "Epoch: 34   Loss: 0.0031\n",
            "Epoch: 35   Loss: 0.0030  Val_Loss on correct set: 0.0011\n",
            "Epoch: 36   Loss: 0.0029\n",
            "Epoch: 37   Loss: 0.0031\n",
            "Epoch: 38   Loss: 0.0032\n",
            "Epoch: 39   Loss: 0.0033\n",
            "Epoch: 40   Loss: 0.0034  Val_Loss on correct set: 0.0010\n",
            "Epoch: 41   Loss: 0.0032\n",
            "Epoch: 42   Loss: 0.0044\n",
            "Epoch: 43   Loss: 0.0032\n",
            "Epoch: 44   Loss: 0.0031\n",
            "Epoch: 45   Loss: 0.0029  Val_Loss on correct set: 0.0010\n",
            "Epoch: 46   Loss: 0.0033\n",
            "Epoch: 47   Loss: 0.0032\n",
            "Epoch: 48   Loss: 0.0049\n",
            "Epoch: 49   Loss: 0.0030\n",
            "Epoch: 50   Loss: 0.0030  Val_Loss on correct set: 0.0010\n",
            "Epoch: 51   Loss: 0.0044\n",
            "Epoch: 52   Loss: 0.0032\n",
            "Epoch: 53   Loss: 0.0031\n",
            "Epoch: 54   Loss: 0.0033\n",
            "Epoch: 55   Loss: 0.0031  Val_Loss on correct set: 0.0010\n",
            "Epoch: 56   Loss: 0.0029\n",
            "Epoch: 57   Loss: 0.0034\n",
            "Epoch: 58   Loss: 0.0043\n",
            "Epoch: 59   Loss: 0.0033\n",
            "Epoch: 60   Loss: 0.0031  Val_Loss on correct set: 0.0009\n",
            "Epoch: 61   Loss: 0.0032\n",
            "Epoch: 62   Loss: 0.0028\n",
            "Epoch: 63   Loss: 0.0034\n",
            "Epoch: 64   Loss: 0.0035\n",
            "Epoch: 65   Loss: 0.0037  Val_Loss on correct set: 0.0010\n",
            "Epoch: 66   Loss: 0.0032\n",
            "Epoch: 67   Loss: 0.0029\n",
            "Epoch: 68   Loss: 0.0032\n",
            "Epoch: 69   Loss: 0.0035\n",
            "Epoch: 70   Loss: 0.0032  Val_Loss on correct set: 0.0009\n",
            "Epoch: 71   Loss: 0.0033\n",
            "Epoch: 72   Loss: 0.0033\n",
            "Epoch: 73   Loss: 0.0030\n",
            "Epoch: 74   Loss: 0.0031\n",
            "Epoch: 75   Loss: 0.0030  Val_Loss on correct set: 0.0009\n",
            "Epoch: 76   Loss: 0.0034\n",
            "Epoch: 77   Loss: 0.0036\n",
            "Epoch: 78   Loss: 0.0030\n",
            "Epoch: 79   Loss: 0.0031\n",
            "Epoch: 80   Loss: 0.0031  Val_Loss on correct set: 0.0009\n",
            "Epoch: 81   Loss: 0.0043\n",
            "Epoch: 82   Loss: 0.0030\n",
            "Epoch: 83   Loss: 0.0031\n",
            "Epoch: 84   Loss: 0.0029\n",
            "Epoch: 85   Loss: 0.0030  Val_Loss on correct set: 0.0009\n",
            "Epoch: 86   Loss: 0.0031\n",
            "Epoch: 87   Loss: 0.0030\n",
            "Epoch: 88   Loss: 0.0029\n",
            "Epoch: 89   Loss: 0.0033\n",
            "Epoch: 90   Loss: 0.0029  Val_Loss on correct set: 0.0009\n",
            "Epoch: 91   Loss: 0.0033\n",
            "Epoch: 92   Loss: 0.0028\n",
            "Epoch: 93   Loss: 0.0035\n",
            "Epoch: 94   Loss: 0.0031\n",
            "Epoch: 95   Loss: 0.0028  Val_Loss on correct set: 0.0009\n",
            "Epoch: 96   Loss: 0.0028\n",
            "Epoch: 97   Loss: 0.0029\n",
            "Epoch: 98   Loss: 0.0031\n",
            "Epoch: 99   Loss: 0.0029\n",
            "Epoch: 100   Loss: 0.0029  Val_Loss on correct set: 0.0009\n",
            "\n"
          ],
          "name": "stdout"
        }
      ]
    },
    {
      "cell_type": "markdown",
      "metadata": {
        "id": "AoE7Zo5wXlpo"
      },
      "source": [
        "Separately try again on test set for each single data and draw a plot to see whether there would be a point to divide into fraud and correct datasets."
      ]
    },
    {
      "cell_type": "code",
      "metadata": {
        "id": "2vZKogr9vkYc"
      },
      "source": [
        "#AGAIN ON TRAIN:\n",
        "x_train_correct_dl = dt.DataLoader(X_train,batch_size=1)\n",
        "x_fraud_dl = dt.DataLoader(X_fraud ,batch_size=1)\n",
        "\n",
        "df_result = pd.DataFrame()\n",
        "df_result['kind'] = [] #F or C\n",
        "df_result['res'] = []\n",
        "\n",
        "#To test on equal number of correct and fraud data\n",
        "cr_dl = iter(x_train_correct_dl)\n",
        "fr_dl = iter(x_fraud_dl)\n",
        "\n",
        "for i in range(500):\n",
        "  df_result = df_result.append({'res':test(next(cr_dl)) , 'kind' : 'C'} , ignore_index=True)\n",
        "  df_result = df_result.append({'res':test(next(fr_dl))  , 'kind' : 'F'} , ignore_index=True)"
      ],
      "execution_count": null,
      "outputs": []
    },
    {
      "cell_type": "code",
      "metadata": {
        "id": "UExsiCGxeCPy"
      },
      "source": [
        "import matplotlib.pyplot as plt\n",
        "import seaborn as sns"
      ],
      "execution_count": null,
      "outputs": []
    },
    {
      "cell_type": "code",
      "metadata": {
        "colab": {
          "base_uri": "https://localhost:8080/",
          "height": 195
        },
        "id": "DVUAnAUUwTYj",
        "outputId": "533ae000-b58c-4fab-cf5a-5b83890a195c"
      },
      "source": [
        "plt.rcParams[\"figure.figsize\"]=30,3\n",
        "\n",
        "sns.scatterplot( x =df_result['res'] ,y =0 , hue = df_result['kind'],marker='|',s=500,alpha = 0.5) #Height is not important\n",
        "sns.scatterplot( x =df_result['res'][df_result['kind'] == 'F'] ,y =-0.1 ,marker='|',s=500,alpha = 0.5)\n",
        "sns.scatterplot( x =df_result['res'][df_result['kind'] == 'C'] ,y =0.1 ,marker='|',s=500,alpha = 0.5) \n",
        "\n",
        "plt.show()"
      ],
      "execution_count": null,
      "outputs": [
        {
          "output_type": "display_data",
          "data": {
            "image/png": "[encoded data removed]",
            "text/plain": [
              "<Figure size 2160x216 with 1 Axes>"
            ]
          },
          "metadata": {
            "tags": [],
            "needs_background": "light"
          }
        }
      ]
    },
    {
      "cell_type": "markdown",
      "metadata": {
        "id": "F5CChVhCXFSk"
      },
      "source": [
        "In the above demographic, *y* is not important and is only used to have all three graphs separately in one plot.\n",
        "\n",
        "\n",
        "First and last one show loss of 500 different correct and fraud data respectively.\n",
        "The graph in between is overlapped of other two.\n",
        "\n",
        "\n",
        "As we see the correct data loss are more dense and compressed to the left, while frauds are more sparsed.\n",
        "\n",
        "(The difference is acutally so slight.)"
      ]
    },
    {
      "cell_type": "code",
      "metadata": {
        "id": "aM6q2eawXwIs"
      },
      "source": [
        "batch_size = 1 #One by one\n",
        "\n",
        "x_test_correct_dl = dt.DataLoader(X_test,batch_size=batch_size)\n",
        "y_test_correct_dl = dt.DataLoader(y_test,batch_size=batch_size)\n",
        "\n",
        "x_fraud_dl = dt.DataLoader(X_fraud ,batch_size=batch_size)\n",
        "y_fraud_dl = dt.DataLoader(y_fraud,batch_size=batch_size)"
      ],
      "execution_count": null,
      "outputs": []
    },
    {
      "cell_type": "code",
      "metadata": {
        "id": "niAo7UlvuV7e"
      },
      "source": [
        "del X_test\n",
        "del y_test\n",
        "del X_fraud\n",
        "del y_fraud"
      ],
      "execution_count": null,
      "outputs": []
    },
    {
      "cell_type": "code",
      "metadata": {
        "colab": {
          "base_uri": "https://localhost:8080/"
        },
        "id": "wlCFLzMvb268",
        "outputId": "70a2ab22-00bc-41bf-b872-e58c3bb1619a"
      },
      "source": [
        "df_result = pd.DataFrame()\n",
        "df_result['kind'] = [] #F or C\n",
        "df_result['res'] = []\n",
        "\n",
        "#To test on equal number of correct and fraud data\n",
        "cr_dl = iter(x_test_correct_dl)\n",
        "fr_dl = iter(x_fraud_dl)\n",
        "\n",
        "for i in range(5_000):\n",
        "  if i%1000 == 0 :\n",
        "    print(i)\n",
        "  df_result = df_result.append({'res':test(next(cr_dl))  , 'kind':'C'} , ignore_index=True)\n",
        "  df_result = df_result.append({'res':test(next(fr_dl))  , 'kind': 'F'} , ignore_index=True)\n",
        "  "
      ],
      "execution_count": null,
      "outputs": [
        {
          "output_type": "stream",
          "text": [
            "0\n",
            "1000\n",
            "2000\n",
            "3000\n",
            "4000\n"
          ],
          "name": "stdout"
        }
      ]
    },
    {
      "cell_type": "code",
      "metadata": {
        "colab": {
          "base_uri": "https://localhost:8080/",
          "height": 204
        },
        "id": "PzCMm7RzhVo-",
        "outputId": "86a30757-3b93-4c76-bbad-490a10b62567"
      },
      "source": [
        "df_result.head(5)"
      ],
      "execution_count": null,
      "outputs": [
        {
          "output_type": "execute_result",
          "data": {
            "text/html": [
              "<div>\n",
              "<style scoped>\n",
              "    .dataframe tbody tr th:only-of-type {\n",
              "        vertical-align: middle;\n",
              "    }\n",
              "\n",
              "    .dataframe tbody tr th {\n",
              "        vertical-align: top;\n",
              "    }\n",
              "\n",
              "    .dataframe thead th {\n",
              "        text-align: right;\n",
              "    }\n",
              "</style>\n",
              "<table border=\"1\" class=\"dataframe\">\n",
              "  <thead>\n",
              "    <tr style=\"text-align: right;\">\n",
              "      <th></th>\n",
              "      <th>kind</th>\n",
              "      <th>res</th>\n",
              "    </tr>\n",
              "  </thead>\n",
              "  <tbody>\n",
              "    <tr>\n",
              "      <th>0</th>\n",
              "      <td>C</td>\n",
              "      <td>0.000509</td>\n",
              "    </tr>\n",
              "    <tr>\n",
              "      <th>1</th>\n",
              "      <td>F</td>\n",
              "      <td>0.000210</td>\n",
              "    </tr>\n",
              "    <tr>\n",
              "      <th>2</th>\n",
              "      <td>C</td>\n",
              "      <td>0.000241</td>\n",
              "    </tr>\n",
              "    <tr>\n",
              "      <th>3</th>\n",
              "      <td>F</td>\n",
              "      <td>0.000223</td>\n",
              "    </tr>\n",
              "    <tr>\n",
              "      <th>4</th>\n",
              "      <td>C</td>\n",
              "      <td>0.000244</td>\n",
              "    </tr>\n",
              "  </tbody>\n",
              "</table>\n",
              "</div>"
            ],
            "text/plain": [
              "  kind       res\n",
              "0    C  0.000509\n",
              "1    F  0.000210\n",
              "2    C  0.000241\n",
              "3    F  0.000223\n",
              "4    C  0.000244"
            ]
          },
          "metadata": {
            "tags": []
          },
          "execution_count": 66
        }
      ]
    },
    {
      "cell_type": "code",
      "metadata": {
        "id": "JehlIj87c5I1"
      },
      "source": [
        "import seaborn as sns\n",
        "import matplotlib.pyplot as plt"
      ],
      "execution_count": null,
      "outputs": []
    },
    {
      "cell_type": "code",
      "metadata": {
        "colab": {
          "base_uri": "https://localhost:8080/",
          "height": 195
        },
        "id": "TWHwX7iMc9L9",
        "outputId": "109fd7f4-0105-486d-b7d1-eb084bdfe2bf"
      },
      "source": [
        "plt.rcParams[\"figure.figsize\"]=30,3\n",
        "\n",
        "sns.scatterplot( x =df_result['res'] ,y =0 , hue = df_result['kind'],marker='|',s=500,alpha = 0.5) #Height is not important\n",
        "sns.scatterplot( x =df_result['res'][df_result['kind'] == 'F'] ,y =-0.1 ,marker='|',s=500,alpha = 0.5)\n",
        "sns.scatterplot( x =df_result['res'][df_result['kind'] == 'C'] ,y =0.1 ,marker='|',s=500,alpha = 0.5) \n",
        "\n",
        "plt.show()"
      ],
      "execution_count": null,
      "outputs": [
        {
          "output_type": "display_data",
          "data": {
            "image/png": "[encoded data removed]",
            "text/plain": [
              "<Figure size 2160x216 with 1 Axes>"
            ]
          },
          "metadata": {
            "tags": [],
            "needs_background": "light"
          }
        }
      ]
    },
    {
      "cell_type": "markdown",
      "metadata": {
        "id": "lhC9rSETYJkC"
      },
      "source": [
        "The result is somehow same as last plot."
      ]
    },
    {
      "cell_type": "markdown",
      "metadata": {
        "id": "cxCmCoPJo9bV"
      },
      "source": [
        "It seems the seperator can be 0.002.\n",
        "\n",
        "(It would be better if we created another neural network to predict whether a data loss value comming from autoencoder is for fraud or correct.)\n",
        "\n"
      ]
    },
    {
      "cell_type": "code",
      "metadata": {
        "id": "TX1YjG0VpCRs"
      },
      "source": [
        "y_predicts = []\n",
        "y = []\n",
        "separator = 0.002\n",
        "\n",
        "for i in range(len(df_result)):\n",
        "\n",
        "  if df_result.iloc[i]['kind'] == 'C':\n",
        "    y.append(0)\n",
        "  else:\n",
        "    y.append(1)\n",
        "\n",
        "  if df_result.iloc[i]['res'] < separator:\n",
        "    y_predicts.append(0)\n",
        "  else:\n",
        "    y_predicts.append(1)\n",
        "  "
      ],
      "execution_count": null,
      "outputs": []
    },
    {
      "cell_type": "code",
      "metadata": {
        "id": "DYqTFP-GpMF_"
      },
      "source": [
        "y_predicts[:5]"
      ],
      "execution_count": null,
      "outputs": []
    },
    {
      "cell_type": "code",
      "metadata": {
        "id": "sIMs3hkHpyVO"
      },
      "source": [
        "from sklearn.metrics import confusion_matrix\n",
        "\n",
        "data = confusion_matrix( y, y_predicts)\n",
        "df_cm = pd.DataFrame(data)\n",
        "df_cm.index.name = 'Actual Is Fraud'\n",
        "df_cm.columns.name = 'Predicted Is Fraud'\n",
        "plt.figure(figsize = (5,5))\n",
        "sns.set(font_scale=1)#for label size\n",
        "sns.heatmap(df_cm, cmap=\"Greens\",fmt=\"d\", annot=True,annot_kws={\"size\": 18})# font size\n",
        "plt.show()"
      ],
      "execution_count": null,
      "outputs": []
    },
    {
      "cell_type": "code",
      "metadata": {
        "id": "XOB004RFi0cs"
      },
      "source": [
        " X_corr_valid_dl = dt.DataLoader(X_valid_corr,batch_size=1)\n",
        " X_fraud_valid_dl = dt.DataLoader(X_valid_fraud,batch_size=1)"
      ],
      "execution_count": null,
      "outputs": []
    },
    {
      "cell_type": "code",
      "metadata": {
        "id": "gyF3OwgTrnDa"
      },
      "source": [
        "len(X_corr_valid_dl)"
      ],
      "execution_count": null,
      "outputs": []
    },
    {
      "cell_type": "code",
      "metadata": {
        "id": "sHklkauUrszg"
      },
      "source": [
        "len(X_fraud_valid_dl)"
      ],
      "execution_count": null,
      "outputs": []
    },
    {
      "cell_type": "code",
      "metadata": {
        "id": "Tn9oCU8WiT-k"
      },
      "source": [
        "df_valid = pd.DataFrame()\n",
        "df_valid['kind'] = [] #F or C\n",
        "df_valid['res'] = []\n",
        "\n",
        "#To test pn equal number of correct and fraud data\n",
        "cr_valid_dl = iter(X_corr_valid_dl)\n",
        "fr_valid_dl = iter(X_fraud_valid_dl)\n",
        "\n",
        "for i in range(1_000):\n",
        "  df_valid = df_valid.append({'res':test(next(cr_valid_dl))  , 'kind':'C'} , ignore_index=True)\n",
        "  df_valid = df_valid.append({'res':test(next(fr_valid_dl))  , 'kind': 'F'} , ignore_index=True)\n",
        "  # if i%1000 == 0:\n",
        "  #   print(i)"
      ],
      "execution_count": null,
      "outputs": []
    },
    {
      "cell_type": "code",
      "metadata": {
        "id": "_G38HAHLreCL"
      },
      "source": [
        "df_valid.head(20).T"
      ],
      "execution_count": null,
      "outputs": []
    },
    {
      "cell_type": "code",
      "metadata": {
        "id": "3NyB_zOirXgT"
      },
      "source": [
        "sns.scatterplot( x =df_valid['res'] ,y =0 , hue = df_valid['kind'],marker = '|',s=500,alpha = 0.5) #Height is not important\n",
        "sns.scatterplot( x =df_valid['res'][df_valid['kind']=='C'] ,y =0.1 ,marker = '|',s=500,alpha = 1)\n",
        "sns.scatterplot( x =df_valid['res'][df_valid['kind']=='F'] ,y =-0.1 ,marker = '|',s=500,alpha = 1)\n",
        "plt.show()"
      ],
      "execution_count": null,
      "outputs": []
    },
    {
      "cell_type": "code",
      "metadata": {
        "id": "sg7BBBlSt5fl"
      },
      "source": [
        "del fr_valid_dl\n",
        "del cr_valid_dl\n",
        "del X_corr_valid_dl\n",
        "del X_fraud_valid_dl\n",
        "del df_result"
      ],
      "execution_count": null,
      "outputs": []
    },
    {
      "cell_type": "code",
      "metadata": {
        "id": "5GtmCZWjjJIP"
      },
      "source": [
        "y_predicts = []\n",
        "y = []\n",
        "separator = 0.0025\n",
        "\n",
        "for i in range(len(df_valid)):\n",
        "\n",
        "  if df_valid.iloc[i]['kind'] == 'C':\n",
        "    y.append(0)\n",
        "  else:\n",
        "    y.append(1)\n",
        "\n",
        "  if df_valid.iloc[i]['res'] < separator:\n",
        "    y_predicts.append(0)\n",
        "  else:\n",
        "    y_predicts.append(1)"
      ],
      "execution_count": null,
      "outputs": []
    },
    {
      "cell_type": "code",
      "metadata": {
        "id": "hs60AFk1tEZE"
      },
      "source": [
        "y_predicts[:10]"
      ],
      "execution_count": null,
      "outputs": []
    },
    {
      "cell_type": "code",
      "metadata": {
        "id": "MUySlCiZtIYE"
      },
      "source": [
        "y[:10]"
      ],
      "execution_count": null,
      "outputs": []
    },
    {
      "cell_type": "code",
      "metadata": {
        "id": "VLNtOfCGjPxI"
      },
      "source": [
        "#Calculate Accuracy on Validation\n",
        "correct = 0.0\n",
        "for i in range(len(y)):\n",
        "  if y_predicts[i] == y[i]:\n",
        "    correct = correct +1\n",
        "print(correct/len(y) , correct)"
      ],
      "execution_count": null,
      "outputs": []
    },
    {
      "cell_type": "code",
      "metadata": {
        "id": "lKH5v2sHR2D3"
      },
      "source": [
        "data = confusion_matrix( y, y_predicts)\n",
        "df_cm = pd.DataFrame(data)\n",
        "df_cm.index.name = 'Actual Is Fraud'\n",
        "df_cm.columns.name = 'Predicted Is Fraud'\n",
        "plt.figure(figsize = (5,5))\n",
        "sns.set(font_scale=1)#for label size\n",
        "sns.heatmap(df_cm, cmap=\"Reds\",fmt=\"d\", annot=True,annot_kws={\"size\": 18})# font size\n",
        "plt.show()"
      ],
      "execution_count": null,
      "outputs": []
    },
    {
      "cell_type": "code",
      "metadata": {
        "id": "CzhNUEu-tu-t"
      },
      "source": [
        "del df_valid\n",
        "del y \n",
        "del y_predicts"
      ],
      "execution_count": null,
      "outputs": []
    },
    {
      "cell_type": "code",
      "metadata": {
        "id": "nnYDiIv1bhbY"
      },
      "source": [
        "torch.save(model.state_dict(), 'weights.pkl')"
      ],
      "execution_count": null,
      "outputs": []
    },
    {
      "cell_type": "markdown",
      "metadata": {
        "id": "4k-8hvdAsraZ"
      },
      "source": [
        "##Result on Test Set:"
      ]
    },
    {
      "cell_type": "code",
      "metadata": {
        "id": "vRY4SnZ8svWM"
      },
      "source": [
        "df_test = pd.read_csv('/content/drive/MyDrive/Colab Notebooks/Proj3/Proj3/test_transaction.csv')\n",
        "df_test_id = pd.read_csv('/content/drive/MyDrive/Colab Notebooks/Proj3/Proj3/test_identity.csv')[['TransactionID','DeviceType']]"
      ],
      "execution_count": null,
      "outputs": []
    },
    {
      "cell_type": "code",
      "metadata": {
        "id": "UbDI19mntF5B"
      },
      "source": [
        "df_test = pd.merge(df_test,df_test_id,on='TransactionID',how='outer')"
      ],
      "execution_count": null,
      "outputs": []
    },
    {
      "cell_type": "code",
      "metadata": {
        "id": "zLrk6OcONtGe"
      },
      "source": [
        "df_test.shape"
      ],
      "execution_count": null,
      "outputs": []
    },
    {
      "cell_type": "code",
      "metadata": {
        "id": "wH-TMV49Mje5"
      },
      "source": [
        "ID = df_test['TransactionID']"
      ],
      "execution_count": null,
      "outputs": []
    },
    {
      "cell_type": "code",
      "metadata": {
        "id": "vxNtwL99tac2"
      },
      "source": [
        "del df_test_id #make ram free"
      ],
      "execution_count": null,
      "outputs": []
    },
    {
      "cell_type": "code",
      "metadata": {
        "id": "53KscX9Wth4g"
      },
      "source": [
        "df_test.drop(labels=['TransactionID'],axis = 1, inplace=True)"
      ],
      "execution_count": null,
      "outputs": []
    },
    {
      "cell_type": "code",
      "metadata": {
        "id": "-sOhKflltkqy"
      },
      "source": [
        "df_test = pd.get_dummies(df_test)"
      ],
      "execution_count": null,
      "outputs": []
    },
    {
      "cell_type": "code",
      "metadata": {
        "id": "UnLeogURtyQC"
      },
      "source": [
        "for c in df_test.columns:\n",
        "  if df_test[c].isnull().sum() == len(df_test[c]):\n",
        "    df_test.drop(labels = [c],axis = 1,inplace = True)\n",
        "    continue\n",
        "\n",
        "  df_test[c] = df_test[c].fillna(np.nanmedian(df_test[c]))"
      ],
      "execution_count": null,
      "outputs": []
    },
    {
      "cell_type": "code",
      "metadata": {
        "id": "qH8b2u6itrua"
      },
      "source": [
        "for c in df_test.columns:\n",
        "\n",
        "  min = df_test[c].min()\n",
        "  max = df_test[c].max()\n",
        "  df_test[c] = ((df_test[c]-min)/max).astype('float16')\n",
        "  if df_test[c].isnull().sum() == len(df_test[c]):\n",
        "    df_test.drop(labels = [c],axis = 1,inplace = True)"
      ],
      "execution_count": null,
      "outputs": []
    },
    {
      "cell_type": "code",
      "metadata": {
        "id": "Wg53g4w2L5zi"
      },
      "source": [
        "df_test.shape"
      ],
      "execution_count": null,
      "outputs": []
    },
    {
      "cell_type": "code",
      "metadata": {
        "id": "ex5BdMGduI90"
      },
      "source": [
        "x = torch.unsqueeze(torch.FloatTensor(df_test.values),1)"
      ],
      "execution_count": null,
      "outputs": []
    },
    {
      "cell_type": "code",
      "metadata": {
        "id": "Ew7oc4FnHh8s"
      },
      "source": [
        "x.shape"
      ],
      "execution_count": null,
      "outputs": []
    },
    {
      "cell_type": "code",
      "metadata": {
        "id": "EonmmnAWk-Vk"
      },
      "source": [
        "ID.isna().sum()"
      ],
      "execution_count": null,
      "outputs": []
    },
    {
      "cell_type": "code",
      "metadata": {
        "id": "F9Mo-MkHuWVy"
      },
      "source": [
        "df_result = pd.DataFrame()\n",
        "df_result['TransactionID'] = []\n",
        "df_result['isFraud'] = []\n",
        "\n",
        "#To test on equal number of correct and fraud data\n",
        "for i in range(len(ID)):\n",
        "  df_result =  df_result.append( {'isFraud':test(x[i]), 'TransactionID':ID[i] } , ignore_index=True)\n",
        "  if i%50_000 == 0:\n",
        "    print(i)\n",
        "  "
      ],
      "execution_count": null,
      "outputs": []
    },
    {
      "cell_type": "code",
      "metadata": {
        "id": "LXtY1RjpNanc"
      },
      "source": [
        "df_result.head(20)"
      ],
      "execution_count": null,
      "outputs": []
    },
    {
      "cell_type": "code",
      "metadata": {
        "id": "EJtC4sKw45eb"
      },
      "source": [
        "res = []\n",
        "separator\n",
        "for i in range(len(df_result)):\n",
        "  if df_result['isFraud'][i] < 0.003:\n",
        "    res.append(0)\n",
        "  else:\n",
        "    res.append(1)"
      ],
      "execution_count": null,
      "outputs": []
    },
    {
      "cell_type": "code",
      "metadata": {
        "id": "klCuHN1zrxdY"
      },
      "source": [
        "pd.Series(res).value_counts()"
      ],
      "execution_count": null,
      "outputs": []
    },
    {
      "cell_type": "code",
      "metadata": {
        "id": "KZyY8NEYsIIB"
      },
      "source": [
        "df_result['TransactionID'] = ID.astype('int32')"
      ],
      "execution_count": null,
      "outputs": []
    },
    {
      "cell_type": "code",
      "metadata": {
        "id": "XB_kDYh0vGK1"
      },
      "source": [
        "df_result['isFraud'] = res"
      ],
      "execution_count": null,
      "outputs": []
    },
    {
      "cell_type": "code",
      "metadata": {
        "id": "5nFkj_5ONYFw"
      },
      "source": [
        "pd.Series(df_result['isFraud']).value_counts()"
      ],
      "execution_count": null,
      "outputs": []
    },
    {
      "cell_type": "code",
      "metadata": {
        "id": "bzMz3ktFPuTF"
      },
      "source": [
        "df_result.shape"
      ],
      "execution_count": null,
      "outputs": []
    },
    {
      "cell_type": "code",
      "metadata": {
        "id": "e0Q1bEqYNX3b"
      },
      "source": [
        "df_result.to_csv('Result.csv',index=False)"
      ],
      "execution_count": null,
      "outputs": []
    }
  ]
}